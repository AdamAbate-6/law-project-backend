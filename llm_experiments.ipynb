{
 "cells": [
  {
   "cell_type": "code",
   "execution_count": 1,
   "metadata": {},
   "outputs": [],
   "source": [
    "import yaml\n",
    "import langchain\n",
    "from langchain.document_loaders import PyPDFLoader\n",
    "from langchain.vectorstores import FAISS\n",
    "from langchain.embeddings.openai import OpenAIEmbeddings"
   ]
  },
  {
   "attachments": {},
   "cell_type": "markdown",
   "metadata": {},
   "source": [
    "Load API key."
   ]
  },
  {
   "cell_type": "code",
   "execution_count": 11,
   "metadata": {},
   "outputs": [],
   "source": [
    "with open('api_keys.yaml', 'r') as f:\n",
    "    keys = yaml.safe_load(f)\n",
    "\n",
    "openai_api_key = keys['openai']"
   ]
  },
  {
   "cell_type": "code",
   "execution_count": 3,
   "metadata": {},
   "outputs": [],
   "source": [
    "loader = PyPDFLoader(\"example_data/Aviza_et_al_2007.pdf\")\n",
    "pages = loader.load_and_split()"
   ]
  },
  {
   "cell_type": "code",
   "execution_count": 6,
   "metadata": {},
   "outputs": [
    {
     "data": {
      "text/plain": [
       "[2464, 54, 54, 103, 54, 54, 66, 54, 54, 3963, 3350, 3998, 2179, 2647]"
      ]
     },
     "execution_count": 6,
     "metadata": {},
     "output_type": "execute_result"
    }
   ],
   "source": [
    "[len(p.page_content) for p in pages]"
   ]
  },
  {
   "attachments": {},
   "cell_type": "markdown",
   "metadata": {},
   "source": [
    "NOTE: Not sure if all patents will be like this, but some \"pages\" are just headers since the actual content consists of images."
   ]
  },
  {
   "cell_type": "code",
   "execution_count": 8,
   "metadata": {},
   "outputs": [
    {
     "data": {
      "text/plain": [
       "'U.S. Patent Sep. 25, 2007 Sheet 6 0f 8 \\n {I 6 \\n £3 US 7,272,991 B2'"
      ]
     },
     "execution_count": 8,
     "metadata": {},
     "output_type": "execute_result"
    }
   ],
   "source": [
    "pages[6].page_content"
   ]
  },
  {
   "cell_type": "code",
   "execution_count": 7,
   "metadata": {},
   "outputs": [
    {
     "name": "stdout",
     "output_type": "stream",
     "text": [
      "1: U.S. Patent Sep. 25, 2007 Sheet 1 0f 8 US 7,272,991 B2\n",
      "7: U.S. Patent Sep. 25, 2007 Sheet 7 0f 8 US 7,272,991 B2\n"
     ]
    },
    {
     "data": {
      "text/plain": [
       "[Document(page_content='U.S. Patent Sep. 25, 2007 Sheet 1 0f 8 US 7,272,991 B2', metadata={'source': 'example_data/Aviza_et_al_2007.pdf', 'page': 1}),\n",
       " Document(page_content='U.S. Patent Sep. 25, 2007 Sheet 7 0f 8 US 7,272,991 B2', metadata={'source': 'example_data/Aviza_et_al_2007.pdf', 'page': 7})]"
      ]
     },
     "execution_count": 7,
     "metadata": {},
     "output_type": "execute_result"
    }
   ],
   "source": [
    "faiss_index = FAISS.from_documents(pages, OpenAIEmbeddings(openai_api_key=openai_api_key))\n",
    "docs = faiss_index.similarity_search(\"Summarize the independent claims.\", k=2)\n",
    "for doc in docs:\n",
    "    print(str(doc.metadata[\"page\"]) + \":\", doc.page_content)\n",
    "docs"
   ]
  },
  {
   "cell_type": "code",
   "execution_count": 13,
   "metadata": {},
   "outputs": [],
   "source": [
    "from langchain.chains import LLMChain\n",
    "from langchain.chains.question_answering import load_qa_chain\n",
    "from langchain.chains.conversational_retrieval.prompts import CONDENSE_QUESTION_PROMPT"
   ]
  },
  {
   "cell_type": "code",
   "execution_count": 14,
   "metadata": {},
   "outputs": [],
   "source": [
    "from langchain.llms import OpenAI\n",
    "from langchain.chains import ConversationalRetrievalChain"
   ]
  },
  {
   "cell_type": "code",
   "execution_count": 16,
   "metadata": {},
   "outputs": [],
   "source": [
    "qa = ConversationalRetrievalChain.from_llm(OpenAI(temperature=0, openai_api_key=openai_api_key), faiss_index.as_retriever(), return_source_documents=True)"
   ]
  },
  {
   "cell_type": "code",
   "execution_count": 19,
   "metadata": {},
   "outputs": [],
   "source": [
    "chat_history = []\n",
    "query = \"What are the independent claims of US 7,272,991\"\n",
    "result = qa({\"question\": query, \"chat_history\": chat_history})"
   ]
  },
  {
   "cell_type": "code",
   "execution_count": 20,
   "metadata": {},
   "outputs": [
    {
     "data": {
      "text/plain": [
       "{'question': 'What are the independent claims of US 7,272,991',\n",
       " 'chat_history': [],\n",
       " 'answer': \" I don't know.\",\n",
       " 'source_documents': [Document(page_content='U.S. Patent Sep. 25, 2007 Sheet 7 0f 8 US 7,272,991 B2', metadata={'source': 'example_data/Aviza_et_al_2007.pdf', 'page': 7}),\n",
       "  Document(page_content='U.S. Patent Sep. 25, 2007 Sheet 1 0f 8 US 7,272,991 B2', metadata={'source': 'example_data/Aviza_et_al_2007.pdf', 'page': 1}),\n",
       "  Document(page_content='U.S. Patent Sep. 25, 2007 Sheet 2 0f 8 US 7,272,991 B2', metadata={'source': 'example_data/Aviza_et_al_2007.pdf', 'page': 2}),\n",
       "  Document(page_content='U.S. Patent Sep. 25, 2007 Sheet 5 0f 8 US 7,272,991 B2', metadata={'source': 'example_data/Aviza_et_al_2007.pdf', 'page': 5})]}"
      ]
     },
     "execution_count": 20,
     "metadata": {},
     "output_type": "execute_result"
    }
   ],
   "source": [
    "result"
   ]
  },
  {
   "cell_type": "code",
   "execution_count": 1,
   "metadata": {},
   "outputs": [
    {
     "ename": "NameError",
     "evalue": "name 'faiss_index' is not defined",
     "output_type": "error",
     "traceback": [
      "\u001b[1;31m---------------------------------------------------------------------------\u001b[0m",
      "\u001b[1;31mNameError\u001b[0m                                 Traceback (most recent call last)",
      "Cell \u001b[1;32mIn[1], line 1\u001b[0m\n\u001b[1;32m----> 1\u001b[0m faiss_index\u001b[39m.\u001b[39mdocstore\u001b[39m.\u001b[39m_dict\n",
      "\u001b[1;31mNameError\u001b[0m: name 'faiss_index' is not defined"
     ]
    }
   ],
   "source": [
    "faiss_index.docstore._dict"
   ]
  },
  {
   "cell_type": "code",
   "execution_count": null,
   "metadata": {},
   "outputs": [],
   "source": [
    "llm = OpenAI(temperature=0)\n",
    "question_generator = LLMChain(llm=llm, prompt=CONDENSE_QUESTION_PROMPT)\n",
    "doc_chain = load_qa_chain(llm, chain_type=\"map_reduce\")\n",
    "\n",
    "chain = ConversationalRetrievalChain(\n",
    "    retriever=faiss_index.as_retriever(),\n",
    "    question_generator=question_generator,\n",
    "    combine_docs_chain=doc_chain,\n",
    ")"
   ]
  }
 ],
 "metadata": {
  "kernelspec": {
   "display_name": "law-project-backend-Kz-JhaCG",
   "language": "python",
   "name": "python3"
  },
  "language_info": {
   "codemirror_mode": {
    "name": "ipython",
    "version": 3
   },
   "file_extension": ".py",
   "mimetype": "text/x-python",
   "name": "python",
   "nbconvert_exporter": "python",
   "pygments_lexer": "ipython3",
   "version": "3.11.0"
  },
  "orig_nbformat": 4,
  "vscode": {
   "interpreter": {
    "hash": "44494df1af92ede321266b96908922b8eae1fd08879211d2cc94f1824e1b253c"
   }
  }
 },
 "nbformat": 4,
 "nbformat_minor": 2
}
