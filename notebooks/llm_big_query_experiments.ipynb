{
 "cells": [
  {
   "cell_type": "code",
   "execution_count": 75,
   "metadata": {},
   "outputs": [],
   "source": [
    "import yaml\n",
    "import os\n",
    "\n",
    "from langchain.embeddings.openai import OpenAIEmbeddings\n",
    "from langchain.vectorstores import FAISS\n",
    "from langchain.prompts import PromptTemplate\n",
    "from langchain.document_loaders import BigQueryLoader\n",
    "from langchain.chains.qa_with_sources import load_qa_with_sources_chain\n",
    "from langchain.llms import OpenAI"
   ]
  },
  {
   "attachments": {},
   "cell_type": "markdown",
   "metadata": {},
   "source": [
    "## Authentication"
   ]
  },
  {
   "attachments": {},
   "cell_type": "markdown",
   "metadata": {},
   "source": [
    "Load OpenAI API Key"
   ]
  },
  {
   "cell_type": "code",
   "execution_count": 3,
   "metadata": {},
   "outputs": [],
   "source": [
    "with open('../api_keys.yaml', 'r') as f:\n",
    "    keys = yaml.safe_load(f)\n",
    "\n",
    "openai_api_key = keys['openai']"
   ]
  },
  {
   "attachments": {},
   "cell_type": "markdown",
   "metadata": {},
   "source": [
    "Authenticate to BigQuery"
   ]
  },
  {
   "cell_type": "code",
   "execution_count": 4,
   "metadata": {},
   "outputs": [],
   "source": [
    "os.environ['GOOGLE_APPLICATION_CREDENTIALS'] = '../law-project-service-account.json'"
   ]
  },
  {
   "cell_type": "code",
   "execution_count": 44,
   "metadata": {},
   "outputs": [],
   "source": [
    "QUERY = (\n",
    "    'SELECT spif_publication_number as patent_number, t.text as title,  a.text as abstract, c.text as claims '\n",
    "    'FROM `patents-public-data.patents.publications`, UNNEST(title_localized) as t, UNNEST(abstract_localized) as a,  UNNEST(claims_localized) as c '\n",
    "    'WHERE spif_publication_number = \"US8205344B2\" '\n",
    "    'LIMIT 100')"
   ]
  },
  {
   "attachments": {},
   "cell_type": "markdown",
   "metadata": {},
   "source": [
    "## BigQuery Doc Loading"
   ]
  },
  {
   "cell_type": "code",
   "execution_count": 45,
   "metadata": {},
   "outputs": [],
   "source": [
    "loader = BigQueryLoader(QUERY)\n",
    "\n",
    "data = loader.load()"
   ]
  },
  {
   "cell_type": "code",
   "execution_count": 46,
   "metadata": {},
   "outputs": [
    {
     "name": "stdout",
     "output_type": "stream",
     "text": [
      "[Document(page_content='patent_number: US8205344B2\\ntitle: Safety razor having pivotable blade unit\\nabstract: A safety razor having a blade unit has at least one blade and a handle casing. A pivotal connection structure is disposed between the blade unit and the handle casing. A first member is connected to the blade unit and a second member is connected to the handle casing. A joint member connects the first member and the second member and facilitates movement of the first member relative to the second member about a hinge axis that is substantially perpendicular to the at least one blade.\\nclaims: 1. A safety razor comprising:\\n a blade unit having at least one blade having a cutting edge; \\n a handle casing; \\n a pivotal connection structure including: \\n a first member connected to the blade unit; \\n a second member connected to the handle casing; and \\n a joint member comprising a plurality of separated joint elements which are disposed along the perpendicular pivot axis, and which connect the first member and the second member that facilitates movement of the first member relative to the second member about a hinge axis that is substantially perpendicular to the at least one cutting edge, wherein the first member has a joint portion, the second member has a joint portion, and the joint member has a thinner wall section toward the hinge axis than toward at least one of the joint portions of the first and second members. \\n \\n     \\n     \\n       2. The safety razor of claim l wherein the joint member includes a plurality of separated joint elements which are disposed along the perpendicular pivot axis. \\n     \\n     \\n       3. The safety razor of  claim 1  wherein the first and second members and the joint member are formed by an identical material. \\n     \\n     \\n       4. The safety razor of  claim 3  wherein the joint member is formed by a unitary material. \\n     \\n     \\n       5. The safety razor according of  claim 3  wherein the first and second members and the joint member are formed by an injection molding process of a thermo plastic material. \\n     \\n     \\n       6. The safety razor of claim l wherein at least one of the first and second members has a convexly curved face facing the other of the first and second members. \\n     \\n     \\n       7. The safety razor of  claim 1  wherein the blade unit has a pivotal connection structure for a pivotal movement about a parallel pivot axis which is substantially parallel to the at least one blade. \\n     \\n     \\n       8. The safety razor of  claim 7  wherein the pivotal connection structure includes a pair of latch arms that secure the pivotal connection structure to the handle casing. \\n     \\n     \\n       9. The safety razor of  claim 7  wherein the blade unit includes a frame with a cam surface and the handle unit includes a spring-biased plunger with a rounded distal end that contacts the cam surface at a location spaced from the parallel pivot axis to impart a biasing force to the frame. \\n     \\n     \\n       10. The safety razor of  claim 1  further comprising a shaving cartridge which is detachable from the handle unit, wherein the shaving cartridge includes the blade unit and the pivotal connection structure. \\n     \\n     \\n       11. The safety razor of  claim 1  further comprising a shaving cartridge which is detachable from the handle unit, wherein the shaving cartridge includes the blade unit and the handle unit includes the pivotal connection structure. \\n     \\n     \\n       12. The safety razor of  claim 1  wherein the separated joint elements include a triangular prism shaped base member and an elastic plate member extending from the base member. \\n     \\n     \\n       13. The safety razor of  claim 12  wherein the elastic plate member is a leaf spring formed by a metal material. \\n     \\n     \\n       14. The safety razor according to  claim 1 , wherein each of the plurality of separated joint elements includes a bearing having a cylindrical shape fixed to the second member and a pivot shaft having one end fixed to the first member and the other end inserted into the bearing. \\n     \\n     \\n       15. A safety razor comprising a blade unit having at least one blade having a cutting edge, a handle unit having a handle casing, and a pivotal connection structure disposed between the blade unit and the handle casing, the blade unit being connected to the handle casing through the pivotal connection structure for a pivotal movement relative thereto about a perpendicular pivot axis which is substantially perpendicular to the at least one cutting edge for following the skin contours of a user during shaving, the pivotal connection structure including;\\n (a) a first member connected to the blade unit, the first member having a joint portion, \\n (b) a second member connected to the handle casing, the second member having a joint portion, and \\n (c) a joint member for jointing, in a hinged manner, the joint portion of the first member with the joint portion of the second member, the pivotal connection structure is constructed such that the joint member has a hinge axis disposed between the joint portions of the first and second members, which works as the perpendicular pivot axis, the joint member includes a plurality of separated joint elements which are disposed along the perpendicular pivot axis wherein each of the plurality of separated joint elements includes a bearing having a cylindrical shape fixed to the second member, and a pivot shaft having one end fixed to the first member and the other end inserted into the bearing. \\n \\n     \\n     \\n       16. The safety razor according to  claim 15 , wherein the first and second members and the joint member are formed by an injection molding process of a thermo plastic material. \\n     \\n     \\n       17. The safety razor according to  claim 15 , wherein at least one of the first and second members has a convexly curved face facing the other of the first and second members. \\n     \\n     \\n       18. The safety razor according to  claim 15 , further comprising a shaving cartridge which is detachable from the handle unit, wherein the shaving cartridge includes the blade unit and the pivotal connection structure. \\n     \\n     \\n       19. The safety razor according to  claim 15 , further comprising a shaving cartridge which is detachable from the handle unit, wherein the shaving cartridge includes the blade unit and the handle unit includes the pivotal connection structure.', metadata={})]\n"
     ]
    }
   ],
   "source": [
    "print(data)"
   ]
  },
  {
   "attachments": {},
   "cell_type": "markdown",
   "metadata": {},
   "source": [
    "# Document(s) QA"
   ]
  },
  {
   "attachments": {},
   "cell_type": "markdown",
   "metadata": {},
   "source": [
    "## Chunking"
   ]
  },
  {
   "attachments": {},
   "cell_type": "markdown",
   "metadata": {},
   "source": [
    "### Split query results into chunks"
   ]
  },
  {
   "cell_type": "code",
   "execution_count": 47,
   "metadata": {},
   "outputs": [
    {
     "name": "stdout",
     "output_type": "stream",
     "text": [
      "page_content='patent_number: US8205344B2\\ntitle: Safety razor having pivotable blade unit\\nabstract: A safety razor having a blade unit has at least one blade and a handle casing. A pivotal connection structure is disposed between the blade unit and the handle casing. A first member is connected to the blade unit and a second member is connected to the handle casing. A joint member connects the first member and the second member and facilitates movement of the first member relative to the second member about a hinge axis that is substantially perpendicular to the at least one blade.\\nclaims: 1. A safety razor comprising:\\n a blade unit having at least one blade having a cutting edge; \\n a handle casing; \\n a pivotal connection structure including: \\n a first member connected to the blade unit; \\n a second member connected to the handle casing; and' metadata={}\n",
      "7\n"
     ]
    }
   ],
   "source": [
    "from langchain.text_splitter import RecursiveCharacterTextSplitter \n",
    "text_splitter = RecursiveCharacterTextSplitter (\n",
    "    # Set a really small chunk size, just to show.\n",
    "    chunk_size = 1000,\n",
    "    chunk_overlap  = 0\n",
    ")\n",
    "texts = text_splitter.split_documents(data)\n",
    "print(texts[0])\n",
    "print(len(texts))"
   ]
  },
  {
   "attachments": {},
   "cell_type": "markdown",
   "metadata": {},
   "source": [
    "Give a source index to each of the doc chunks."
   ]
  },
  {
   "cell_type": "code",
   "execution_count": 52,
   "metadata": {},
   "outputs": [
    {
     "data": {
      "text/plain": [
       "0"
      ]
     },
     "execution_count": 52,
     "metadata": {},
     "output_type": "execute_result"
    }
   ],
   "source": [
    "for i in range(len(texts)):\n",
    "    texts[i].metadata['source'] = i\n",
    "texts[0].metadata['source']"
   ]
  },
  {
   "cell_type": "code",
   "execution_count": 64,
   "metadata": {},
   "outputs": [
    {
     "data": {
      "text/plain": [
       "6431"
      ]
     },
     "execution_count": 64,
     "metadata": {},
     "output_type": "execute_result"
    }
   ],
   "source": [
    "len(data[0].page_content)"
   ]
  },
  {
   "cell_type": "code",
   "execution_count": 66,
   "metadata": {},
   "outputs": [
    {
     "data": {
      "text/plain": [
       "'p'"
      ]
     },
     "execution_count": 66,
     "metadata": {},
     "output_type": "execute_result"
    }
   ],
   "source": [
    "data[0].page_content[0]"
   ]
  },
  {
   "attachments": {},
   "cell_type": "markdown",
   "metadata": {},
   "source": [
    "### Construct vector DB out of results"
   ]
  },
  {
   "attachments": {},
   "cell_type": "markdown",
   "metadata": {},
   "source": [
    "CAREFUL: Don't run next cell too often; costs money"
   ]
  },
  {
   "cell_type": "code",
   "execution_count": 48,
   "metadata": {},
   "outputs": [],
   "source": [
    "faiss_index = FAISS.from_documents(texts, OpenAIEmbeddings(openai_api_key=openai_api_key))"
   ]
  },
  {
   "cell_type": "code",
   "execution_count": 49,
   "metadata": {},
   "outputs": [
    {
     "data": {
      "text/plain": [
       "[Document(page_content='9. The safety razor of  claim 7  wherein the blade unit includes a frame with a cam surface and the handle unit includes a spring-biased plunger with a rounded distal end that contacts the cam surface at a location spaced from the parallel pivot axis to impart a biasing force to the frame. \\n     \\n     \\n       10. The safety razor of  claim 1  further comprising a shaving cartridge which is detachable from the handle unit, wherein the shaving cartridge includes the blade unit and the pivotal connection structure. \\n     \\n     \\n       11. The safety razor of  claim 1  further comprising a shaving cartridge which is detachable from the handle unit, wherein the shaving cartridge includes the blade unit and the handle unit includes the pivotal connection structure. \\n     \\n     \\n       12. The safety razor of  claim 1  wherein the separated joint elements include a triangular prism shaped base member and an elastic plate member extending from the base member.', metadata={}),\n",
       " Document(page_content='4. The safety razor of  claim 3  wherein the joint member is formed by a unitary material. \\n     \\n     \\n       5. The safety razor according of  claim 3  wherein the first and second members and the joint member are formed by an injection molding process of a thermo plastic material. \\n     \\n     \\n       6. The safety razor of claim l wherein at least one of the first and second members has a convexly curved face facing the other of the first and second members. \\n     \\n     \\n       7. The safety razor of  claim 1  wherein the blade unit has a pivotal connection structure for a pivotal movement about a parallel pivot axis which is substantially parallel to the at least one blade. \\n     \\n     \\n       8. The safety razor of  claim 7  wherein the pivotal connection structure includes a pair of latch arms that secure the pivotal connection structure to the handle casing.', metadata={}),\n",
       " Document(page_content='13. The safety razor of  claim 12  wherein the elastic plate member is a leaf spring formed by a metal material. \\n     \\n     \\n       14. The safety razor according to  claim 1 , wherein each of the plurality of separated joint elements includes a bearing having a cylindrical shape fixed to the second member and a pivot shaft having one end fixed to the first member and the other end inserted into the bearing. \\n     \\n     \\n       15. A safety razor comprising a blade unit having at least one blade having a cutting edge, a handle unit having a handle casing, and a pivotal connection structure disposed between the blade unit and the handle casing, the blade unit being connected to the handle casing through the pivotal connection structure for a pivotal movement relative thereto about a perpendicular pivot axis which is substantially perpendicular to the at least one cutting edge for following the skin contours of a user during shaving, the pivotal connection structure including;', metadata={}),\n",
       " Document(page_content='a joint member comprising a plurality of separated joint elements which are disposed along the perpendicular pivot axis, and which connect the first member and the second member that facilitates movement of the first member relative to the second member about a hinge axis that is substantially perpendicular to the at least one cutting edge, wherein the first member has a joint portion, the second member has a joint portion, and the joint member has a thinner wall section toward the hinge axis than toward at least one of the joint portions of the first and second members. \\n \\n     \\n     \\n       2. The safety razor of claim l wherein the joint member includes a plurality of separated joint elements which are disposed along the perpendicular pivot axis. \\n     \\n     \\n       3. The safety razor of  claim 1  wherein the first and second members and the joint member are formed by an identical material.', metadata={}),\n",
       " Document(page_content='16. The safety razor according to  claim 15 , wherein the first and second members and the joint member are formed by an injection molding process of a thermo plastic material. \\n     \\n     \\n       17. The safety razor according to  claim 15 , wherein at least one of the first and second members has a convexly curved face facing the other of the first and second members. \\n     \\n     \\n       18. The safety razor according to  claim 15 , further comprising a shaving cartridge which is detachable from the handle unit, wherein the shaving cartridge includes the blade unit and the pivotal connection structure. \\n     \\n     \\n       19. The safety razor according to  claim 15 , further comprising a shaving cartridge which is detachable from the handle unit, wherein the shaving cartridge includes the blade unit and the handle unit includes the pivotal connection structure.', metadata={}),\n",
       " Document(page_content='patent_number: US8205344B2\\ntitle: Safety razor having pivotable blade unit\\nabstract: A safety razor having a blade unit has at least one blade and a handle casing. A pivotal connection structure is disposed between the blade unit and the handle casing. A first member is connected to the blade unit and a second member is connected to the handle casing. A joint member connects the first member and the second member and facilitates movement of the first member relative to the second member about a hinge axis that is substantially perpendicular to the at least one blade.\\nclaims: 1. A safety razor comprising:\\n a blade unit having at least one blade having a cutting edge; \\n a handle casing; \\n a pivotal connection structure including: \\n a first member connected to the blade unit; \\n a second member connected to the handle casing; and', metadata={})]"
      ]
     },
     "execution_count": 49,
     "metadata": {},
     "output_type": "execute_result"
    }
   ],
   "source": [
    "docs = faiss_index.similarity_search(\"Summarize the independent claims.\", k=6)\n",
    "docs"
   ]
  },
  {
   "attachments": {},
   "cell_type": "markdown",
   "metadata": {},
   "source": [
    "### Use search results against vector DB in LLM QA prompt"
   ]
  },
  {
   "cell_type": "markdown",
   "metadata": {},
   "source": [
    "CAREFUL: Don't run next cell too often; costs money"
   ]
  },
  {
   "cell_type": "code",
   "execution_count": 54,
   "metadata": {},
   "outputs": [
    {
     "data": {
      "text/plain": [
       "{'output_text': '\\nClaim 1 of the safety razor includes a blade unit having at least one blade with a cutting edge, a handle casing, and a pivotal connection structure including a first member connected to the blade unit and a second member connected to the handle casing. Claim 15 of the safety razor includes all of the elements of claim 1, as well as a joint member connecting the first and second members and facilitating movement of the first member relative to the second member about a hinge axis that is substantially perpendicular to the at least one blade. Additionally, claim 15 includes further elements such as the joint member being formed by an injection molding process of a thermo plastic material, at least one of the first and second members having a convexly curved face facing the other of the first and second members, a shaving cartridge which is detachable from the handle unit, and the shaving cartridge including the blade unit and the pivotal connection structure. \\n\\nSOURCES:\\n0. US8205344B2, Safety razor having pivotable blade unit, https://patents.google.com/patent/US8205344B2/en\\n1. Ibid.\\n2. Ibid.\\n3. Ibid.\\n4. Ibid.\\n5. Ibid.\\n6.'}"
      ]
     },
     "execution_count": 54,
     "metadata": {},
     "output_type": "execute_result"
    }
   ],
   "source": [
    "template = \"\"\"You are a patent lawyer. Given the following extracted parts of a patent and a question, create a final answer with references (\"SOURCES\"). \n",
    "If you don't know the answer, just say that you don't know. Don't try to make up an answer.\n",
    "ALWAYS return a \"SOURCES\" part in your answer.\n",
    "\n",
    "QUESTION: {question}\n",
    "=========\n",
    "{summaries}\n",
    "=========\n",
    "FINAL ANSWER:\"\"\"\n",
    "PROMPT = PromptTemplate(template=template, input_variables=[\"summaries\", \"question\"])\n",
    "\n",
    "chain = load_qa_with_sources_chain(OpenAI(temperature=0, openai_api_key=openai_api_key), chain_type=\"stuff\", prompt=PROMPT)\n",
    "query = \"How does claim 1 differ from claim 15?\"\n",
    "docs = faiss_index.similarity_search(query, k=6)\n",
    "chain({\"input_documents\": docs, \"question\": query}, return_only_outputs=True)"
   ]
  },
  {
   "cell_type": "code",
   "execution_count": 61,
   "metadata": {},
   "outputs": [
    {
     "data": {
      "text/plain": [
       "Document(page_content='16. The safety razor according to  claim 15 , wherein the first and second members and the joint member are formed by an injection molding process of a thermo plastic material. \\n     \\n     \\n       17. The safety razor according to  claim 15 , wherein at least one of the first and second members has a convexly curved face facing the other of the first and second members. \\n     \\n     \\n       18. The safety razor according to  claim 15 , further comprising a shaving cartridge which is detachable from the handle unit, wherein the shaving cartridge includes the blade unit and the pivotal connection structure. \\n     \\n     \\n       19. The safety razor according to  claim 15 , further comprising a shaving cartridge which is detachable from the handle unit, wherein the shaving cartridge includes the blade unit and the handle unit includes the pivotal connection structure.', metadata={'source': 6})"
      ]
     },
     "execution_count": 61,
     "metadata": {},
     "output_type": "execute_result"
    }
   ],
   "source": [
    "texts[6]"
   ]
  },
  {
   "attachments": {},
   "cell_type": "markdown",
   "metadata": {},
   "source": [
    "## Whole Patent as Input"
   ]
  },
  {
   "cell_type": "code",
   "execution_count": 74,
   "metadata": {},
   "outputs": [
    {
     "name": "stderr",
     "output_type": "stream",
     "text": [
      "c:\\Users\\abate\\.virtualenvs\\law-project-backend-Kz-JhaCG\\Lib\\site-packages\\langchain\\llms\\openai.py:165: UserWarning: You are trying to use a chat model. This way of initializing it is no longer supported. Instead, please use: `from langchain.chat_models import ChatOpenAI`\n",
      "  warnings.warn(\n",
      "c:\\Users\\abate\\.virtualenvs\\law-project-backend-Kz-JhaCG\\Lib\\site-packages\\langchain\\llms\\openai.py:672: UserWarning: You are trying to use a chat model. This way of initializing it is no longer supported. Instead, please use: `from langchain.chat_models import ChatOpenAI`\n",
      "  warnings.warn(\n"
     ]
    },
    {
     "data": {
      "text/plain": [
       "{'output_text': 'Claim 1 and claim 15 both describe a safety razor with a blade unit and a handle casing connected by a pivotal connection structure that allows movement of the blade unit relative to the handle casing about a hinge axis that is perpendicular to the cutting edge of the blade. However, claim 1 specifies that the joint member of the pivotal connection structure has a thinner wall section toward the hinge axis than toward at least one of the joint portions of the first and second members, while claim 15 does not include this feature. \\n\\nSOURCES: US8205344B2'}"
      ]
     },
     "execution_count": 74,
     "metadata": {},
     "output_type": "execute_result"
    }
   ],
   "source": [
    "template = \"\"\"You are a patent lawyer. Given the following extracted parts of a patent and a question, create a final answer with references (\"SOURCES\"). Answer concisely in plain English so that a layman could understand.\n",
    "Do not repeat anything in the patent in your answer. If you don't know the answer, just say that you don't know. Don't try to make up an answer.\n",
    "ALWAYS return a \"SOURCES\" part in your answer.\n",
    "\n",
    "QUESTION: {question}\n",
    "=========\n",
    "{summaries}\n",
    "=========\n",
    "FINAL ANSWER:\"\"\"\n",
    "PROMPT = PromptTemplate(template=template, input_variables=[\"summaries\", \"question\"])\n",
    "\n",
    "chain = load_qa_with_sources_chain(OpenAI(temperature=0, openai_api_key=openai_api_key, model_name='gpt-3.5-turbo'), chain_type=\"stuff\", prompt=PROMPT)\n",
    "query = \"How does claim 1 differ from claim 15?\"\n",
    "data[0].metadata['source'] = 0  # Need to give our singular doc source info that the LLM can cite.\n",
    "chain({\"input_documents\": data, \"question\": query}, return_only_outputs=True)"
   ]
  },
  {
   "attachments": {},
   "cell_type": "markdown",
   "metadata": {},
   "source": [
    "# Chat over Docs with Chat History"
   ]
  },
  {
   "cell_type": "code",
   "execution_count": 79,
   "metadata": {},
   "outputs": [],
   "source": [
    "from typing import List\n",
    "\n",
    "from langchain.chains import ConversationalRetrievalChain\n",
    "from langchain.memory import ConversationBufferMemory\n",
    "from langchain.schema import BaseRetriever, Document"
   ]
  },
  {
   "cell_type": "code",
   "execution_count": 76,
   "metadata": {},
   "outputs": [],
   "source": [
    "memory = ConversationBufferMemory(memory_key=\"chat_history\", return_messages=True)"
   ]
  },
  {
   "cell_type": "code",
   "execution_count": 84,
   "metadata": {},
   "outputs": [],
   "source": [
    "# Assumes you ran the BigQuery Doc Loading section and now have patent as a single document in list `data`.\n",
    "data[0].metadata['source'] = 0\n",
    "class SimpleRetriever(BaseRetriever):\n",
    "\n",
    "    def __init__(self) -> None:\n",
    "        super().__init__()\n",
    "\n",
    "    def get_relevant_documents(self, query: str) -> List[Document]:\n",
    "        return data\n",
    "\n",
    "    async def aget_relevant_documents(self, query: str) -> List[Document]:\n",
    "        return data\n",
    "    \n",
    "simple_retriever = SimpleRetriever()"
   ]
  },
  {
   "cell_type": "code",
   "execution_count": 85,
   "metadata": {},
   "outputs": [],
   "source": [
    "qa = ConversationalRetrievalChain.from_llm(OpenAI(temperature=0, openai_api_key=openai_api_key), simple_retriever, memory=memory)"
   ]
  },
  {
   "cell_type": "code",
   "execution_count": 86,
   "metadata": {},
   "outputs": [
    {
     "data": {
      "text/plain": [
       "' Claim 1 describes a safety razor with a blade unit, handle casing, and a pivotal connection structure between the blade unit and the handle casing. The pivotal connection structure includes a first member connected to the blade unit, a second member connected to the handle casing, and a joint member connecting the first and second members that facilitates movement of the first member relative to the second member about a hinge axis that is substantially perpendicular to the at least one cutting edge. Claim 15 describes a safety razor with a blade unit, handle unit, and a pivotal connection structure between the blade unit and the handle unit. The pivotal connection structure includes a first member connected to the blade unit, a second member connected to the handle unit, and a joint member connecting the first and second members that works as the perpendicular pivot axis. The joint member includes a plurality of separated joint elements which are disposed along the perpendicular pivot axis, and each of the plurality of separated joint elements includes a bearing having a cylindrical shape fixed to the second member, and a pivot shaft having one end fixed to the first member and the other end inserted into the bearing.'"
      ]
     },
     "execution_count": 86,
     "metadata": {},
     "output_type": "execute_result"
    }
   ],
   "source": [
    "query = \"How does claim 1 differ from claim 15?\"\n",
    "result = qa({'question': \"How does claim 1 differ from claim 15?\"})\n",
    "result['answer']"
   ]
  },
  {
   "cell_type": "code",
   "execution_count": 88,
   "metadata": {},
   "outputs": [
    {
     "data": {
      "text/plain": [
       "' Claim 1 describes a safety razor with a blade unit, handle casing, and a pivotal connection structure between the two. The pivotal connection structure includes a first member connected to the blade unit, a second member connected to the handle casing, and a joint member connecting the two. The joint member has a thinner wall section toward the hinge axis than toward the joint portions of the first and second members. Claim 15 describes a safety razor with a blade unit, handle casing, and a pivotal connection structure between the two. The pivotal connection structure includes a first member connected to the blade unit, a second member connected to the handle casing, and a joint member connecting the two. The joint member has a hinge axis disposed between the joint portions of the first and second members, and includes a plurality of separated joint elements which are disposed along the perpendicular pivot axis. Each of the joint elements includes a bearing and a pivot shaft.'"
      ]
     },
     "execution_count": 88,
     "metadata": {},
     "output_type": "execute_result"
    }
   ],
   "source": [
    "result = qa({'question': 'Can you summarize those differences more clearly?'})\n",
    "result['answer']"
   ]
  },
  {
   "cell_type": "code",
   "execution_count": 89,
   "metadata": {},
   "outputs": [
    {
     "data": {
      "text/plain": [
       "' Claim 1 describes a safety razor with a blade unit, handle casing, and a pivotal connection structure between the two. The pivotal connection structure includes a first member connected to the blade unit, a second member connected to the handle casing, and a joint member connecting the two. Claim 15 describes a safety razor with a blade unit, handle casing, and a pivotal connection structure between the two. The pivotal connection structure includes a first member connected to the blade unit, a second member connected to the handle casing, and a joint member connecting the two. The joint member includes a plurality of separated joint elements which are disposed along the perpendicular pivot axis, and each of the joint elements includes a bearing and a pivot shaft.'"
      ]
     },
     "execution_count": 89,
     "metadata": {},
     "output_type": "execute_result"
    }
   ],
   "source": [
    "result = qa({'question': 'Please tell me how the two claims are different.'})\n",
    "result['answer']"
   ]
  },
  {
   "attachments": {},
   "cell_type": "markdown",
   "metadata": {},
   "source": [
    "### Improve prompts"
   ]
  },
  {
   "cell_type": "code",
   "execution_count": null,
   "metadata": {},
   "outputs": [],
   "source": [
    "qa = ConversationalRetrievalChain.from_llm(OpenAI(temperature=0, openai_api_key=openai_api_key), \n",
    "                                           simple_retriever, \n",
    "                                           memory=memory,\n",
    "                                           condense_question_prompt=TODO, qa_prompt=TODO)\n",
    "# TODO qa_prompt arg might be deprecated?\n",
    "# See template https://github.com/hwchase17/langchain/blob/239dc108527849e94f447ab4cc2c6e51fc1aab1f/langchain/chains/conversational_retrieval/prompts.py for condense question prompt\n",
    "# TODO figure out system messages for chatgpt"
   ]
  },
  {
   "attachments": {},
   "cell_type": "markdown",
   "metadata": {},
   "source": [
    "### Chat Messages Without Question Condensation"
   ]
  },
  {
   "cell_type": "code",
   "execution_count": 90,
   "metadata": {},
   "outputs": [],
   "source": [
    "from langchain.chat_models import ChatOpenAI\n",
    "from langchain.prompts.chat import (\n",
    "    ChatPromptTemplate,\n",
    "    SystemMessagePromptTemplate,\n",
    "    AIMessagePromptTemplate,\n",
    "    HumanMessagePromptTemplate,\n",
    ")\n",
    "from langchain.schema import (\n",
    "    AIMessage,\n",
    "    HumanMessage,\n",
    "    SystemMessage\n",
    ")"
   ]
  },
  {
   "cell_type": "code",
   "execution_count": 91,
   "metadata": {},
   "outputs": [],
   "source": [
    "chat = ChatOpenAI(temperature=0, openai_api_key=openai_api_key)"
   ]
  },
  {
   "cell_type": "code",
   "execution_count": 93,
   "metadata": {},
   "outputs": [],
   "source": [
    "sys_msg_prompt = SystemMessage(content=\"You are a helpful assistant that understands patent and legal information.\")\n",
    "\n",
    "human_template = \"\"\"Given the following question and parts of a patent, create a final answer with references (\"SOURCES\"). Answer concisely in plain English so that a layman could understand.\n",
    "Do not repeat anything in the patent in your answer. If you don't know the answer, just say that you don't know. Don't try to make up an answer.\n",
    "ALWAYS return a \"SOURCES\" part in your answer.\n",
    "\n",
    "QUESTION: {question}\n",
    "=========\n",
    "PATENT: {patent}\n",
    "=========\n",
    "FINAL ANSWER:\"\"\"\n",
    "\n",
    "human_msg_prompt = HumanMessagePromptTemplate.from_template(human_template)"
   ]
  },
  {
   "cell_type": "code",
   "execution_count": 97,
   "metadata": {},
   "outputs": [],
   "source": [
    "chat_prompt = ChatPromptTemplate.from_messages([sys_msg_prompt, human_msg_prompt])\n",
    "\n",
    "# Get a chat completion from the formatted messages.\n",
    "# Both page_content and 'source' key of metadata are injected into prompt in document QA. Formatting still unclear. For now just passing page_content because only have single doc.\n",
    "filled_chat_prompt = chat_prompt.format_prompt(question=\"How does claim 1 differ from claim 15?\", patent=data[0].page_content).to_messages()"
   ]
  },
  {
   "cell_type": "code",
   "execution_count": 98,
   "metadata": {},
   "outputs": [
    {
     "data": {
      "text/plain": [
       "[SystemMessage(content='You are a helpful assistant that understands patent and legal information.', additional_kwargs={}),\n",
       " HumanMessage(content='Given the following question and parts of a patent, create a final answer with references (\"SOURCES\"). Answer concisely in plain English so that a layman could understand.\\nDo not repeat anything in the patent in your answer. If you don\\'t know the answer, just say that you don\\'t know. Don\\'t try to make up an answer.\\nALWAYS return a \"SOURCES\" part in your answer.\\n\\nQUESTION: How does claim 1 differ from claim 15?\\n=========\\nPATENT: patent_number: US8205344B2\\ntitle: Safety razor having pivotable blade unit\\nabstract: A safety razor having a blade unit has at least one blade and a handle casing. A pivotal connection structure is disposed between the blade unit and the handle casing. A first member is connected to the blade unit and a second member is connected to the handle casing. A joint member connects the first member and the second member and facilitates movement of the first member relative to the second member about a hinge axis that is substantially perpendicular to the at least one blade.\\nclaims: 1. A safety razor comprising:\\n a blade unit having at least one blade having a cutting edge; \\n a handle casing; \\n a pivotal connection structure including: \\n a first member connected to the blade unit; \\n a second member connected to the handle casing; and \\n a joint member comprising a plurality of separated joint elements which are disposed along the perpendicular pivot axis, and which connect the first member and the second member that facilitates movement of the first member relative to the second member about a hinge axis that is substantially perpendicular to the at least one cutting edge, wherein the first member has a joint portion, the second member has a joint portion, and the joint member has a thinner wall section toward the hinge axis than toward at least one of the joint portions of the first and second members. \\n \\n     \\n     \\n       2. The safety razor of claim l wherein the joint member includes a plurality of separated joint elements which are disposed along the perpendicular pivot axis. \\n     \\n     \\n       3. The safety razor of  claim 1  wherein the first and second members and the joint member are formed by an identical material. \\n     \\n     \\n       4. The safety razor of  claim 3  wherein the joint member is formed by a unitary material. \\n     \\n     \\n       5. The safety razor according of  claim 3  wherein the first and second members and the joint member are formed by an injection molding process of a thermo plastic material. \\n     \\n     \\n       6. The safety razor of claim l wherein at least one of the first and second members has a convexly curved face facing the other of the first and second members. \\n     \\n     \\n       7. The safety razor of  claim 1  wherein the blade unit has a pivotal connection structure for a pivotal movement about a parallel pivot axis which is substantially parallel to the at least one blade. \\n     \\n     \\n       8. The safety razor of  claim 7  wherein the pivotal connection structure includes a pair of latch arms that secure the pivotal connection structure to the handle casing. \\n     \\n     \\n       9. The safety razor of  claim 7  wherein the blade unit includes a frame with a cam surface and the handle unit includes a spring-biased plunger with a rounded distal end that contacts the cam surface at a location spaced from the parallel pivot axis to impart a biasing force to the frame. \\n     \\n     \\n       10. The safety razor of  claim 1  further comprising a shaving cartridge which is detachable from the handle unit, wherein the shaving cartridge includes the blade unit and the pivotal connection structure. \\n     \\n     \\n       11. The safety razor of  claim 1  further comprising a shaving cartridge which is detachable from the handle unit, wherein the shaving cartridge includes the blade unit and the handle unit includes the pivotal connection structure. \\n     \\n     \\n       12. The safety razor of  claim 1  wherein the separated joint elements include a triangular prism shaped base member and an elastic plate member extending from the base member. \\n     \\n     \\n       13. The safety razor of  claim 12  wherein the elastic plate member is a leaf spring formed by a metal material. \\n     \\n     \\n       14. The safety razor according to  claim 1 , wherein each of the plurality of separated joint elements includes a bearing having a cylindrical shape fixed to the second member and a pivot shaft having one end fixed to the first member and the other end inserted into the bearing. \\n     \\n     \\n       15. A safety razor comprising a blade unit having at least one blade having a cutting edge, a handle unit having a handle casing, and a pivotal connection structure disposed between the blade unit and the handle casing, the blade unit being connected to the handle casing through the pivotal connection structure for a pivotal movement relative thereto about a perpendicular pivot axis which is substantially perpendicular to the at least one cutting edge for following the skin contours of a user during shaving, the pivotal connection structure including;\\n (a) a first member connected to the blade unit, the first member having a joint portion, \\n (b) a second member connected to the handle casing, the second member having a joint portion, and \\n (c) a joint member for jointing, in a hinged manner, the joint portion of the first member with the joint portion of the second member, the pivotal connection structure is constructed such that the joint member has a hinge axis disposed between the joint portions of the first and second members, which works as the perpendicular pivot axis, the joint member includes a plurality of separated joint elements which are disposed along the perpendicular pivot axis wherein each of the plurality of separated joint elements includes a bearing having a cylindrical shape fixed to the second member, and a pivot shaft having one end fixed to the first member and the other end inserted into the bearing. \\n \\n     \\n     \\n       16. The safety razor according to  claim 15 , wherein the first and second members and the joint member are formed by an injection molding process of a thermo plastic material. \\n     \\n     \\n       17. The safety razor according to  claim 15 , wherein at least one of the first and second members has a convexly curved face facing the other of the first and second members. \\n     \\n     \\n       18. The safety razor according to  claim 15 , further comprising a shaving cartridge which is detachable from the handle unit, wherein the shaving cartridge includes the blade unit and the pivotal connection structure. \\n     \\n     \\n       19. The safety razor according to  claim 15 , further comprising a shaving cartridge which is detachable from the handle unit, wherein the shaving cartridge includes the blade unit and the handle unit includes the pivotal connection structure.\\n=========\\nFINAL ANSWER:', additional_kwargs={})]"
      ]
     },
     "execution_count": 98,
     "metadata": {},
     "output_type": "execute_result"
    }
   ],
   "source": [
    "filled_chat_prompt"
   ]
  },
  {
   "cell_type": "code",
   "execution_count": 100,
   "metadata": {},
   "outputs": [],
   "source": [
    "ai_answer = chat(filled_chat_prompt)"
   ]
  },
  {
   "cell_type": "code",
   "execution_count": 101,
   "metadata": {},
   "outputs": [
    {
     "data": {
      "text/plain": [
       "AIMessage(content='Claim 1 and claim 15 both describe a safety razor with a blade unit and a handle casing connected by a pivotal connection structure that allows movement of the blade unit relative to the handle casing about a hinge axis that is perpendicular to the cutting edge of the blade. However, claim 15 specifies that the joint member of the pivotal connection structure includes a plurality of separated joint elements, each with a bearing fixed to the second member and a pivot shaft fixed to the first member and inserted into the bearing. Claim 1 does not specify this feature. \\n\\nSOURCES: US8205344B2', additional_kwargs={})"
      ]
     },
     "execution_count": 101,
     "metadata": {},
     "output_type": "execute_result"
    }
   ],
   "source": [
    "ai_answer"
   ]
  },
  {
   "attachments": {},
   "cell_type": "markdown",
   "metadata": {},
   "source": [
    "Manually pass in previous query and answer as chat history."
   ]
  },
  {
   "cell_type": "code",
   "execution_count": 103,
   "metadata": {},
   "outputs": [],
   "source": [
    "chat_history = [\n",
    "    sys_msg_prompt,\n",
    "    HumanMessagePromptTemplate.from_template(\"How does claim 1 differ from claim 15?\"),\n",
    "    ai_answer,\n",
    "    human_msg_prompt\n",
    "]\n",
    "chat_prompt_2 = ChatPromptTemplate.from_messages(chat_history)\n",
    "filled_chat_prompt_2 = chat_prompt.format_prompt(question=\"Are there any other ways in which claim 1 differs from claim 15?\", patent=data[0].page_content).to_messages()"
   ]
  },
  {
   "cell_type": "code",
   "execution_count": 104,
   "metadata": {},
   "outputs": [
    {
     "data": {
      "text/plain": [
       "AIMessage(content='Without knowing the specific differences between claim 1 and claim 15, it is impossible to answer this question. Claim 1 and claim 15 are both part of the same patent, US8205344B2, which describes a safety razor with a pivotable blade unit. The patent includes various claims related to the construction and operation of the razor, including the use of a joint member with separated joint elements to facilitate movement of the blade unit relative to the handle casing. The patent also describes the use of an injection molding process to form the various components of the razor, as well as the inclusion of a detachable shaving cartridge. \\n\\nSOURCES: US8205344B2', additional_kwargs={})"
      ]
     },
     "execution_count": 104,
     "metadata": {},
     "output_type": "execute_result"
    }
   ],
   "source": [
    "ai_answer_2 = chat(filled_chat_prompt_2)\n",
    "ai_answer_2"
   ]
  },
  {
   "attachments": {},
   "cell_type": "markdown",
   "metadata": {},
   "source": [
    "Hmmmm. TODO Maybe put prelude of human_template in system message? Also, can langchain's memory utilities store chat history for me? Maybe that is a bad idea since don't want to have patent text in every human message of chat history that LLM processes."
   ]
  }
 ],
 "metadata": {
  "kernelspec": {
   "display_name": "law-project-backend-Kz-JhaCG",
   "language": "python",
   "name": "python3"
  },
  "language_info": {
   "codemirror_mode": {
    "name": "ipython",
    "version": 3
   },
   "file_extension": ".py",
   "mimetype": "text/x-python",
   "name": "python",
   "nbconvert_exporter": "python",
   "pygments_lexer": "ipython3",
   "version": "3.11.0"
  },
  "orig_nbformat": 4,
  "vscode": {
   "interpreter": {
    "hash": "44494df1af92ede321266b96908922b8eae1fd08879211d2cc94f1824e1b253c"
   }
  }
 },
 "nbformat": 4,
 "nbformat_minor": 2
}
