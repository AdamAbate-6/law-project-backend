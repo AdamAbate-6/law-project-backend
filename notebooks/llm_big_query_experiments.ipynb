{
 "cells": [
  {
   "cell_type": "code",
   "execution_count": 75,
   "metadata": {},
   "outputs": [],
   "source": [
    "import yaml\n",
    "import os\n",
    "\n",
    "from langchain.embeddings.openai import OpenAIEmbeddings\n",
    "from langchain.vectorstores import FAISS\n",
    "from langchain.prompts import PromptTemplate\n",
    "from langchain.document_loaders import BigQueryLoader\n",
    "from langchain.chains.qa_with_sources import load_qa_with_sources_chain\n",
    "from langchain.llms import OpenAI"
   ]
  },
  {
   "attachments": {},
   "cell_type": "markdown",
   "metadata": {},
   "source": [
    "## Authentication"
   ]
  },
  {
   "attachments": {},
   "cell_type": "markdown",
   "metadata": {},
   "source": [
    "Load OpenAI API Key"
   ]
  },
  {
   "cell_type": "code",
   "execution_count": 3,
   "metadata": {},
   "outputs": [],
   "source": [
    "with open('../api_keys.yaml', 'r') as f:\n",
    "    keys = yaml.safe_load(f)\n",
    "\n",
    "openai_api_key = keys['openai']"
   ]
  },
  {
   "attachments": {},
   "cell_type": "markdown",
   "metadata": {},
   "source": [
    "Authenticate to BigQuery"
   ]
  },
  {
   "cell_type": "code",
   "execution_count": 4,
   "metadata": {},
   "outputs": [],
   "source": [
    "os.environ['GOOGLE_APPLICATION_CREDENTIALS'] = '../law-project-service-account.json'"
   ]
  },
  {
   "cell_type": "code",
   "execution_count": 44,
   "metadata": {},
   "outputs": [],
   "source": [
    "QUERY = (\n",
    "    'SELECT spif_publication_number as patent_number, t.text as title,  a.text as abstract, c.text as claims '\n",
    "    'FROM `patents-public-data.patents.publications`, UNNEST(title_localized) as t, UNNEST(abstract_localized) as a,  UNNEST(claims_localized) as c '\n",
    "    'WHERE spif_publication_number = \"US8205344B2\" '\n",
    "    'LIMIT 100')"
   ]
  },
  {
   "attachments": {},
   "cell_type": "markdown",
   "metadata": {},
   "source": [
    "## BigQuery Doc Loading"
   ]
  },
  {
   "cell_type": "code",
   "execution_count": 45,
   "metadata": {},
   "outputs": [],
   "source": [
    "loader = BigQueryLoader(QUERY)\n",
    "\n",
    "data = loader.load()"
   ]
  },
  {
   "cell_type": "code",
   "execution_count": 46,
   "metadata": {},
   "outputs": [
    {
     "name": "stdout",
     "output_type": "stream",
     "text": [
      "[Document(page_content='patent_number: US8205344B2\\ntitle: Safety razor having pivotable blade unit\\nabstract: A safety razor having a blade unit has at least one blade and a handle casing. A pivotal connection structure is disposed between the blade unit and the handle casing. A first member is connected to the blade unit and a second member is connected to the handle casing. A joint member connects the first member and the second member and facilitates movement of the first member relative to the second member about a hinge axis that is substantially perpendicular to the at least one blade.\\nclaims: 1. A safety razor comprising:\\n a blade unit having at least one blade having a cutting edge; \\n a handle casing; \\n a pivotal connection structure including: \\n a first member connected to the blade unit; \\n a second member connected to the handle casing; and \\n a joint member comprising a plurality of separated joint elements which are disposed along the perpendicular pivot axis, and which connect the first member and the second member that facilitates movement of the first member relative to the second member about a hinge axis that is substantially perpendicular to the at least one cutting edge, wherein the first member has a joint portion, the second member has a joint portion, and the joint member has a thinner wall section toward the hinge axis than toward at least one of the joint portions of the first and second members. \\n \\n     \\n     \\n       2. The safety razor of claim l wherein the joint member includes a plurality of separated joint elements which are disposed along the perpendicular pivot axis. \\n     \\n     \\n       3. The safety razor of  claim 1  wherein the first and second members and the joint member are formed by an identical material. \\n     \\n     \\n       4. The safety razor of  claim 3  wherein the joint member is formed by a unitary material. \\n     \\n     \\n       5. The safety razor according of  claim 3  wherein the first and second members and the joint member are formed by an injection molding process of a thermo plastic material. \\n     \\n     \\n       6. The safety razor of claim l wherein at least one of the first and second members has a convexly curved face facing the other of the first and second members. \\n     \\n     \\n       7. The safety razor of  claim 1  wherein the blade unit has a pivotal connection structure for a pivotal movement about a parallel pivot axis which is substantially parallel to the at least one blade. \\n     \\n     \\n       8. The safety razor of  claim 7  wherein the pivotal connection structure includes a pair of latch arms that secure the pivotal connection structure to the handle casing. \\n     \\n     \\n       9. The safety razor of  claim 7  wherein the blade unit includes a frame with a cam surface and the handle unit includes a spring-biased plunger with a rounded distal end that contacts the cam surface at a location spaced from the parallel pivot axis to impart a biasing force to the frame. \\n     \\n     \\n       10. The safety razor of  claim 1  further comprising a shaving cartridge which is detachable from the handle unit, wherein the shaving cartridge includes the blade unit and the pivotal connection structure. \\n     \\n     \\n       11. The safety razor of  claim 1  further comprising a shaving cartridge which is detachable from the handle unit, wherein the shaving cartridge includes the blade unit and the handle unit includes the pivotal connection structure. \\n     \\n     \\n       12. The safety razor of  claim 1  wherein the separated joint elements include a triangular prism shaped base member and an elastic plate member extending from the base member. \\n     \\n     \\n       13. The safety razor of  claim 12  wherein the elastic plate member is a leaf spring formed by a metal material. \\n     \\n     \\n       14. The safety razor according to  claim 1 , wherein each of the plurality of separated joint elements includes a bearing having a cylindrical shape fixed to the second member and a pivot shaft having one end fixed to the first member and the other end inserted into the bearing. \\n     \\n     \\n       15. A safety razor comprising a blade unit having at least one blade having a cutting edge, a handle unit having a handle casing, and a pivotal connection structure disposed between the blade unit and the handle casing, the blade unit being connected to the handle casing through the pivotal connection structure for a pivotal movement relative thereto about a perpendicular pivot axis which is substantially perpendicular to the at least one cutting edge for following the skin contours of a user during shaving, the pivotal connection structure including;\\n (a) a first member connected to the blade unit, the first member having a joint portion, \\n (b) a second member connected to the handle casing, the second member having a joint portion, and \\n (c) a joint member for jointing, in a hinged manner, the joint portion of the first member with the joint portion of the second member, the pivotal connection structure is constructed such that the joint member has a hinge axis disposed between the joint portions of the first and second members, which works as the perpendicular pivot axis, the joint member includes a plurality of separated joint elements which are disposed along the perpendicular pivot axis wherein each of the plurality of separated joint elements includes a bearing having a cylindrical shape fixed to the second member, and a pivot shaft having one end fixed to the first member and the other end inserted into the bearing. \\n \\n     \\n     \\n       16. The safety razor according to  claim 15 , wherein the first and second members and the joint member are formed by an injection molding process of a thermo plastic material. \\n     \\n     \\n       17. The safety razor according to  claim 15 , wherein at least one of the first and second members has a convexly curved face facing the other of the first and second members. \\n     \\n     \\n       18. The safety razor according to  claim 15 , further comprising a shaving cartridge which is detachable from the handle unit, wherein the shaving cartridge includes the blade unit and the pivotal connection structure. \\n     \\n     \\n       19. The safety razor according to  claim 15 , further comprising a shaving cartridge which is detachable from the handle unit, wherein the shaving cartridge includes the blade unit and the handle unit includes the pivotal connection structure.', metadata={})]\n"
     ]
    }
   ],
   "source": [
    "print(data)"
   ]
  },
  {
   "attachments": {},
   "cell_type": "markdown",
   "metadata": {},
   "source": [
    "# Document(s) QA"
   ]
  },
  {
   "attachments": {},
   "cell_type": "markdown",
   "metadata": {},
   "source": [
    "## Chunking"
   ]
  },
  {
   "attachments": {},
   "cell_type": "markdown",
   "metadata": {},
   "source": [
    "### Split query results into chunks"
   ]
  },
  {
   "cell_type": "code",
   "execution_count": 47,
   "metadata": {},
   "outputs": [
    {
     "name": "stdout",
     "output_type": "stream",
     "text": [
      "page_content='patent_number: US8205344B2\\ntitle: Safety razor having pivotable blade unit\\nabstract: A safety razor having a blade unit has at least one blade and a handle casing. A pivotal connection structure is disposed between the blade unit and the handle casing. A first member is connected to the blade unit and a second member is connected to the handle casing. A joint member connects the first member and the second member and facilitates movement of the first member relative to the second member about a hinge axis that is substantially perpendicular to the at least one blade.\\nclaims: 1. A safety razor comprising:\\n a blade unit having at least one blade having a cutting edge; \\n a handle casing; \\n a pivotal connection structure including: \\n a first member connected to the blade unit; \\n a second member connected to the handle casing; and' metadata={}\n",
      "7\n"
     ]
    }
   ],
   "source": [
    "from langchain.text_splitter import RecursiveCharacterTextSplitter \n",
    "text_splitter = RecursiveCharacterTextSplitter (\n",
    "    # Set a really small chunk size, just to show.\n",
    "    chunk_size = 1000,\n",
    "    chunk_overlap  = 0\n",
    ")\n",
    "texts = text_splitter.split_documents(data)\n",
    "print(texts[0])\n",
    "print(len(texts))"
   ]
  },
  {
   "attachments": {},
   "cell_type": "markdown",
   "metadata": {},
   "source": [
    "Give a source index to each of the doc chunks."
   ]
  },
  {
   "cell_type": "code",
   "execution_count": 52,
   "metadata": {},
   "outputs": [
    {
     "data": {
      "text/plain": [
       "0"
      ]
     },
     "execution_count": 52,
     "metadata": {},
     "output_type": "execute_result"
    }
   ],
   "source": [
    "for i in range(len(texts)):\n",
    "    texts[i].metadata['source'] = i\n",
    "texts[0].metadata['source']"
   ]
  },
  {
   "cell_type": "code",
   "execution_count": 64,
   "metadata": {},
   "outputs": [
    {
     "data": {
      "text/plain": [
       "6431"
      ]
     },
     "execution_count": 64,
     "metadata": {},
     "output_type": "execute_result"
    }
   ],
   "source": [
    "len(data[0].page_content)"
   ]
  },
  {
   "cell_type": "code",
   "execution_count": 66,
   "metadata": {},
   "outputs": [
    {
     "data": {
      "text/plain": [
       "'p'"
      ]
     },
     "execution_count": 66,
     "metadata": {},
     "output_type": "execute_result"
    }
   ],
   "source": [
    "data[0].page_content[0]"
   ]
  },
  {
   "attachments": {},
   "cell_type": "markdown",
   "metadata": {},
   "source": [
    "### Construct vector DB out of results"
   ]
  },
  {
   "attachments": {},
   "cell_type": "markdown",
   "metadata": {},
   "source": [
    "CAREFUL: Don't run next cell too often; costs money"
   ]
  },
  {
   "cell_type": "code",
   "execution_count": 48,
   "metadata": {},
   "outputs": [],
   "source": [
    "faiss_index = FAISS.from_documents(texts, OpenAIEmbeddings(openai_api_key=openai_api_key))"
   ]
  },
  {
   "cell_type": "code",
   "execution_count": 49,
   "metadata": {},
   "outputs": [
    {
     "data": {
      "text/plain": [
       "[Document(page_content='9. The safety razor of  claim 7  wherein the blade unit includes a frame with a cam surface and the handle unit includes a spring-biased plunger with a rounded distal end that contacts the cam surface at a location spaced from the parallel pivot axis to impart a biasing force to the frame. \\n     \\n     \\n       10. The safety razor of  claim 1  further comprising a shaving cartridge which is detachable from the handle unit, wherein the shaving cartridge includes the blade unit and the pivotal connection structure. \\n     \\n     \\n       11. The safety razor of  claim 1  further comprising a shaving cartridge which is detachable from the handle unit, wherein the shaving cartridge includes the blade unit and the handle unit includes the pivotal connection structure. \\n     \\n     \\n       12. The safety razor of  claim 1  wherein the separated joint elements include a triangular prism shaped base member and an elastic plate member extending from the base member.', metadata={}),\n",
       " Document(page_content='4. The safety razor of  claim 3  wherein the joint member is formed by a unitary material. \\n     \\n     \\n       5. The safety razor according of  claim 3  wherein the first and second members and the joint member are formed by an injection molding process of a thermo plastic material. \\n     \\n     \\n       6. The safety razor of claim l wherein at least one of the first and second members has a convexly curved face facing the other of the first and second members. \\n     \\n     \\n       7. The safety razor of  claim 1  wherein the blade unit has a pivotal connection structure for a pivotal movement about a parallel pivot axis which is substantially parallel to the at least one blade. \\n     \\n     \\n       8. The safety razor of  claim 7  wherein the pivotal connection structure includes a pair of latch arms that secure the pivotal connection structure to the handle casing.', metadata={}),\n",
       " Document(page_content='13. The safety razor of  claim 12  wherein the elastic plate member is a leaf spring formed by a metal material. \\n     \\n     \\n       14. The safety razor according to  claim 1 , wherein each of the plurality of separated joint elements includes a bearing having a cylindrical shape fixed to the second member and a pivot shaft having one end fixed to the first member and the other end inserted into the bearing. \\n     \\n     \\n       15. A safety razor comprising a blade unit having at least one blade having a cutting edge, a handle unit having a handle casing, and a pivotal connection structure disposed between the blade unit and the handle casing, the blade unit being connected to the handle casing through the pivotal connection structure for a pivotal movement relative thereto about a perpendicular pivot axis which is substantially perpendicular to the at least one cutting edge for following the skin contours of a user during shaving, the pivotal connection structure including;', metadata={}),\n",
       " Document(page_content='a joint member comprising a plurality of separated joint elements which are disposed along the perpendicular pivot axis, and which connect the first member and the second member that facilitates movement of the first member relative to the second member about a hinge axis that is substantially perpendicular to the at least one cutting edge, wherein the first member has a joint portion, the second member has a joint portion, and the joint member has a thinner wall section toward the hinge axis than toward at least one of the joint portions of the first and second members. \\n \\n     \\n     \\n       2. The safety razor of claim l wherein the joint member includes a plurality of separated joint elements which are disposed along the perpendicular pivot axis. \\n     \\n     \\n       3. The safety razor of  claim 1  wherein the first and second members and the joint member are formed by an identical material.', metadata={}),\n",
       " Document(page_content='16. The safety razor according to  claim 15 , wherein the first and second members and the joint member are formed by an injection molding process of a thermo plastic material. \\n     \\n     \\n       17. The safety razor according to  claim 15 , wherein at least one of the first and second members has a convexly curved face facing the other of the first and second members. \\n     \\n     \\n       18. The safety razor according to  claim 15 , further comprising a shaving cartridge which is detachable from the handle unit, wherein the shaving cartridge includes the blade unit and the pivotal connection structure. \\n     \\n     \\n       19. The safety razor according to  claim 15 , further comprising a shaving cartridge which is detachable from the handle unit, wherein the shaving cartridge includes the blade unit and the handle unit includes the pivotal connection structure.', metadata={}),\n",
       " Document(page_content='patent_number: US8205344B2\\ntitle: Safety razor having pivotable blade unit\\nabstract: A safety razor having a blade unit has at least one blade and a handle casing. A pivotal connection structure is disposed between the blade unit and the handle casing. A first member is connected to the blade unit and a second member is connected to the handle casing. A joint member connects the first member and the second member and facilitates movement of the first member relative to the second member about a hinge axis that is substantially perpendicular to the at least one blade.\\nclaims: 1. A safety razor comprising:\\n a blade unit having at least one blade having a cutting edge; \\n a handle casing; \\n a pivotal connection structure including: \\n a first member connected to the blade unit; \\n a second member connected to the handle casing; and', metadata={})]"
      ]
     },
     "execution_count": 49,
     "metadata": {},
     "output_type": "execute_result"
    }
   ],
   "source": [
    "docs = faiss_index.similarity_search(\"Summarize the independent claims.\", k=6)\n",
    "docs"
   ]
  },
  {
   "attachments": {},
   "cell_type": "markdown",
   "metadata": {},
   "source": [
    "### Use search results against vector DB in LLM QA prompt"
   ]
  },
  {
   "cell_type": "markdown",
   "metadata": {},
   "source": [
    "CAREFUL: Don't run next cell too often; costs money"
   ]
  },
  {
   "cell_type": "code",
   "execution_count": 54,
   "metadata": {},
   "outputs": [
    {
     "data": {
      "text/plain": [
       "{'output_text': '\\nClaim 1 of the safety razor includes a blade unit having at least one blade with a cutting edge, a handle casing, and a pivotal connection structure including a first member connected to the blade unit and a second member connected to the handle casing. Claim 15 of the safety razor includes all of the elements of claim 1, as well as a joint member connecting the first and second members and facilitating movement of the first member relative to the second member about a hinge axis that is substantially perpendicular to the at least one blade. Additionally, claim 15 includes further elements such as the joint member being formed by an injection molding process of a thermo plastic material, at least one of the first and second members having a convexly curved face facing the other of the first and second members, a shaving cartridge which is detachable from the handle unit, and the shaving cartridge including the blade unit and the pivotal connection structure. \\n\\nSOURCES:\\n0. US8205344B2, Safety razor having pivotable blade unit, https://patents.google.com/patent/US8205344B2/en\\n1. Ibid.\\n2. Ibid.\\n3. Ibid.\\n4. Ibid.\\n5. Ibid.\\n6.'}"
      ]
     },
     "execution_count": 54,
     "metadata": {},
     "output_type": "execute_result"
    }
   ],
   "source": [
    "template = \"\"\"You are a patent lawyer. Given the following extracted parts of a patent and a question, create a final answer with references (\"SOURCES\"). \n",
    "If you don't know the answer, just say that you don't know. Don't try to make up an answer.\n",
    "ALWAYS return a \"SOURCES\" part in your answer.\n",
    "\n",
    "QUESTION: {question}\n",
    "=========\n",
    "{summaries}\n",
    "=========\n",
    "FINAL ANSWER:\"\"\"\n",
    "PROMPT = PromptTemplate(template=template, input_variables=[\"summaries\", \"question\"])\n",
    "\n",
    "chain = load_qa_with_sources_chain(OpenAI(temperature=0, openai_api_key=openai_api_key), chain_type=\"stuff\", prompt=PROMPT)\n",
    "query = \"How does claim 1 differ from claim 15?\"\n",
    "docs = faiss_index.similarity_search(query, k=6)\n",
    "chain({\"input_documents\": docs, \"question\": query}, return_only_outputs=True)"
   ]
  },
  {
   "cell_type": "code",
   "execution_count": 61,
   "metadata": {},
   "outputs": [
    {
     "data": {
      "text/plain": [
       "Document(page_content='16. The safety razor according to  claim 15 , wherein the first and second members and the joint member are formed by an injection molding process of a thermo plastic material. \\n     \\n     \\n       17. The safety razor according to  claim 15 , wherein at least one of the first and second members has a convexly curved face facing the other of the first and second members. \\n     \\n     \\n       18. The safety razor according to  claim 15 , further comprising a shaving cartridge which is detachable from the handle unit, wherein the shaving cartridge includes the blade unit and the pivotal connection structure. \\n     \\n     \\n       19. The safety razor according to  claim 15 , further comprising a shaving cartridge which is detachable from the handle unit, wherein the shaving cartridge includes the blade unit and the handle unit includes the pivotal connection structure.', metadata={'source': 6})"
      ]
     },
     "execution_count": 61,
     "metadata": {},
     "output_type": "execute_result"
    }
   ],
   "source": [
    "texts[6]"
   ]
  },
  {
   "attachments": {},
   "cell_type": "markdown",
   "metadata": {},
   "source": [
    "## Whole Patent as Input"
   ]
  },
  {
   "cell_type": "code",
   "execution_count": 74,
   "metadata": {},
   "outputs": [
    {
     "name": "stderr",
     "output_type": "stream",
     "text": [
      "c:\\Users\\abate\\.virtualenvs\\law-project-backend-Kz-JhaCG\\Lib\\site-packages\\langchain\\llms\\openai.py:165: UserWarning: You are trying to use a chat model. This way of initializing it is no longer supported. Instead, please use: `from langchain.chat_models import ChatOpenAI`\n",
      "  warnings.warn(\n",
      "c:\\Users\\abate\\.virtualenvs\\law-project-backend-Kz-JhaCG\\Lib\\site-packages\\langchain\\llms\\openai.py:672: UserWarning: You are trying to use a chat model. This way of initializing it is no longer supported. Instead, please use: `from langchain.chat_models import ChatOpenAI`\n",
      "  warnings.warn(\n"
     ]
    },
    {
     "data": {
      "text/plain": [
       "{'output_text': 'Claim 1 and claim 15 both describe a safety razor with a blade unit and a handle casing connected by a pivotal connection structure that allows movement of the blade unit relative to the handle casing about a hinge axis that is perpendicular to the cutting edge of the blade. However, claim 1 specifies that the joint member of the pivotal connection structure has a thinner wall section toward the hinge axis than toward at least one of the joint portions of the first and second members, while claim 15 does not include this feature. \\n\\nSOURCES: US8205344B2'}"
      ]
     },
     "execution_count": 74,
     "metadata": {},
     "output_type": "execute_result"
    }
   ],
   "source": [
    "template = \"\"\"You are a patent lawyer. Given the following extracted parts of a patent and a question, create a final answer with references (\"SOURCES\"). Answer concisely in plain English so that a layman could understand.\n",
    "Do not repeat anything in the patent in your answer. If you don't know the answer, just say that you don't know. Don't try to make up an answer.\n",
    "ALWAYS return a \"SOURCES\" part in your answer.\n",
    "\n",
    "QUESTION: {question}\n",
    "=========\n",
    "{summaries}\n",
    "=========\n",
    "FINAL ANSWER:\"\"\"\n",
    "PROMPT = PromptTemplate(template=template, input_variables=[\"summaries\", \"question\"])\n",
    "\n",
    "chain = load_qa_with_sources_chain(OpenAI(temperature=0, openai_api_key=openai_api_key, model_name='gpt-3.5-turbo'), chain_type=\"stuff\", prompt=PROMPT)\n",
    "query = \"How does claim 1 differ from claim 15?\"\n",
    "data[0].metadata['source'] = 0  # Need to give our singular doc source info that the LLM can cite.\n",
    "chain({\"input_documents\": data, \"question\": query}, return_only_outputs=True)"
   ]
  },
  {
   "attachments": {},
   "cell_type": "markdown",
   "metadata": {},
   "source": [
    "# Chat over Docs with Chat History"
   ]
  },
  {
   "cell_type": "code",
   "execution_count": 79,
   "metadata": {},
   "outputs": [],
   "source": [
    "from typing import List\n",
    "\n",
    "from langchain.chains import ConversationalRetrievalChain\n",
    "from langchain.memory import ConversationBufferMemory\n",
    "from langchain.schema import BaseRetriever, Document"
   ]
  },
  {
   "cell_type": "code",
   "execution_count": 76,
   "metadata": {},
   "outputs": [],
   "source": [
    "memory = ConversationBufferMemory(memory_key=\"chat_history\", return_messages=True)"
   ]
  },
  {
   "cell_type": "code",
   "execution_count": 84,
   "metadata": {},
   "outputs": [],
   "source": [
    "# Assumes you ran the BigQuery Doc Loading section and now have patent as a single document in list `data`.\n",
    "data[0].metadata['source'] = 0\n",
    "class SimpleRetriever(BaseRetriever):\n",
    "\n",
    "    def __init__(self) -> None:\n",
    "        super().__init__()\n",
    "\n",
    "    def get_relevant_documents(self, query: str) -> List[Document]:\n",
    "        return data\n",
    "\n",
    "    async def aget_relevant_documents(self, query: str) -> List[Document]:\n",
    "        return data\n",
    "    \n",
    "simple_retriever = SimpleRetriever()"
   ]
  },
  {
   "cell_type": "code",
   "execution_count": 85,
   "metadata": {},
   "outputs": [],
   "source": [
    "qa = ConversationalRetrievalChain.from_llm(OpenAI(temperature=0, openai_api_key=openai_api_key), simple_retriever, memory=memory)"
   ]
  },
  {
   "cell_type": "code",
   "execution_count": 86,
   "metadata": {},
   "outputs": [
    {
     "data": {
      "text/plain": [
       "' Claim 1 describes a safety razor with a blade unit, handle casing, and a pivotal connection structure between the blade unit and the handle casing. The pivotal connection structure includes a first member connected to the blade unit, a second member connected to the handle casing, and a joint member connecting the first and second members that facilitates movement of the first member relative to the second member about a hinge axis that is substantially perpendicular to the at least one cutting edge. Claim 15 describes a safety razor with a blade unit, handle unit, and a pivotal connection structure between the blade unit and the handle unit. The pivotal connection structure includes a first member connected to the blade unit, a second member connected to the handle unit, and a joint member connecting the first and second members that works as the perpendicular pivot axis. The joint member includes a plurality of separated joint elements which are disposed along the perpendicular pivot axis, and each of the plurality of separated joint elements includes a bearing having a cylindrical shape fixed to the second member, and a pivot shaft having one end fixed to the first member and the other end inserted into the bearing.'"
      ]
     },
     "execution_count": 86,
     "metadata": {},
     "output_type": "execute_result"
    }
   ],
   "source": [
    "query = \"How does claim 1 differ from claim 15?\"\n",
    "result = qa({'question': \"How does claim 1 differ from claim 15?\"})\n",
    "result['answer']"
   ]
  },
  {
   "cell_type": "code",
   "execution_count": 88,
   "metadata": {},
   "outputs": [
    {
     "data": {
      "text/plain": [
       "' Claim 1 describes a safety razor with a blade unit, handle casing, and a pivotal connection structure between the two. The pivotal connection structure includes a first member connected to the blade unit, a second member connected to the handle casing, and a joint member connecting the two. The joint member has a thinner wall section toward the hinge axis than toward the joint portions of the first and second members. Claim 15 describes a safety razor with a blade unit, handle casing, and a pivotal connection structure between the two. The pivotal connection structure includes a first member connected to the blade unit, a second member connected to the handle casing, and a joint member connecting the two. The joint member has a hinge axis disposed between the joint portions of the first and second members, and includes a plurality of separated joint elements which are disposed along the perpendicular pivot axis. Each of the joint elements includes a bearing and a pivot shaft.'"
      ]
     },
     "execution_count": 88,
     "metadata": {},
     "output_type": "execute_result"
    }
   ],
   "source": [
    "result = qa({'question': 'Can you summarize those differences more clearly?'})\n",
    "result['answer']"
   ]
  },
  {
   "cell_type": "code",
   "execution_count": 89,
   "metadata": {},
   "outputs": [
    {
     "data": {
      "text/plain": [
       "' Claim 1 describes a safety razor with a blade unit, handle casing, and a pivotal connection structure between the two. The pivotal connection structure includes a first member connected to the blade unit, a second member connected to the handle casing, and a joint member connecting the two. Claim 15 describes a safety razor with a blade unit, handle casing, and a pivotal connection structure between the two. The pivotal connection structure includes a first member connected to the blade unit, a second member connected to the handle casing, and a joint member connecting the two. The joint member includes a plurality of separated joint elements which are disposed along the perpendicular pivot axis, and each of the joint elements includes a bearing and a pivot shaft.'"
      ]
     },
     "execution_count": 89,
     "metadata": {},
     "output_type": "execute_result"
    }
   ],
   "source": [
    "result = qa({'question': 'Please tell me how the two claims are different.'})\n",
    "result['answer']"
   ]
  },
  {
   "attachments": {},
   "cell_type": "markdown",
   "metadata": {},
   "source": [
    "### Improve prompts"
   ]
  },
  {
   "cell_type": "code",
   "execution_count": null,
   "metadata": {},
   "outputs": [],
   "source": [
    "qa = ConversationalRetrievalChain.from_llm(OpenAI(temperature=0, openai_api_key=openai_api_key), \n",
    "                                           simple_retriever, \n",
    "                                           memory=memory,\n",
    "                                           condense_question_prompt=TODO, qa_prompt=TODO)\n",
    "# TODO qa_prompt arg might be deprecated?\n",
    "# See template https://github.com/hwchase17/langchain/blob/239dc108527849e94f447ab4cc2c6e51fc1aab1f/langchain/chains/conversational_retrieval/prompts.py for condense question prompt\n",
    "# TODO figure out system messages for chatgpt"
   ]
  },
  {
   "attachments": {},
   "cell_type": "markdown",
   "metadata": {},
   "source": [
    "### Take 1: Chat Messages Without Question Condensation"
   ]
  },
  {
   "cell_type": "code",
   "execution_count": 90,
   "metadata": {},
   "outputs": [],
   "source": [
    "from langchain.chat_models import ChatOpenAI\n",
    "from langchain.prompts.chat import (\n",
    "    ChatPromptTemplate,\n",
    "    SystemMessagePromptTemplate,\n",
    "    AIMessagePromptTemplate,\n",
    "    HumanMessagePromptTemplate,\n",
    ")\n",
    "from langchain.schema import (\n",
    "    AIMessage,\n",
    "    HumanMessage,\n",
    "    SystemMessage\n",
    ")"
   ]
  },
  {
   "cell_type": "code",
   "execution_count": 91,
   "metadata": {},
   "outputs": [],
   "source": [
    "chat = ChatOpenAI(temperature=0, openai_api_key=openai_api_key)"
   ]
  },
  {
   "cell_type": "code",
   "execution_count": 93,
   "metadata": {},
   "outputs": [],
   "source": [
    "sys_msg_prompt = SystemMessage(content=\"You are a helpful assistant that understands patent and legal information.\")\n",
    "\n",
    "human_template = \"\"\"Given the following question and parts of a patent, create a final answer with references (\"SOURCES\"). Answer concisely in plain English so that a layman could understand.\n",
    "Do not repeat anything in the patent in your answer. If you don't know the answer, just say that you don't know. Don't try to make up an answer.\n",
    "ALWAYS return a \"SOURCES\" part in your answer.\n",
    "\n",
    "QUESTION: {question}\n",
    "=========\n",
    "PATENT: {patent}\n",
    "=========\n",
    "FINAL ANSWER:\"\"\"\n",
    "\n",
    "human_msg_prompt = HumanMessagePromptTemplate.from_template(human_template)"
   ]
  },
  {
   "cell_type": "code",
   "execution_count": 97,
   "metadata": {},
   "outputs": [],
   "source": [
    "chat_prompt = ChatPromptTemplate.from_messages([sys_msg_prompt, human_msg_prompt])\n",
    "\n",
    "# Get a chat completion from the formatted messages.\n",
    "# Both page_content and 'source' key of metadata are injected into prompt in document QA. Formatting still unclear. For now just passing page_content because only have single doc.\n",
    "filled_chat_prompt = chat_prompt.format_prompt(question=\"How does claim 1 differ from claim 15?\", patent=data[0].page_content).to_messages()"
   ]
  },
  {
   "cell_type": "code",
   "execution_count": 98,
   "metadata": {},
   "outputs": [
    {
     "data": {
      "text/plain": [
       "[SystemMessage(content='You are a helpful assistant that understands patent and legal information.', additional_kwargs={}),\n",
       " HumanMessage(content='Given the following question and parts of a patent, create a final answer with references (\"SOURCES\"). Answer concisely in plain English so that a layman could understand.\\nDo not repeat anything in the patent in your answer. If you don\\'t know the answer, just say that you don\\'t know. Don\\'t try to make up an answer.\\nALWAYS return a \"SOURCES\" part in your answer.\\n\\nQUESTION: How does claim 1 differ from claim 15?\\n=========\\nPATENT: patent_number: US8205344B2\\ntitle: Safety razor having pivotable blade unit\\nabstract: A safety razor having a blade unit has at least one blade and a handle casing. A pivotal connection structure is disposed between the blade unit and the handle casing. A first member is connected to the blade unit and a second member is connected to the handle casing. A joint member connects the first member and the second member and facilitates movement of the first member relative to the second member about a hinge axis that is substantially perpendicular to the at least one blade.\\nclaims: 1. A safety razor comprising:\\n a blade unit having at least one blade having a cutting edge; \\n a handle casing; \\n a pivotal connection structure including: \\n a first member connected to the blade unit; \\n a second member connected to the handle casing; and \\n a joint member comprising a plurality of separated joint elements which are disposed along the perpendicular pivot axis, and which connect the first member and the second member that facilitates movement of the first member relative to the second member about a hinge axis that is substantially perpendicular to the at least one cutting edge, wherein the first member has a joint portion, the second member has a joint portion, and the joint member has a thinner wall section toward the hinge axis than toward at least one of the joint portions of the first and second members. \\n \\n     \\n     \\n       2. The safety razor of claim l wherein the joint member includes a plurality of separated joint elements which are disposed along the perpendicular pivot axis. \\n     \\n     \\n       3. The safety razor of  claim 1  wherein the first and second members and the joint member are formed by an identical material. \\n     \\n     \\n       4. The safety razor of  claim 3  wherein the joint member is formed by a unitary material. \\n     \\n     \\n       5. The safety razor according of  claim 3  wherein the first and second members and the joint member are formed by an injection molding process of a thermo plastic material. \\n     \\n     \\n       6. The safety razor of claim l wherein at least one of the first and second members has a convexly curved face facing the other of the first and second members. \\n     \\n     \\n       7. The safety razor of  claim 1  wherein the blade unit has a pivotal connection structure for a pivotal movement about a parallel pivot axis which is substantially parallel to the at least one blade. \\n     \\n     \\n       8. The safety razor of  claim 7  wherein the pivotal connection structure includes a pair of latch arms that secure the pivotal connection structure to the handle casing. \\n     \\n     \\n       9. The safety razor of  claim 7  wherein the blade unit includes a frame with a cam surface and the handle unit includes a spring-biased plunger with a rounded distal end that contacts the cam surface at a location spaced from the parallel pivot axis to impart a biasing force to the frame. \\n     \\n     \\n       10. The safety razor of  claim 1  further comprising a shaving cartridge which is detachable from the handle unit, wherein the shaving cartridge includes the blade unit and the pivotal connection structure. \\n     \\n     \\n       11. The safety razor of  claim 1  further comprising a shaving cartridge which is detachable from the handle unit, wherein the shaving cartridge includes the blade unit and the handle unit includes the pivotal connection structure. \\n     \\n     \\n       12. The safety razor of  claim 1  wherein the separated joint elements include a triangular prism shaped base member and an elastic plate member extending from the base member. \\n     \\n     \\n       13. The safety razor of  claim 12  wherein the elastic plate member is a leaf spring formed by a metal material. \\n     \\n     \\n       14. The safety razor according to  claim 1 , wherein each of the plurality of separated joint elements includes a bearing having a cylindrical shape fixed to the second member and a pivot shaft having one end fixed to the first member and the other end inserted into the bearing. \\n     \\n     \\n       15. A safety razor comprising a blade unit having at least one blade having a cutting edge, a handle unit having a handle casing, and a pivotal connection structure disposed between the blade unit and the handle casing, the blade unit being connected to the handle casing through the pivotal connection structure for a pivotal movement relative thereto about a perpendicular pivot axis which is substantially perpendicular to the at least one cutting edge for following the skin contours of a user during shaving, the pivotal connection structure including;\\n (a) a first member connected to the blade unit, the first member having a joint portion, \\n (b) a second member connected to the handle casing, the second member having a joint portion, and \\n (c) a joint member for jointing, in a hinged manner, the joint portion of the first member with the joint portion of the second member, the pivotal connection structure is constructed such that the joint member has a hinge axis disposed between the joint portions of the first and second members, which works as the perpendicular pivot axis, the joint member includes a plurality of separated joint elements which are disposed along the perpendicular pivot axis wherein each of the plurality of separated joint elements includes a bearing having a cylindrical shape fixed to the second member, and a pivot shaft having one end fixed to the first member and the other end inserted into the bearing. \\n \\n     \\n     \\n       16. The safety razor according to  claim 15 , wherein the first and second members and the joint member are formed by an injection molding process of a thermo plastic material. \\n     \\n     \\n       17. The safety razor according to  claim 15 , wherein at least one of the first and second members has a convexly curved face facing the other of the first and second members. \\n     \\n     \\n       18. The safety razor according to  claim 15 , further comprising a shaving cartridge which is detachable from the handle unit, wherein the shaving cartridge includes the blade unit and the pivotal connection structure. \\n     \\n     \\n       19. The safety razor according to  claim 15 , further comprising a shaving cartridge which is detachable from the handle unit, wherein the shaving cartridge includes the blade unit and the handle unit includes the pivotal connection structure.\\n=========\\nFINAL ANSWER:', additional_kwargs={})]"
      ]
     },
     "execution_count": 98,
     "metadata": {},
     "output_type": "execute_result"
    }
   ],
   "source": [
    "filled_chat_prompt"
   ]
  },
  {
   "cell_type": "code",
   "execution_count": 100,
   "metadata": {},
   "outputs": [],
   "source": [
    "ai_answer = chat(filled_chat_prompt)"
   ]
  },
  {
   "cell_type": "code",
   "execution_count": 101,
   "metadata": {},
   "outputs": [
    {
     "data": {
      "text/plain": [
       "AIMessage(content='Claim 1 and claim 15 both describe a safety razor with a blade unit and a handle casing connected by a pivotal connection structure that allows movement of the blade unit relative to the handle casing about a hinge axis that is perpendicular to the cutting edge of the blade. However, claim 15 specifies that the joint member of the pivotal connection structure includes a plurality of separated joint elements, each with a bearing fixed to the second member and a pivot shaft fixed to the first member and inserted into the bearing. Claim 1 does not specify this feature. \\n\\nSOURCES: US8205344B2', additional_kwargs={})"
      ]
     },
     "execution_count": 101,
     "metadata": {},
     "output_type": "execute_result"
    }
   ],
   "source": [
    "ai_answer"
   ]
  },
  {
   "attachments": {},
   "cell_type": "markdown",
   "metadata": {},
   "source": [
    "Manually pass in previous query and answer as chat history."
   ]
  },
  {
   "cell_type": "code",
   "execution_count": 103,
   "metadata": {},
   "outputs": [],
   "source": [
    "chat_history = [\n",
    "    sys_msg_prompt,\n",
    "    HumanMessagePromptTemplate.from_template(\"How does claim 1 differ from claim 15?\"),\n",
    "    ai_answer,\n",
    "    human_msg_prompt\n",
    "]\n",
    "chat_prompt_2 = ChatPromptTemplate.from_messages(chat_history)\n",
    "filled_chat_prompt_2 = chat_prompt.format_prompt(question=\"Are there any other ways in which claim 1 differs from claim 15?\", patent=data[0].page_content).to_messages()"
   ]
  },
  {
   "cell_type": "code",
   "execution_count": 104,
   "metadata": {},
   "outputs": [
    {
     "data": {
      "text/plain": [
       "AIMessage(content='Without knowing the specific differences between claim 1 and claim 15, it is impossible to answer this question. Claim 1 and claim 15 are both part of the same patent, US8205344B2, which describes a safety razor with a pivotable blade unit. The patent includes various claims related to the construction and operation of the razor, including the use of a joint member with separated joint elements to facilitate movement of the blade unit relative to the handle casing. The patent also describes the use of an injection molding process to form the various components of the razor, as well as the inclusion of a detachable shaving cartridge. \\n\\nSOURCES: US8205344B2', additional_kwargs={})"
      ]
     },
     "execution_count": 104,
     "metadata": {},
     "output_type": "execute_result"
    }
   ],
   "source": [
    "ai_answer_2 = chat(filled_chat_prompt_2)\n",
    "ai_answer_2"
   ]
  },
  {
   "attachments": {},
   "cell_type": "markdown",
   "metadata": {},
   "source": [
    "Hmmmm. TODO Maybe put prelude of human_template in system message? Also, can langchain's memory utilities store chat history for me? Maybe that is a bad idea since don't want to have patent text in every human message of chat history that LLM processes."
   ]
  },
  {
   "attachments": {},
   "cell_type": "markdown",
   "metadata": {},
   "source": [
    "## Take 2: Chat Messages Without Question Condensation"
   ]
  },
  {
   "attachments": {},
   "cell_type": "markdown",
   "metadata": {},
   "source": [
    "Results from below are definitely better than Take 1, if only because of better prompt design and positioning in system message."
   ]
  },
  {
   "cell_type": "code",
   "execution_count": 105,
   "metadata": {},
   "outputs": [],
   "source": [
    "from langchain.chat_models import ChatOpenAI\n",
    "from langchain.prompts.chat import (\n",
    "    ChatPromptTemplate,\n",
    "    SystemMessagePromptTemplate,\n",
    "    AIMessagePromptTemplate,\n",
    "    HumanMessagePromptTemplate,\n",
    ")\n",
    "from langchain.schema import (\n",
    "    AIMessage,\n",
    "    HumanMessage,\n",
    "    SystemMessage\n",
    ")"
   ]
  },
  {
   "cell_type": "code",
   "execution_count": 107,
   "metadata": {},
   "outputs": [],
   "source": [
    "chat = ChatOpenAI(temperature=0, openai_api_key=openai_api_key)"
   ]
  },
  {
   "cell_type": "code",
   "execution_count": 120,
   "metadata": {},
   "outputs": [],
   "source": [
    "sys_msg_template = \"\"\"\n",
    "You are a helpful assistant to a patent lawyer. The lawyer wants your help understanding the patent, which is delimited with triple backticks. \n",
    "Answer the lawyer's questions in 300 words or less. Only use information from the patent delimited by triple backticks. Cite text from the patent in quotes in your answer. \n",
    "If you don't know the answer, just say that you don't know. Don't try to make up an answer.\n",
    "\n",
    "Patent: '''{patent}'''\"\"\"\n",
    "\n",
    "sys_msg_prompt = SystemMessagePromptTemplate.from_template(sys_msg_template)\n",
    "\n",
    "human_template = \"\"\"The lawyer's question is delimited with triple backticks.\n",
    "\n",
    "Lawyer's question: '''{question}'''\"\"\"\n",
    "\n",
    "human_msg_prompt = HumanMessagePromptTemplate.from_template(human_template)\n",
    "\n",
    "chat_prompt = ChatPromptTemplate.from_messages([sys_msg_prompt, human_msg_prompt])\n",
    "\n",
    "# Get a chat completion from the formatted messages.\n",
    "# Both page_content and 'source' key of metadata are injected into prompt in document QA. Formatting still unclear. For now just passing page_content because only have single doc.\n",
    "filled_chat_prompt = chat_prompt.format_prompt(question=\"How does claim 1 differ from claim 15?\", patent=data[0].page_content).to_messages()"
   ]
  },
  {
   "cell_type": "code",
   "execution_count": 121,
   "metadata": {},
   "outputs": [
    {
     "data": {
      "text/plain": [
       "[SystemMessage(content=\"\\nYou are a helpful assistant to a patent lawyer. The lawyer wants your help understanding the patent, which is delimited with triple backticks. \\nAnswer the lawyer's questions in 300 words or less. Only use information from the patent delimited by triple backticks. Cite text from the patent in quotes in your answer. \\nIf you don't know the answer, just say that you don't know. Don't try to make up an answer.\\n\\nPatent: '''patent_number: US8205344B2\\ntitle: Safety razor having pivotable blade unit\\nabstract: A safety razor having a blade unit has at least one blade and a handle casing. A pivotal connection structure is disposed between the blade unit and the handle casing. A first member is connected to the blade unit and a second member is connected to the handle casing. A joint member connects the first member and the second member and facilitates movement of the first member relative to the second member about a hinge axis that is substantially perpendicular to the at least one blade.\\nclaims: 1. A safety razor comprising:\\n a blade unit having at least one blade having a cutting edge; \\n a handle casing; \\n a pivotal connection structure including: \\n a first member connected to the blade unit; \\n a second member connected to the handle casing; and \\n a joint member comprising a plurality of separated joint elements which are disposed along the perpendicular pivot axis, and which connect the first member and the second member that facilitates movement of the first member relative to the second member about a hinge axis that is substantially perpendicular to the at least one cutting edge, wherein the first member has a joint portion, the second member has a joint portion, and the joint member has a thinner wall section toward the hinge axis than toward at least one of the joint portions of the first and second members. \\n \\n     \\n     \\n       2. The safety razor of claim l wherein the joint member includes a plurality of separated joint elements which are disposed along the perpendicular pivot axis. \\n     \\n     \\n       3. The safety razor of  claim 1  wherein the first and second members and the joint member are formed by an identical material. \\n     \\n     \\n       4. The safety razor of  claim 3  wherein the joint member is formed by a unitary material. \\n     \\n     \\n       5. The safety razor according of  claim 3  wherein the first and second members and the joint member are formed by an injection molding process of a thermo plastic material. \\n     \\n     \\n       6. The safety razor of claim l wherein at least one of the first and second members has a convexly curved face facing the other of the first and second members. \\n     \\n     \\n       7. The safety razor of  claim 1  wherein the blade unit has a pivotal connection structure for a pivotal movement about a parallel pivot axis which is substantially parallel to the at least one blade. \\n     \\n     \\n       8. The safety razor of  claim 7  wherein the pivotal connection structure includes a pair of latch arms that secure the pivotal connection structure to the handle casing. \\n     \\n     \\n       9. The safety razor of  claim 7  wherein the blade unit includes a frame with a cam surface and the handle unit includes a spring-biased plunger with a rounded distal end that contacts the cam surface at a location spaced from the parallel pivot axis to impart a biasing force to the frame. \\n     \\n     \\n       10. The safety razor of  claim 1  further comprising a shaving cartridge which is detachable from the handle unit, wherein the shaving cartridge includes the blade unit and the pivotal connection structure. \\n     \\n     \\n       11. The safety razor of  claim 1  further comprising a shaving cartridge which is detachable from the handle unit, wherein the shaving cartridge includes the blade unit and the handle unit includes the pivotal connection structure. \\n     \\n     \\n       12. The safety razor of  claim 1  wherein the separated joint elements include a triangular prism shaped base member and an elastic plate member extending from the base member. \\n     \\n     \\n       13. The safety razor of  claim 12  wherein the elastic plate member is a leaf spring formed by a metal material. \\n     \\n     \\n       14. The safety razor according to  claim 1 , wherein each of the plurality of separated joint elements includes a bearing having a cylindrical shape fixed to the second member and a pivot shaft having one end fixed to the first member and the other end inserted into the bearing. \\n     \\n     \\n       15. A safety razor comprising a blade unit having at least one blade having a cutting edge, a handle unit having a handle casing, and a pivotal connection structure disposed between the blade unit and the handle casing, the blade unit being connected to the handle casing through the pivotal connection structure for a pivotal movement relative thereto about a perpendicular pivot axis which is substantially perpendicular to the at least one cutting edge for following the skin contours of a user during shaving, the pivotal connection structure including;\\n (a) a first member connected to the blade unit, the first member having a joint portion, \\n (b) a second member connected to the handle casing, the second member having a joint portion, and \\n (c) a joint member for jointing, in a hinged manner, the joint portion of the first member with the joint portion of the second member, the pivotal connection structure is constructed such that the joint member has a hinge axis disposed between the joint portions of the first and second members, which works as the perpendicular pivot axis, the joint member includes a plurality of separated joint elements which are disposed along the perpendicular pivot axis wherein each of the plurality of separated joint elements includes a bearing having a cylindrical shape fixed to the second member, and a pivot shaft having one end fixed to the first member and the other end inserted into the bearing. \\n \\n     \\n     \\n       16. The safety razor according to  claim 15 , wherein the first and second members and the joint member are formed by an injection molding process of a thermo plastic material. \\n     \\n     \\n       17. The safety razor according to  claim 15 , wherein at least one of the first and second members has a convexly curved face facing the other of the first and second members. \\n     \\n     \\n       18. The safety razor according to  claim 15 , further comprising a shaving cartridge which is detachable from the handle unit, wherein the shaving cartridge includes the blade unit and the pivotal connection structure. \\n     \\n     \\n       19. The safety razor according to  claim 15 , further comprising a shaving cartridge which is detachable from the handle unit, wherein the shaving cartridge includes the blade unit and the handle unit includes the pivotal connection structure.'''\", additional_kwargs={}),\n",
       " HumanMessage(content=\"The lawyer's question is delimited with triple backticks.\\n\\nLawyer's question: '''How does claim 1 differ from claim 15?'''\", additional_kwargs={})]"
      ]
     },
     "execution_count": 121,
     "metadata": {},
     "output_type": "execute_result"
    }
   ],
   "source": [
    "filled_chat_prompt"
   ]
  },
  {
   "cell_type": "code",
   "execution_count": 122,
   "metadata": {},
   "outputs": [
    {
     "data": {
      "text/plain": [
       "AIMessage(content='Claim 1 and claim 15 both describe a safety razor with a blade unit having at least one blade and a handle casing, and a pivotal connection structure between the blade unit and the handle casing that allows movement of the blade unit relative to the handle casing about a hinge axis that is substantially perpendicular to the cutting edge of the blade. However, claim 1 describes the pivotal connection structure as having a joint member comprising a plurality of separated joint elements which are disposed along the perpendicular pivot axis, while claim 15 describes the joint member as being for jointing, in a hinged manner, the joint portion of the first member with the joint portion of the second member, and constructed such that the joint member has a hinge axis disposed between the joint portions of the first and second members, which works as the perpendicular pivot axis, and includes a plurality of separated joint elements which are disposed along the perpendicular pivot axis, wherein each of the plurality of separated joint elements includes a bearing having a cylindrical shape fixed to the second member, and a pivot shaft having one end fixed to the first member and the other end inserted into the bearing. Therefore, claim 15 provides more specific details about the construction of the joint member and the pivotal connection structure.', additional_kwargs={})"
      ]
     },
     "execution_count": 122,
     "metadata": {},
     "output_type": "execute_result"
    }
   ],
   "source": [
    "ai_answer = chat(filled_chat_prompt)\n",
    "ai_answer"
   ]
  },
  {
   "cell_type": "code",
   "execution_count": 112,
   "metadata": {},
   "outputs": [
    {
     "data": {
      "text/plain": [
       "150"
      ]
     },
     "execution_count": 112,
     "metadata": {},
     "output_type": "execute_result"
    }
   ],
   "source": [
    "len(ai_answer.content.split(' '))"
   ]
  },
  {
   "cell_type": "code",
   "execution_count": 126,
   "metadata": {},
   "outputs": [
    {
     "data": {
      "text/plain": [
       "langchain.schema.SystemMessage"
      ]
     },
     "execution_count": 126,
     "metadata": {},
     "output_type": "execute_result"
    }
   ],
   "source": [
    "type(filled_chat_prompt[0])"
   ]
  },
  {
   "attachments": {},
   "cell_type": "markdown",
   "metadata": {},
   "source": [
    "Put the AI's answer in the list of chat messages."
   ]
  },
  {
   "cell_type": "code",
   "execution_count": 127,
   "metadata": {},
   "outputs": [],
   "source": [
    "filled_chat_prompt.append(ai_answer)"
   ]
  },
  {
   "attachments": {},
   "cell_type": "markdown",
   "metadata": {},
   "source": [
    "User enters new message."
   ]
  },
  {
   "cell_type": "code",
   "execution_count": 130,
   "metadata": {},
   "outputs": [
    {
     "name": "stdout",
     "output_type": "stream",
     "text": [
      "content=\"The lawyer's question is delimited with triple backticks.\\n\\nLawyer's question: '''How does claim 1 differ from claim 15?'''\" additional_kwargs={}\n",
      "content=\"The lawyer's question is delimited with triple backticks.\\n\\nLawyer's question: '''Can you elaborate more on differences between the hinges in claims 1 and 15?'''\" additional_kwargs={}\n"
     ]
    }
   ],
   "source": [
    "filled_chat_prompt.append(human_msg_prompt)\n",
    "\n",
    "chat_prompt = ChatPromptTemplate.from_messages(filled_chat_prompt)\n",
    "\n",
    "# Unlike before, don't need patent data since already was injected into chat prompt. Just inject new user message.\n",
    "filled_chat_prompt = chat_prompt.format_prompt(question=\"Can you elaborate more on differences between the hinges in claims 1 and 15?\").to_messages()\n",
    "# Observe that using `question` in format_prompt only modified the last message, since it existed as a template whereas the first human message existed as a stati human message.\n",
    "print(filled_chat_prompt[1])\n",
    "print(filled_chat_prompt[-1])"
   ]
  },
  {
   "cell_type": "code",
   "execution_count": 134,
   "metadata": {},
   "outputs": [
    {
     "data": {
      "text/plain": [
       "AIMessage(content='Both claim 1 and claim 15 describe a safety razor with a pivotal connection structure that allows movement of the blade unit relative to the handle casing about a hinge axis that is substantially perpendicular to the cutting edge of the blade. However, claim 1 describes the joint member as comprising a plurality of separated joint elements which are disposed along the perpendicular pivot axis, while claim 15 describes the joint member as being for jointing, in a hinged manner, the joint portion of the first member with the joint portion of the second member, and constructed such that the joint member has a hinge axis disposed between the joint portions of the first and second members, which works as the perpendicular pivot axis, and includes a plurality of separated joint elements which are disposed along the perpendicular pivot axis, wherein each of the plurality of separated joint elements includes a bearing having a cylindrical shape fixed to the second member, and a pivot shaft having one end fixed to the first member and the other end inserted into the bearing.\\n\\nTherefore, the main difference between the hinges in claims 1 and 15 is that claim 15 provides more specific details about the construction of the joint member and the pivotal connection structure. Claim 15 describes a joint member that is specifically designed to hinge the joint portion of the first member with the joint portion of the second member, and includes a plurality of separated joint elements that are disposed along the perpendicular pivot axis. Each of these joint elements includes a bearing and a pivot shaft, which work together to facilitate movement of the blade unit relative to the handle casing. In contrast, claim 1 describes a joint member that comprises a plurality of separated joint elements, but does not provide specific details about the construction of these elements.', additional_kwargs={})"
      ]
     },
     "execution_count": 134,
     "metadata": {},
     "output_type": "execute_result"
    }
   ],
   "source": [
    "ai_answer = chat(filled_chat_prompt)\n",
    "ai_answer"
   ]
  },
  {
   "cell_type": "code",
   "execution_count": 135,
   "metadata": {},
   "outputs": [],
   "source": [
    "filled_chat_prompt.append(ai_answer)"
   ]
  },
  {
   "attachments": {},
   "cell_type": "markdown",
   "metadata": {},
   "source": [
    "One option for saving chat history to MongoDB is serializing. Downside is that user later on requires equivalent langchain installation in client."
   ]
  },
  {
   "cell_type": "code",
   "execution_count": 137,
   "metadata": {},
   "outputs": [
    {
     "data": {
      "text/plain": [
       "[SystemMessage(content=\"\\nYou are a helpful assistant to a patent lawyer. The lawyer wants your help understanding the patent, which is delimited with triple backticks. \\nAnswer the lawyer's questions in 300 words or less. Only use information from the patent delimited by triple backticks. Cite text from the patent in quotes in your answer. \\nIf you don't know the answer, just say that you don't know. Don't try to make up an answer.\\n\\nPatent: '''patent_number: US8205344B2\\ntitle: Safety razor having pivotable blade unit\\nabstract: A safety razor having a blade unit has at least one blade and a handle casing. A pivotal connection structure is disposed between the blade unit and the handle casing. A first member is connected to the blade unit and a second member is connected to the handle casing. A joint member connects the first member and the second member and facilitates movement of the first member relative to the second member about a hinge axis that is substantially perpendicular to the at least one blade.\\nclaims: 1. A safety razor comprising:\\n a blade unit having at least one blade having a cutting edge; \\n a handle casing; \\n a pivotal connection structure including: \\n a first member connected to the blade unit; \\n a second member connected to the handle casing; and \\n a joint member comprising a plurality of separated joint elements which are disposed along the perpendicular pivot axis, and which connect the first member and the second member that facilitates movement of the first member relative to the second member about a hinge axis that is substantially perpendicular to the at least one cutting edge, wherein the first member has a joint portion, the second member has a joint portion, and the joint member has a thinner wall section toward the hinge axis than toward at least one of the joint portions of the first and second members. \\n \\n     \\n     \\n       2. The safety razor of claim l wherein the joint member includes a plurality of separated joint elements which are disposed along the perpendicular pivot axis. \\n     \\n     \\n       3. The safety razor of  claim 1  wherein the first and second members and the joint member are formed by an identical material. \\n     \\n     \\n       4. The safety razor of  claim 3  wherein the joint member is formed by a unitary material. \\n     \\n     \\n       5. The safety razor according of  claim 3  wherein the first and second members and the joint member are formed by an injection molding process of a thermo plastic material. \\n     \\n     \\n       6. The safety razor of claim l wherein at least one of the first and second members has a convexly curved face facing the other of the first and second members. \\n     \\n     \\n       7. The safety razor of  claim 1  wherein the blade unit has a pivotal connection structure for a pivotal movement about a parallel pivot axis which is substantially parallel to the at least one blade. \\n     \\n     \\n       8. The safety razor of  claim 7  wherein the pivotal connection structure includes a pair of latch arms that secure the pivotal connection structure to the handle casing. \\n     \\n     \\n       9. The safety razor of  claim 7  wherein the blade unit includes a frame with a cam surface and the handle unit includes a spring-biased plunger with a rounded distal end that contacts the cam surface at a location spaced from the parallel pivot axis to impart a biasing force to the frame. \\n     \\n     \\n       10. The safety razor of  claim 1  further comprising a shaving cartridge which is detachable from the handle unit, wherein the shaving cartridge includes the blade unit and the pivotal connection structure. \\n     \\n     \\n       11. The safety razor of  claim 1  further comprising a shaving cartridge which is detachable from the handle unit, wherein the shaving cartridge includes the blade unit and the handle unit includes the pivotal connection structure. \\n     \\n     \\n       12. The safety razor of  claim 1  wherein the separated joint elements include a triangular prism shaped base member and an elastic plate member extending from the base member. \\n     \\n     \\n       13. The safety razor of  claim 12  wherein the elastic plate member is a leaf spring formed by a metal material. \\n     \\n     \\n       14. The safety razor according to  claim 1 , wherein each of the plurality of separated joint elements includes a bearing having a cylindrical shape fixed to the second member and a pivot shaft having one end fixed to the first member and the other end inserted into the bearing. \\n     \\n     \\n       15. A safety razor comprising a blade unit having at least one blade having a cutting edge, a handle unit having a handle casing, and a pivotal connection structure disposed between the blade unit and the handle casing, the blade unit being connected to the handle casing through the pivotal connection structure for a pivotal movement relative thereto about a perpendicular pivot axis which is substantially perpendicular to the at least one cutting edge for following the skin contours of a user during shaving, the pivotal connection structure including;\\n (a) a first member connected to the blade unit, the first member having a joint portion, \\n (b) a second member connected to the handle casing, the second member having a joint portion, and \\n (c) a joint member for jointing, in a hinged manner, the joint portion of the first member with the joint portion of the second member, the pivotal connection structure is constructed such that the joint member has a hinge axis disposed between the joint portions of the first and second members, which works as the perpendicular pivot axis, the joint member includes a plurality of separated joint elements which are disposed along the perpendicular pivot axis wherein each of the plurality of separated joint elements includes a bearing having a cylindrical shape fixed to the second member, and a pivot shaft having one end fixed to the first member and the other end inserted into the bearing. \\n \\n     \\n     \\n       16. The safety razor according to  claim 15 , wherein the first and second members and the joint member are formed by an injection molding process of a thermo plastic material. \\n     \\n     \\n       17. The safety razor according to  claim 15 , wherein at least one of the first and second members has a convexly curved face facing the other of the first and second members. \\n     \\n     \\n       18. The safety razor according to  claim 15 , further comprising a shaving cartridge which is detachable from the handle unit, wherein the shaving cartridge includes the blade unit and the pivotal connection structure. \\n     \\n     \\n       19. The safety razor according to  claim 15 , further comprising a shaving cartridge which is detachable from the handle unit, wherein the shaving cartridge includes the blade unit and the handle unit includes the pivotal connection structure.'''\", additional_kwargs={}),\n",
       " HumanMessage(content=\"The lawyer's question is delimited with triple backticks.\\n\\nLawyer's question: '''How does claim 1 differ from claim 15?'''\", additional_kwargs={}),\n",
       " AIMessage(content='Claim 1 and claim 15 both describe a safety razor with a blade unit having at least one blade and a handle casing, and a pivotal connection structure between the blade unit and the handle casing that allows movement of the blade unit relative to the handle casing about a hinge axis that is substantially perpendicular to the cutting edge of the blade. However, claim 1 describes the pivotal connection structure as having a joint member comprising a plurality of separated joint elements which are disposed along the perpendicular pivot axis, while claim 15 describes the joint member as being for jointing, in a hinged manner, the joint portion of the first member with the joint portion of the second member, and constructed such that the joint member has a hinge axis disposed between the joint portions of the first and second members, which works as the perpendicular pivot axis, and includes a plurality of separated joint elements which are disposed along the perpendicular pivot axis, wherein each of the plurality of separated joint elements includes a bearing having a cylindrical shape fixed to the second member, and a pivot shaft having one end fixed to the first member and the other end inserted into the bearing. Therefore, claim 15 provides more specific details about the construction of the joint member and the pivotal connection structure.', additional_kwargs={}),\n",
       " HumanMessage(content=\"The lawyer's question is delimited with triple backticks.\\n\\nLawyer's question: '''Can you elaborate more on differences between the hinges in claims 1 and 15?'''\", additional_kwargs={}),\n",
       " AIMessage(content='Both claim 1 and claim 15 describe a safety razor with a pivotal connection structure that allows movement of the blade unit relative to the handle casing about a hinge axis that is substantially perpendicular to the cutting edge of the blade. However, claim 1 describes the joint member as comprising a plurality of separated joint elements which are disposed along the perpendicular pivot axis, while claim 15 describes the joint member as being for jointing, in a hinged manner, the joint portion of the first member with the joint portion of the second member, and constructed such that the joint member has a hinge axis disposed between the joint portions of the first and second members, which works as the perpendicular pivot axis, and includes a plurality of separated joint elements which are disposed along the perpendicular pivot axis, wherein each of the plurality of separated joint elements includes a bearing having a cylindrical shape fixed to the second member, and a pivot shaft having one end fixed to the first member and the other end inserted into the bearing.\\n\\nTherefore, the main difference between the hinges in claims 1 and 15 is that claim 15 provides more specific details about the construction of the joint member and the pivotal connection structure. Claim 15 describes a joint member that is specifically designed to hinge the joint portion of the first member with the joint portion of the second member, and includes a plurality of separated joint elements that are disposed along the perpendicular pivot axis. Each of these joint elements includes a bearing and a pivot shaft, which work together to facilitate movement of the blade unit relative to the handle casing. In contrast, claim 1 describes a joint member that comprises a plurality of separated joint elements, but does not provide specific details about the construction of these elements.', additional_kwargs={})]"
      ]
     },
     "execution_count": 137,
     "metadata": {},
     "output_type": "execute_result"
    }
   ],
   "source": [
    "import pickle\n",
    "pickled = pickle.dumps(filled_chat_prompt)\n",
    "restored = pickle.loads(pickled)\n",
    "restored"
   ]
  },
  {
   "attachments": {},
   "cell_type": "markdown",
   "metadata": {},
   "source": [
    "## Take 3: Chat Messages Without Question Condensation"
   ]
  },
  {
   "attachments": {},
   "cell_type": "markdown",
   "metadata": {},
   "source": [
    "Here, trying to get model to think through its outputs step by step."
   ]
  },
  {
   "cell_type": "code",
   "execution_count": null,
   "metadata": {},
   "outputs": [],
   "source": [
    "from langchain.chat_models import ChatOpenAI\n",
    "from langchain.prompts.chat import (\n",
    "    ChatPromptTemplate,\n",
    "    SystemMessagePromptTemplate,\n",
    "    AIMessagePromptTemplate,\n",
    "    HumanMessagePromptTemplate,\n",
    ")\n",
    "from langchain.schema import (\n",
    "    AIMessage,\n",
    "    HumanMessage,\n",
    "    SystemMessage\n",
    ")"
   ]
  },
  {
   "cell_type": "code",
   "execution_count": 140,
   "metadata": {},
   "outputs": [],
   "source": [
    "chat = ChatOpenAI(temperature=0, openai_api_key=openai_api_key)"
   ]
  },
  {
   "cell_type": "code",
   "execution_count": 147,
   "metadata": {},
   "outputs": [],
   "source": [
    "sys_msg_template = \"\"\"\n",
    "You are a helpful assistant to a patent lawyer. The lawyer wants your help understanding a patent, which is delimited with triple backticks. \n",
    "Perform the following actions:\n",
    "1 - Extract the key words and phrases of each indepedent claim, especially those that distinguish the independent claims from each other. Format your answer as a JSON whose keys are independent \n",
    "claim numbers and whose values are lists of extracted key words and phrases. You should consider the dependent claims of each independent claim in an independent claim's key words and phrases.\n",
    "2 - Answer the lawyer's questions about the patent in 300 words or less. Cite text from the patent in quotes in your answer. If you don't know the answer, just say that you don't know. Don't try to make up an answer.\n",
    "\n",
    "Use the following format:\n",
    "\n",
    "Patent: \n",
    "```\n",
    "patent the lawyer is interested in\n",
    "```\n",
    "Key Words and Phrases: \n",
    "```\n",
    "Distinguishing key words and phrases for each independent claim\n",
    "```\n",
    "Answer: \n",
    "```\n",
    "Your answer to the lawyer's question\n",
    "```\n",
    "\n",
    "Patent: \n",
    "```\n",
    "{patent}\n",
    "```\n",
    "Key Words and Phrases:\n",
    "\"\"\"\n",
    "\n",
    "sys_msg_prompt_template = SystemMessagePromptTemplate.from_template(sys_msg_template)\n",
    "\n",
    "human_template = \"\"\"The lawyer's question is delimited with triple backticks.\n",
    "\n",
    "Lawyer's question: '''{question}'''\"\"\"\n",
    "\n",
    "human_msg_prompt_template = HumanMessagePromptTemplate.from_template(human_template)\n",
    "\n",
    "chat_prompt_template = ChatPromptTemplate.from_messages([sys_msg_prompt_template, human_msg_prompt_template])\n",
    "\n",
    "# Get a chat completion from the formatted messages.\n",
    "# Both page_content and 'source' key of metadata are injected into prompt in document QA. Formatting still unclear. For now just passing page_content because only have single doc.\n",
    "chat_prompt = chat_prompt_template.format_prompt(question=\"How does claim 1 differ from claim 15?\", patent=data[0].page_content).to_messages()"
   ]
  },
  {
   "cell_type": "code",
   "execution_count": 148,
   "metadata": {},
   "outputs": [],
   "source": [
    "result = chat.generate([chat_prompt])"
   ]
  },
  {
   "cell_type": "code",
   "execution_count": 149,
   "metadata": {},
   "outputs": [
    {
     "data": {
      "text/plain": [
       "{'token_usage': {'prompt_tokens': 1542,\n",
       "  'completion_tokens': 448,\n",
       "  'total_tokens': 1990},\n",
       " 'model_name': 'gpt-3.5-turbo'}"
      ]
     },
     "execution_count": 149,
     "metadata": {},
     "output_type": "execute_result"
    }
   ],
   "source": [
    "result.llm_output"
   ]
  },
  {
   "cell_type": "code",
   "execution_count": 150,
   "metadata": {},
   "outputs": [
    {
     "data": {
      "text/plain": [
       "[ChatGeneration(text='Key Words and Phrases:\\n\\nClaim 1:\\n- safety razor\\n- blade unit\\n- at least one blade\\n- cutting edge\\n- handle casing\\n- pivotal connection structure\\n- first member\\n- second member\\n- joint member\\n- hinge axis\\n- perpendicular to the cutting edge\\n- joint portion\\n- thinner wall section\\n- convexly curved face\\n\\nClaim 15:\\n- safety razor\\n- blade unit\\n- at least one blade\\n- cutting edge\\n- handle unit\\n- handle casing\\n- pivotal connection structure\\n- first member\\n- second member\\n- joint member\\n- hinge axis\\n- perpendicular to the cutting edge\\n- joint portion\\n- bearing\\n- cylindrical shape\\n- pivot shaft\\n- injection molding process\\n- thermo plastic material\\n- convexly curved face\\n- shaving cartridge\\n- detachable\\n\\nAnswer:\\n\\nClaim 1 and Claim 15 are similar in that they both describe a safety razor with a blade unit having at least one blade with a cutting edge, a handle casing or handle unit, and a pivotal connection structure that allows the blade unit to move relative to the handle about a hinge axis that is perpendicular to the cutting edge. \\n\\nHowever, Claim 15 specifies that the pivotal connection structure includes a joint member for jointing the joint portion of the first member with the joint portion of the second member in a hinged manner. The joint member has a hinge axis disposed between the joint portions of the first and second members, which works as the perpendicular pivot axis. The joint member includes a plurality of separated joint elements which are disposed along the perpendicular pivot axis, and each of the plurality of separated joint elements includes a bearing having a cylindrical shape fixed to the second member and a pivot shaft having one end fixed to the first member and the other end inserted into the bearing. \\n\\nClaim 15 also specifies that the safety razor may include a shaving cartridge that is detachable from the handle unit and includes the blade unit and the pivotal connection structure. \\n\\nTherefore, Claim 15 differs from Claim 1 in that it provides more specific details about the pivotal connection structure, including the joint member and the separated joint elements, and it specifies the possibility of a detachable shaving cartridge.', generation_info=None, message=AIMessage(content='Key Words and Phrases:\\n\\nClaim 1:\\n- safety razor\\n- blade unit\\n- at least one blade\\n- cutting edge\\n- handle casing\\n- pivotal connection structure\\n- first member\\n- second member\\n- joint member\\n- hinge axis\\n- perpendicular to the cutting edge\\n- joint portion\\n- thinner wall section\\n- convexly curved face\\n\\nClaim 15:\\n- safety razor\\n- blade unit\\n- at least one blade\\n- cutting edge\\n- handle unit\\n- handle casing\\n- pivotal connection structure\\n- first member\\n- second member\\n- joint member\\n- hinge axis\\n- perpendicular to the cutting edge\\n- joint portion\\n- bearing\\n- cylindrical shape\\n- pivot shaft\\n- injection molding process\\n- thermo plastic material\\n- convexly curved face\\n- shaving cartridge\\n- detachable\\n\\nAnswer:\\n\\nClaim 1 and Claim 15 are similar in that they both describe a safety razor with a blade unit having at least one blade with a cutting edge, a handle casing or handle unit, and a pivotal connection structure that allows the blade unit to move relative to the handle about a hinge axis that is perpendicular to the cutting edge. \\n\\nHowever, Claim 15 specifies that the pivotal connection structure includes a joint member for jointing the joint portion of the first member with the joint portion of the second member in a hinged manner. The joint member has a hinge axis disposed between the joint portions of the first and second members, which works as the perpendicular pivot axis. The joint member includes a plurality of separated joint elements which are disposed along the perpendicular pivot axis, and each of the plurality of separated joint elements includes a bearing having a cylindrical shape fixed to the second member and a pivot shaft having one end fixed to the first member and the other end inserted into the bearing. \\n\\nClaim 15 also specifies that the safety razor may include a shaving cartridge that is detachable from the handle unit and includes the blade unit and the pivotal connection structure. \\n\\nTherefore, Claim 15 differs from Claim 1 in that it provides more specific details about the pivotal connection structure, including the joint member and the separated joint elements, and it specifies the possibility of a detachable shaving cartridge.', additional_kwargs={}))]"
      ]
     },
     "execution_count": 150,
     "metadata": {},
     "output_type": "execute_result"
    }
   ],
   "source": [
    "result.generations[0]"
   ]
  },
  {
   "attachments": {},
   "cell_type": "markdown",
   "metadata": {},
   "source": [
    "Well... the detachable thing is wrong. Both claims 1 and 15 allow that. Also the key words and phrases are not formatted as a JSON."
   ]
  },
  {
   "attachments": {},
   "cell_type": "markdown",
   "metadata": {},
   "source": [
    "## Take 4: Chat Messages Without Question Condensation"
   ]
  },
  {
   "attachments": {},
   "cell_type": "markdown",
   "metadata": {},
   "source": [
    "Maybe we can shrink the system prompt a bit. Result: Removing formatting guidelines caused AI to not return keywords."
   ]
  },
  {
   "cell_type": "code",
   "execution_count": 144,
   "metadata": {},
   "outputs": [],
   "source": [
    "from langchain.chat_models import ChatOpenAI\n",
    "from langchain.prompts.chat import (\n",
    "    ChatPromptTemplate,\n",
    "    SystemMessagePromptTemplate,\n",
    "    AIMessagePromptTemplate,\n",
    "    HumanMessagePromptTemplate,\n",
    ")\n",
    "from langchain.schema import (\n",
    "    AIMessage,\n",
    "    HumanMessage,\n",
    "    SystemMessage\n",
    ")"
   ]
  },
  {
   "cell_type": "code",
   "execution_count": 145,
   "metadata": {},
   "outputs": [],
   "source": [
    "chat = ChatOpenAI(temperature=0, openai_api_key=openai_api_key)"
   ]
  },
  {
   "cell_type": "code",
   "execution_count": 151,
   "metadata": {},
   "outputs": [],
   "source": [
    "sys_msg_template = \"\"\"\n",
    "You are a helpful assistant to a patent lawyer. The lawyer wants your help understanding a patent, which is delimited with triple backticks. \n",
    "In the following messages from the lawyer, you will be asked questions about the patent. Respond to each message by performing the following actions:\n",
    "1 - Extract the key words and phrases of each indepedent claim, especially those that distinguish the independent claims from each other. Format your answer as a JSON whose keys are independent \n",
    "claim numbers and whose values are lists of extracted key words and phrases. You should consider the dependent claims of each independent claim in an independent claim's key words and phrases.\n",
    "2 - Answer the lawyer's questions about the patent in 300 words or less. Cite text from the patent in quotes in your answer. If you don't know the answer, just say that you don't know. Don't try to make up an answer.\n",
    "\n",
    "Patent: \n",
    "```\n",
    "{patent}\n",
    "```\n",
    "\"\"\"\n",
    "\n",
    "sys_msg_prompt_template = SystemMessagePromptTemplate.from_template(sys_msg_template)\n",
    "\n",
    "human_template = \"\"\"The lawyer's question is delimited with triple backticks.\n",
    "\n",
    "Lawyer's question: '''{question}'''\"\"\"\n",
    "\n",
    "human_msg_prompt_template = HumanMessagePromptTemplate.from_template(human_template)\n",
    "\n",
    "chat_prompt_template = ChatPromptTemplate.from_messages([sys_msg_prompt_template, human_msg_prompt_template])\n",
    "\n",
    "# Get a chat completion from the formatted messages.\n",
    "# Both page_content and 'source' key of metadata are injected into prompt in document QA. Formatting still unclear. For now just passing page_content because only have single doc.\n",
    "chat_prompt = chat_prompt_template.format_prompt(question=\"How does claim 1 differ from claim 15?\", patent=data[0].page_content).to_messages()"
   ]
  },
  {
   "cell_type": "code",
   "execution_count": 152,
   "metadata": {},
   "outputs": [
    {
     "data": {
      "text/plain": [
       "{'token_usage': {'prompt_tokens': 1499,\n",
       "  'completion_tokens': 477,\n",
       "  'total_tokens': 1976},\n",
       " 'model_name': 'gpt-3.5-turbo'}"
      ]
     },
     "execution_count": 152,
     "metadata": {},
     "output_type": "execute_result"
    }
   ],
   "source": [
    "result = chat.generate([chat_prompt])\n",
    "result.llm_output"
   ]
  },
  {
   "cell_type": "code",
   "execution_count": 153,
   "metadata": {},
   "outputs": [
    {
     "data": {
      "text/plain": [
       "'Claim 1 and claim 15 are similar in that they both describe a safety razor with a blade unit having at least one blade with a cutting edge, a handle casing, and a pivotal connection structure disposed between the blade unit and the handle casing. The pivotal connection structure allows for movement of the blade unit relative to the handle casing about a hinge axis that is substantially perpendicular to the at least one cutting edge. However, there are some differences between the two claims. \\n\\nClaim 1 describes the pivotal connection structure as including a first member connected to the blade unit, a second member connected to the handle casing, and a joint member comprising a plurality of separated joint elements which are disposed along the perpendicular pivot axis and which connect the first member and the second member. The joint member has a thinner wall section toward the hinge axis than toward at least one of the joint portions of the first and second members. Claim 1 also does not mention any specific shape or material for the joint elements.\\n\\nClaim 15, on the other hand, describes the pivotal connection structure as including a first member connected to the blade unit, a second member connected to the handle casing, and a joint member for jointing, in a hinged manner, the joint portion of the first member with the joint portion of the second member. The joint member has a hinge axis disposed between the joint portions of the first and second members, which works as the perpendicular pivot axis. Claim 15 also specifies that the joint member includes a plurality of separated joint elements which are disposed along the perpendicular pivot axis, and each of the plurality of separated joint elements includes a bearing having a cylindrical shape fixed to the second member, and a pivot shaft having one end fixed to the first member and the other end inserted into the bearing. Claim 15 also specifies that the first and second members and the joint member are formed by an injection molding process of a thermo plastic material.\\n\\nIn summary, claim 1 and claim 15 both describe a safety razor with a pivotal connection structure that allows for movement of the blade unit relative to the handle casing about a hinge axis that is substantially perpendicular to the at least one cutting edge. However, claim 15 specifies more details about the joint member and the separated joint elements, and also specifies that the first and second members and the joint member are formed by an injection molding process of a thermo plastic material.'"
      ]
     },
     "execution_count": 153,
     "metadata": {},
     "output_type": "execute_result"
    }
   ],
   "source": [
    "result.generations[0][0].text"
   ]
  },
  {
   "attachments": {},
   "cell_type": "markdown",
   "metadata": {},
   "source": [
    "Now the darn thing isn't even outputting a JSON of keywords."
   ]
  },
  {
   "attachments": {},
   "cell_type": "markdown",
   "metadata": {},
   "source": [
    "## Take 5: Chat Messages Without Condensation"
   ]
  },
  {
   "attachments": {},
   "cell_type": "markdown",
   "metadata": {},
   "source": [
    "Try manually extracting differences in wording of claims and feeding that into prompt."
   ]
  },
  {
   "attachments": {},
   "cell_type": "markdown",
   "metadata": {},
   "source": [
    "### Extracting Word Set Diffs"
   ]
  },
  {
   "cell_type": "code",
   "execution_count": 156,
   "metadata": {},
   "outputs": [
    {
     "data": {
      "text/plain": [
       "'patent_number: US8205344B2\\ntitle: Safety razor having pivotable blade unit\\nabstract: A safety razor having a blade unit has at least one blade and a handle casing. A pivotal connection structure is disposed between the blade unit and the handle casing. A first member is connected to the blade unit and a second member is connected to the handle casing. A joint member connects the first member and the second member and facilitates movement of the first member relative to the second member about a hinge axis that is substantially perpendicular to the at least one blade.\\nclaims: 1. A safety razor comprising:\\n a blade unit having at least one blade having a cutting edge; \\n a handle casing; \\n a pivotal connection structure including: \\n a first member connected to the blade unit; \\n a second member connected to the handle casing; and \\n a joint member comprising a plurality of separated joint elements which are disposed along the perpendicular pivot axis, and which connect the first member and the second member that facilitates movement of the first member relative to the second member about a hinge axis that is substantially perpendicular to the at least one cutting edge, wherein the first member has a joint portion, the second member has a joint portion, and the joint member has a thinner wall section toward the hinge axis than toward at least one of the joint portions of the first and second members. \\n \\n     \\n     \\n       2. The safety razor of claim l wherein the joint member includes a plurality of separated joint elements which are disposed along the perpendicular pivot axis. \\n     \\n     \\n       3. The safety razor of  claim 1  wherein the first and second members and the joint member are formed by an identical material. \\n     \\n     \\n       4. The safety razor of  claim 3  wherein the joint member is formed by a unitary material. \\n     \\n     \\n       5. The safety razor according of  claim 3  wherein the first and second members and the joint member are formed by an injection molding process of a thermo plastic material. \\n     \\n     \\n       6. The safety razor of claim l wherein at least one of the first and second members has a convexly curved face facing the other of the first and second members. \\n     \\n     \\n       7. The safety razor of  claim 1  wherein the blade unit has a pivotal connection structure for a pivotal movement about a parallel pivot axis which is substantially parallel to the at least one blade. \\n     \\n     \\n       8. The safety razor of  claim 7  wherein the pivotal connection structure includes a pair of latch arms that secure the pivotal connection structure to the handle casing. \\n     \\n     \\n       9. The safety razor of  claim 7  wherein the blade unit includes a frame with a cam surface and the handle unit includes a spring-biased plunger with a rounded distal end that contacts the cam surface at a location spaced from the parallel pivot axis to impart a biasing force to the frame. \\n     \\n     \\n       10. The safety razor of  claim 1  further comprising a shaving cartridge which is detachable from the handle unit, wherein the shaving cartridge includes the blade unit and the pivotal connection structure. \\n     \\n     \\n       11. The safety razor of  claim 1  further comprising a shaving cartridge which is detachable from the handle unit, wherein the shaving cartridge includes the blade unit and the handle unit includes the pivotal connection structure. \\n     \\n     \\n       12. The safety razor of  claim 1  wherein the separated joint elements include a triangular prism shaped base member and an elastic plate member extending from the base member. \\n     \\n     \\n       13. The safety razor of  claim 12  wherein the elastic plate member is a leaf spring formed by a metal material. \\n     \\n     \\n       14. The safety razor according to  claim 1 , wherein each of the plurality of separated joint elements includes a bearing having a cylindrical shape fixed to the second member and a pivot shaft having one end fixed to the first member and the other end inserted into the bearing. \\n     \\n     \\n       15. A safety razor comprising a blade unit having at least one blade having a cutting edge, a handle unit having a handle casing, and a pivotal connection structure disposed between the blade unit and the handle casing, the blade unit being connected to the handle casing through the pivotal connection structure for a pivotal movement relative thereto about a perpendicular pivot axis which is substantially perpendicular to the at least one cutting edge for following the skin contours of a user during shaving, the pivotal connection structure including;\\n (a) a first member connected to the blade unit, the first member having a joint portion, \\n (b) a second member connected to the handle casing, the second member having a joint portion, and \\n (c) a joint member for jointing, in a hinged manner, the joint portion of the first member with the joint portion of the second member, the pivotal connection structure is constructed such that the joint member has a hinge axis disposed between the joint portions of the first and second members, which works as the perpendicular pivot axis, the joint member includes a plurality of separated joint elements which are disposed along the perpendicular pivot axis wherein each of the plurality of separated joint elements includes a bearing having a cylindrical shape fixed to the second member, and a pivot shaft having one end fixed to the first member and the other end inserted into the bearing. \\n \\n     \\n     \\n       16. The safety razor according to  claim 15 , wherein the first and second members and the joint member are formed by an injection molding process of a thermo plastic material. \\n     \\n     \\n       17. The safety razor according to  claim 15 , wherein at least one of the first and second members has a convexly curved face facing the other of the first and second members. \\n     \\n     \\n       18. The safety razor according to  claim 15 , further comprising a shaving cartridge which is detachable from the handle unit, wherein the shaving cartridge includes the blade unit and the pivotal connection structure. \\n     \\n     \\n       19. The safety razor according to  claim 15 , further comprising a shaving cartridge which is detachable from the handle unit, wherein the shaving cartridge includes the blade unit and the handle unit includes the pivotal connection structure.'"
      ]
     },
     "execution_count": 156,
     "metadata": {},
     "output_type": "execute_result"
    }
   ],
   "source": [
    "bq_doc = data[0].page_content\n",
    "bq_doc"
   ]
  },
  {
   "attachments": {},
   "cell_type": "markdown",
   "metadata": {},
   "source": [
    "Get just the claims section of the biq query result."
   ]
  },
  {
   "cell_type": "code",
   "execution_count": 162,
   "metadata": {},
   "outputs": [
    {
     "data": {
      "text/plain": [
       "<re.Match object; span=(582, 6431), match='1. A safety razor comprising:\\n a blade unit havi>"
      ]
     },
     "execution_count": 162,
     "metadata": {},
     "output_type": "execute_result"
    }
   ],
   "source": [
    "import re\n",
    "result = re.search('(?<=\\nclaims: ).+', bq_doc, flags=re.DOTALL)\n",
    "result"
   ]
  },
  {
   "attachments": {},
   "cell_type": "markdown",
   "metadata": {},
   "source": [
    "Get a specific claim. At least in this patent, claims are separated by 3 or 4 new-lines with 5 spaces in-between "
   ]
  },
  {
   "cell_type": "code",
   "execution_count": 167,
   "metadata": {},
   "outputs": [
    {
     "data": {
      "text/plain": [
       "['1. A safety razor comprising:\\n a blade unit having at least one blade having a cutting edge; \\n a handle casing; \\n a pivotal connection structure including: \\n a first member connected to the blade unit; \\n a second member connected to the handle casing; and \\n a joint member comprising a plurality of separated joint elements which are disposed along the perpendicular pivot axis, and which connect the first member and the second member that facilitates movement of the first member relative to the second member about a hinge axis that is substantially perpendicular to the at least one cutting edge, wherein the first member has a joint portion, the second member has a joint portion, and the joint member has a thinner wall section toward the hinge axis than toward at least one of the joint portions of the first and second members. \\n ',\n",
       " '2. The safety razor of claim l wherein the joint member includes a plurality of separated joint elements which are disposed along the perpendicular pivot axis. ',\n",
       " '3. The safety razor of  claim 1  wherein the first and second members and the joint member are formed by an identical material. ',\n",
       " '4. The safety razor of  claim 3  wherein the joint member is formed by a unitary material. ',\n",
       " '5. The safety razor according of  claim 3  wherein the first and second members and the joint member are formed by an injection molding process of a thermo plastic material. ',\n",
       " '6. The safety razor of claim l wherein at least one of the first and second members has a convexly curved face facing the other of the first and second members. ',\n",
       " '7. The safety razor of  claim 1  wherein the blade unit has a pivotal connection structure for a pivotal movement about a parallel pivot axis which is substantially parallel to the at least one blade. ',\n",
       " '8. The safety razor of  claim 7  wherein the pivotal connection structure includes a pair of latch arms that secure the pivotal connection structure to the handle casing. ',\n",
       " '9. The safety razor of  claim 7  wherein the blade unit includes a frame with a cam surface and the handle unit includes a spring-biased plunger with a rounded distal end that contacts the cam surface at a location spaced from the parallel pivot axis to impart a biasing force to the frame. ',\n",
       " '10. The safety razor of  claim 1  further comprising a shaving cartridge which is detachable from the handle unit, wherein the shaving cartridge includes the blade unit and the pivotal connection structure. ',\n",
       " '11. The safety razor of  claim 1  further comprising a shaving cartridge which is detachable from the handle unit, wherein the shaving cartridge includes the blade unit and the handle unit includes the pivotal connection structure. ',\n",
       " '12. The safety razor of  claim 1  wherein the separated joint elements include a triangular prism shaped base member and an elastic plate member extending from the base member. ',\n",
       " '13. The safety razor of  claim 12  wherein the elastic plate member is a leaf spring formed by a metal material. ',\n",
       " '14. The safety razor according to  claim 1 , wherein each of the plurality of separated joint elements includes a bearing having a cylindrical shape fixed to the second member and a pivot shaft having one end fixed to the first member and the other end inserted into the bearing. ',\n",
       " '15. A safety razor comprising a blade unit having at least one blade having a cutting edge, a handle unit having a handle casing, and a pivotal connection structure disposed between the blade unit and the handle casing, the blade unit being connected to the handle casing through the pivotal connection structure for a pivotal movement relative thereto about a perpendicular pivot axis which is substantially perpendicular to the at least one cutting edge for following the skin contours of a user during shaving, the pivotal connection structure including;\\n (a) a first member connected to the blade unit, the first member having a joint portion, \\n (b) a second member connected to the handle casing, the second member having a joint portion, and \\n (c) a joint member for jointing, in a hinged manner, the joint portion of the first member with the joint portion of the second member, the pivotal connection structure is constructed such that the joint member has a hinge axis disposed between the joint portions of the first and second members, which works as the perpendicular pivot axis, the joint member includes a plurality of separated joint elements which are disposed along the perpendicular pivot axis wherein each of the plurality of separated joint elements includes a bearing having a cylindrical shape fixed to the second member, and a pivot shaft having one end fixed to the first member and the other end inserted into the bearing. \\n ',\n",
       " '16. The safety razor according to  claim 15 , wherein the first and second members and the joint member are formed by an injection molding process of a thermo plastic material. ',\n",
       " '17. The safety razor according to  claim 15 , wherein at least one of the first and second members has a convexly curved face facing the other of the first and second members. ',\n",
       " '18. The safety razor according to  claim 15 , further comprising a shaving cartridge which is detachable from the handle unit, wherein the shaving cartridge includes the blade unit and the pivotal connection structure. ',\n",
       " '19. The safety razor according to  claim 15 , further comprising a shaving cartridge which is detachable from the handle unit, wherein the shaving cartridge includes the blade unit and the handle unit includes the pivotal connection structure.']"
      ]
     },
     "execution_count": 167,
     "metadata": {},
     "output_type": "execute_result"
    }
   ],
   "source": [
    "claims = result.group().split('\\n     \\n     \\n       ')\n",
    "claims"
   ]
  },
  {
   "attachments": {},
   "cell_type": "markdown",
   "metadata": {},
   "source": [
    "Not sure how well this will hold up on other patents, but at least here an independent claim never has the word 'claim' in it."
   ]
  },
  {
   "cell_type": "code",
   "execution_count": 170,
   "metadata": {},
   "outputs": [
    {
     "data": {
      "text/plain": [
       "['1. A safety razor comprising:\\n a blade unit having at least one blade having a cutting edge; \\n a handle casing; \\n a pivotal connection structure including: \\n a first member connected to the blade unit; \\n a second member connected to the handle casing; and \\n a joint member comprising a plurality of separated joint elements which are disposed along the perpendicular pivot axis, and which connect the first member and the second member that facilitates movement of the first member relative to the second member about a hinge axis that is substantially perpendicular to the at least one cutting edge, wherein the first member has a joint portion, the second member has a joint portion, and the joint member has a thinner wall section toward the hinge axis than toward at least one of the joint portions of the first and second members. \\n ',\n",
       " '15. A safety razor comprising a blade unit having at least one blade having a cutting edge, a handle unit having a handle casing, and a pivotal connection structure disposed between the blade unit and the handle casing, the blade unit being connected to the handle casing through the pivotal connection structure for a pivotal movement relative thereto about a perpendicular pivot axis which is substantially perpendicular to the at least one cutting edge for following the skin contours of a user during shaving, the pivotal connection structure including;\\n (a) a first member connected to the blade unit, the first member having a joint portion, \\n (b) a second member connected to the handle casing, the second member having a joint portion, and \\n (c) a joint member for jointing, in a hinged manner, the joint portion of the first member with the joint portion of the second member, the pivotal connection structure is constructed such that the joint member has a hinge axis disposed between the joint portions of the first and second members, which works as the perpendicular pivot axis, the joint member includes a plurality of separated joint elements which are disposed along the perpendicular pivot axis wherein each of the plurality of separated joint elements includes a bearing having a cylindrical shape fixed to the second member, and a pivot shaft having one end fixed to the first member and the other end inserted into the bearing. \\n ']"
      ]
     },
     "execution_count": 170,
     "metadata": {},
     "output_type": "execute_result"
    }
   ],
   "source": [
    "indep_claims = [c for c in claims if 'claim' not in c]\n",
    "indep_claim_indices = [i for i, c in enumerate(claims) if 'claim' not in c]\n",
    "indep_claims"
   ]
  },
  {
   "attachments": {},
   "cell_type": "markdown",
   "metadata": {},
   "source": [
    "Group claim text by independent claims."
   ]
  },
  {
   "cell_type": "code",
   "execution_count": 172,
   "metadata": {},
   "outputs": [
    {
     "data": {
      "text/plain": [
       "{0: '1. A safety razor comprising:\\n a blade unit having at least one blade having a cutting edge; \\n a handle casing; \\n a pivotal connection structure including: \\n a first member connected to the blade unit; \\n a second member connected to the handle casing; and \\n a joint member comprising a plurality of separated joint elements which are disposed along the perpendicular pivot axis, and which connect the first member and the second member that facilitates movement of the first member relative to the second member about a hinge axis that is substantially perpendicular to the at least one cutting edge, wherein the first member has a joint portion, the second member has a joint portion, and the joint member has a thinner wall section toward the hinge axis than toward at least one of the joint portions of the first and second members. \\n 2. The safety razor of claim l wherein the joint member includes a plurality of separated joint elements which are disposed along the perpendicular pivot axis. 3. The safety razor of  claim 1  wherein the first and second members and the joint member are formed by an identical material. 4. The safety razor of  claim 3  wherein the joint member is formed by a unitary material. 5. The safety razor according of  claim 3  wherein the first and second members and the joint member are formed by an injection molding process of a thermo plastic material. 6. The safety razor of claim l wherein at least one of the first and second members has a convexly curved face facing the other of the first and second members. 7. The safety razor of  claim 1  wherein the blade unit has a pivotal connection structure for a pivotal movement about a parallel pivot axis which is substantially parallel to the at least one blade. 8. The safety razor of  claim 7  wherein the pivotal connection structure includes a pair of latch arms that secure the pivotal connection structure to the handle casing. 9. The safety razor of  claim 7  wherein the blade unit includes a frame with a cam surface and the handle unit includes a spring-biased plunger with a rounded distal end that contacts the cam surface at a location spaced from the parallel pivot axis to impart a biasing force to the frame. 10. The safety razor of  claim 1  further comprising a shaving cartridge which is detachable from the handle unit, wherein the shaving cartridge includes the blade unit and the pivotal connection structure. 11. The safety razor of  claim 1  further comprising a shaving cartridge which is detachable from the handle unit, wherein the shaving cartridge includes the blade unit and the handle unit includes the pivotal connection structure. 12. The safety razor of  claim 1  wherein the separated joint elements include a triangular prism shaped base member and an elastic plate member extending from the base member. 13. The safety razor of  claim 12  wherein the elastic plate member is a leaf spring formed by a metal material. 14. The safety razor according to  claim 1 , wherein each of the plurality of separated joint elements includes a bearing having a cylindrical shape fixed to the second member and a pivot shaft having one end fixed to the first member and the other end inserted into the bearing. ',\n",
       " 14: '15. A safety razor comprising a blade unit having at least one blade having a cutting edge, a handle unit having a handle casing, and a pivotal connection structure disposed between the blade unit and the handle casing, the blade unit being connected to the handle casing through the pivotal connection structure for a pivotal movement relative thereto about a perpendicular pivot axis which is substantially perpendicular to the at least one cutting edge for following the skin contours of a user during shaving, the pivotal connection structure including;\\n (a) a first member connected to the blade unit, the first member having a joint portion, \\n (b) a second member connected to the handle casing, the second member having a joint portion, and \\n (c) a joint member for jointing, in a hinged manner, the joint portion of the first member with the joint portion of the second member, the pivotal connection structure is constructed such that the joint member has a hinge axis disposed between the joint portions of the first and second members, which works as the perpendicular pivot axis, the joint member includes a plurality of separated joint elements which are disposed along the perpendicular pivot axis wherein each of the plurality of separated joint elements includes a bearing having a cylindrical shape fixed to the second member, and a pivot shaft having one end fixed to the first member and the other end inserted into the bearing. \\n 16. The safety razor according to  claim 15 , wherein the first and second members and the joint member are formed by an injection molding process of a thermo plastic material. 17. The safety razor according to  claim 15 , wherein at least one of the first and second members has a convexly curved face facing the other of the first and second members. 18. The safety razor according to  claim 15 , further comprising a shaving cartridge which is detachable from the handle unit, wherein the shaving cartridge includes the blade unit and the pivotal connection structure. 19. The safety razor according to  claim 15 , further comprising a shaving cartridge which is detachable from the handle unit, wherein the shaving cartridge includes the blade unit and the handle unit includes the pivotal connection structure.'}"
      ]
     },
     "execution_count": 172,
     "metadata": {},
     "output_type": "execute_result"
    }
   ],
   "source": [
    "indep_claims_and_their_dependents = dict()\n",
    "for i, c in enumerate(claims):\n",
    "    if i in indep_claim_indices:\n",
    "        # Is independent, so start an entry in indep_claims_and_their_dependents.\n",
    "        indep_claims_and_their_dependents[i] = c\n",
    "    else:\n",
    "        # Is dependent, so group to most recent independent claim since that is what dependent claim refers to.\n",
    "        processed_indep_claim_indices = list(indep_claims_and_their_dependents.keys())\n",
    "        processed_indep_claim_indices.sort()\n",
    "        latest_indep_claim_index = processed_indep_claim_indices[-1]\n",
    "        indep_claims_and_their_dependents[latest_indep_claim_index] = indep_claims_and_their_dependents[latest_indep_claim_index] + c\n",
    "indep_claims_and_their_dependents"
   ]
  },
  {
   "cell_type": "code",
   "execution_count": 195,
   "metadata": {},
   "outputs": [],
   "source": [
    "def get_word_set(multi_word_string: str):\n",
    "    # Assume words are split by spaces.\n",
    "    words = multi_word_string.split(' ')\n",
    "\n",
    "    # Remove punctuation and new-lines.\n",
    "    def remove_chars(word: str, chars_to_remove: list):\n",
    "        for char in chars_to_remove:\n",
    "            word = word.replace(char, '')\n",
    "        return word\n",
    "    \n",
    "    words = [remove_chars(word, ['.', ';', ',', '(', ')', ':', '\\n']) for word in words]\n",
    "\n",
    "    # Get rid of any length-0 or length-1 words (e.g. '', 'a') and any numerics (e.g. '10')\n",
    "    words = [word for word in words if len(word) > 1 and not word.isnumeric()]\n",
    "    \n",
    "    # Remove any duplicates by using set().\n",
    "    return set(words)"
   ]
  },
  {
   "cell_type": "code",
   "execution_count": 196,
   "metadata": {},
   "outputs": [],
   "source": [
    "ic1_words = get_word_set(indep_claims_and_their_dependents[0])\n",
    "ic15_words = get_word_set(indep_claims_and_their_dependents[14])"
   ]
  },
  {
   "cell_type": "code",
   "execution_count": 197,
   "metadata": {},
   "outputs": [
    {
     "data": {
      "text/plain": [
       "{'arms',\n",
       " 'base',\n",
       " 'biasing',\n",
       " 'cam',\n",
       " 'comprising:',\n",
       " 'connect',\n",
       " 'contacts',\n",
       " 'distal',\n",
       " 'elastic',\n",
       " 'extending',\n",
       " 'facilitates',\n",
       " 'force',\n",
       " 'frame',\n",
       " 'identical',\n",
       " 'impart',\n",
       " 'include',\n",
       " 'including:',\n",
       " 'latch',\n",
       " 'leaf',\n",
       " 'location',\n",
       " 'metal',\n",
       " 'pair',\n",
       " 'parallel',\n",
       " 'plate',\n",
       " 'plunger',\n",
       " 'prism',\n",
       " 'rounded',\n",
       " 'section',\n",
       " 'secure',\n",
       " 'shaped',\n",
       " 'spaced',\n",
       " 'spring',\n",
       " 'spring-biased',\n",
       " 'surface',\n",
       " 'than',\n",
       " 'thinner',\n",
       " 'toward',\n",
       " 'triangular',\n",
       " 'unitary',\n",
       " 'wall'}"
      ]
     },
     "execution_count": 197,
     "metadata": {},
     "output_type": "execute_result"
    }
   ],
   "source": [
    "words_in_1_and_not_15 = ic1_words - ic15_words\n",
    "words_in_1_and_not_15"
   ]
  },
  {
   "cell_type": "code",
   "execution_count": 198,
   "metadata": {},
   "outputs": [
    {
     "data": {
      "text/plain": [
       "40"
      ]
     },
     "execution_count": 198,
     "metadata": {},
     "output_type": "execute_result"
    }
   ],
   "source": [
    "len(words_in_1_and_not_15)"
   ]
  },
  {
   "cell_type": "code",
   "execution_count": 199,
   "metadata": {},
   "outputs": [
    {
     "data": {
      "text/plain": [
       "{'as',\n",
       " 'being',\n",
       " 'between',\n",
       " 'constructed',\n",
       " 'contours',\n",
       " 'during',\n",
       " 'following',\n",
       " 'hinged',\n",
       " 'in',\n",
       " 'including',\n",
       " 'jointing',\n",
       " 'manner',\n",
       " 'skin',\n",
       " 'such',\n",
       " 'thereto',\n",
       " 'through',\n",
       " 'user',\n",
       " 'works'}"
      ]
     },
     "execution_count": 199,
     "metadata": {},
     "output_type": "execute_result"
    }
   ],
   "source": [
    "words_in_15_and_not_1 = ic15_words - ic1_words\n",
    "words_in_15_and_not_1"
   ]
  },
  {
   "cell_type": "code",
   "execution_count": 200,
   "metadata": {},
   "outputs": [
    {
     "data": {
      "text/plain": [
       "18"
      ]
     },
     "execution_count": 200,
     "metadata": {},
     "output_type": "execute_result"
    }
   ],
   "source": [
    "len(words_in_15_and_not_1)"
   ]
  },
  {
   "cell_type": "code",
   "execution_count": 204,
   "metadata": {},
   "outputs": [
    {
     "data": {
      "text/plain": [
       "'constructed, in, following, during, including, contours, user, through, works, jointing, hinged, such, between, thereto, as, being, manner, skin'"
      ]
     },
     "execution_count": 204,
     "metadata": {},
     "output_type": "execute_result"
    }
   ],
   "source": [
    "', '.join(words_in_15_and_not_1)"
   ]
  },
  {
   "attachments": {},
   "cell_type": "markdown",
   "metadata": {},
   "source": [
    "### Prompt"
   ]
  },
  {
   "cell_type": "code",
   "execution_count": null,
   "metadata": {},
   "outputs": [],
   "source": [
    "from langchain.chat_models import ChatOpenAI\n",
    "from langchain.prompts.chat import (\n",
    "    ChatPromptTemplate,\n",
    "    SystemMessagePromptTemplate,\n",
    "    AIMessagePromptTemplate,\n",
    "    HumanMessagePromptTemplate,\n",
    ")\n",
    "from langchain.schema import (\n",
    "    AIMessage,\n",
    "    HumanMessage,\n",
    "    SystemMessage\n",
    ")"
   ]
  },
  {
   "cell_type": "code",
   "execution_count": 243,
   "metadata": {},
   "outputs": [],
   "source": [
    "chat = ChatOpenAI(temperature=0, openai_api_key=openai_api_key)"
   ]
  },
  {
   "cell_type": "code",
   "execution_count": 215,
   "metadata": {},
   "outputs": [],
   "source": [
    "sys_msg_template = \"\"\"\n",
    "You are a helpful assistant to a patent lawyer. The lawyer wants your help understanding a patent.\n",
    "Answer the lawyer's questions about the patent in 300 words or less. Cite text from the patent in quotes in your answer. If you don't know the answer, just say that you don't know. \n",
    "Don't try to make up an answer. If you are uncertain about any part of your answer, say so. \n",
    "\n",
    "Use the following information in thinking through your answer. First, the patent is delimited by triple backticks. Second, the words that appear in claim 1 but not in claim 15 are\n",
    "delimited by triple backticks. Third, the words that appear in claim 15 but not in claim 1 are delimited by triple backticks.\n",
    "\n",
    "Patent: \n",
    "```\n",
    "{patent}\n",
    "```\n",
    "Words in Claim 1 But Not in Claim 15:\n",
    "```\n",
    "{claim_1_words}\n",
    "```\n",
    "Words in Claim 15 but Not in Claim 1:\n",
    "```\n",
    "{claim_15_words}\n",
    "```\n",
    "\"\"\"\n",
    "\n",
    "sys_msg_prompt_template = SystemMessagePromptTemplate.from_template(sys_msg_template)\n",
    "\n",
    "human_template = \"\"\"The lawyer's question is delimited with triple backticks.\n",
    "\n",
    "Lawyer's question: '''{question}'''\"\"\"\n",
    "\n",
    "human_msg_prompt_template = HumanMessagePromptTemplate.from_template(human_template)\n",
    "\n",
    "chat_prompt_template = ChatPromptTemplate.from_messages([sys_msg_prompt_template, human_msg_prompt_template])\n",
    "\n",
    "# Get a chat completion from the formatted messages.\n",
    "# Both page_content and 'source' key of metadata are injected into prompt in document QA. Formatting still unclear. For now just passing page_content because only have single doc.\n",
    "chat_prompt = chat_prompt_template.format_prompt(question=\"How does claim 1 differ from claim 15?\", \n",
    "                                                 patent=data[0].page_content, \n",
    "                                                 claim_1_words=', '.join(words_in_1_and_not_15),\n",
    "                                                 claim_15_words=', '.join(words_in_15_and_not_1)).to_messages()"
   ]
  },
  {
   "cell_type": "code",
   "execution_count": 218,
   "metadata": {},
   "outputs": [
    {
     "data": {
      "text/plain": [
       "[SystemMessage(content=\"\\nYou are a helpful assistant to a patent lawyer. The lawyer wants your help understanding a patent.\\nAnswer the lawyer's questions about the patent in 300 words or less. Cite text from the patent in quotes in your answer. If you don't know the answer, just say that you don't know. \\nDon't try to make up an answer. If you are uncertain about any part of your answer, say so. \\n\\nUse the following information in thinking through your answer. First, the patent is delimited by triple backticks. Second, the words that appear in claim 1 but not in claim 15 are\\ndelimited by triple backticks. Third, the words that appear in claim 15 but not in claim 1 are delimited by triple backticks.\\n\\nPatent: \\n```\\npatent_number: US8205344B2\\ntitle: Safety razor having pivotable blade unit\\nabstract: A safety razor having a blade unit has at least one blade and a handle casing. A pivotal connection structure is disposed between the blade unit and the handle casing. A first member is connected to the blade unit and a second member is connected to the handle casing. A joint member connects the first member and the second member and facilitates movement of the first member relative to the second member about a hinge axis that is substantially perpendicular to the at least one blade.\\nclaims: 1. A safety razor comprising:\\n a blade unit having at least one blade having a cutting edge; \\n a handle casing; \\n a pivotal connection structure including: \\n a first member connected to the blade unit; \\n a second member connected to the handle casing; and \\n a joint member comprising a plurality of separated joint elements which are disposed along the perpendicular pivot axis, and which connect the first member and the second member that facilitates movement of the first member relative to the second member about a hinge axis that is substantially perpendicular to the at least one cutting edge, wherein the first member has a joint portion, the second member has a joint portion, and the joint member has a thinner wall section toward the hinge axis than toward at least one of the joint portions of the first and second members. \\n \\n     \\n     \\n       2. The safety razor of claim l wherein the joint member includes a plurality of separated joint elements which are disposed along the perpendicular pivot axis. \\n     \\n     \\n       3. The safety razor of  claim 1  wherein the first and second members and the joint member are formed by an identical material. \\n     \\n     \\n       4. The safety razor of  claim 3  wherein the joint member is formed by a unitary material. \\n     \\n     \\n       5. The safety razor according of  claim 3  wherein the first and second members and the joint member are formed by an injection molding process of a thermo plastic material. \\n     \\n     \\n       6. The safety razor of claim l wherein at least one of the first and second members has a convexly curved face facing the other of the first and second members. \\n     \\n     \\n       7. The safety razor of  claim 1  wherein the blade unit has a pivotal connection structure for a pivotal movement about a parallel pivot axis which is substantially parallel to the at least one blade. \\n     \\n     \\n       8. The safety razor of  claim 7  wherein the pivotal connection structure includes a pair of latch arms that secure the pivotal connection structure to the handle casing. \\n     \\n     \\n       9. The safety razor of  claim 7  wherein the blade unit includes a frame with a cam surface and the handle unit includes a spring-biased plunger with a rounded distal end that contacts the cam surface at a location spaced from the parallel pivot axis to impart a biasing force to the frame. \\n     \\n     \\n       10. The safety razor of  claim 1  further comprising a shaving cartridge which is detachable from the handle unit, wherein the shaving cartridge includes the blade unit and the pivotal connection structure. \\n     \\n     \\n       11. The safety razor of  claim 1  further comprising a shaving cartridge which is detachable from the handle unit, wherein the shaving cartridge includes the blade unit and the handle unit includes the pivotal connection structure. \\n     \\n     \\n       12. The safety razor of  claim 1  wherein the separated joint elements include a triangular prism shaped base member and an elastic plate member extending from the base member. \\n     \\n     \\n       13. The safety razor of  claim 12  wherein the elastic plate member is a leaf spring formed by a metal material. \\n     \\n     \\n       14. The safety razor according to  claim 1 , wherein each of the plurality of separated joint elements includes a bearing having a cylindrical shape fixed to the second member and a pivot shaft having one end fixed to the first member and the other end inserted into the bearing. \\n     \\n     \\n       15. A safety razor comprising a blade unit having at least one blade having a cutting edge, a handle unit having a handle casing, and a pivotal connection structure disposed between the blade unit and the handle casing, the blade unit being connected to the handle casing through the pivotal connection structure for a pivotal movement relative thereto about a perpendicular pivot axis which is substantially perpendicular to the at least one cutting edge for following the skin contours of a user during shaving, the pivotal connection structure including;\\n (a) a first member connected to the blade unit, the first member having a joint portion, \\n (b) a second member connected to the handle casing, the second member having a joint portion, and \\n (c) a joint member for jointing, in a hinged manner, the joint portion of the first member with the joint portion of the second member, the pivotal connection structure is constructed such that the joint member has a hinge axis disposed between the joint portions of the first and second members, which works as the perpendicular pivot axis, the joint member includes a plurality of separated joint elements which are disposed along the perpendicular pivot axis wherein each of the plurality of separated joint elements includes a bearing having a cylindrical shape fixed to the second member, and a pivot shaft having one end fixed to the first member and the other end inserted into the bearing. \\n \\n     \\n     \\n       16. The safety razor according to  claim 15 , wherein the first and second members and the joint member are formed by an injection molding process of a thermo plastic material. \\n     \\n     \\n       17. The safety razor according to  claim 15 , wherein at least one of the first and second members has a convexly curved face facing the other of the first and second members. \\n     \\n     \\n       18. The safety razor according to  claim 15 , further comprising a shaving cartridge which is detachable from the handle unit, wherein the shaving cartridge includes the blade unit and the pivotal connection structure. \\n     \\n     \\n       19. The safety razor according to  claim 15 , further comprising a shaving cartridge which is detachable from the handle unit, wherein the shaving cartridge includes the blade unit and the handle unit includes the pivotal connection structure.\\n```\\nWords in Claim 1 But Not in Claim 15:\\n```\\narms, contacts, spaced, biasing, spring-biased, force, spring, rounded, wall, distal, elastic, shaped, cam, thinner, triangular, frame, impart, facilitates, surface, unitary, toward, comprising:, secure, section, include, extending, than, location, metal, prism, pair, including:, base, latch, connect, plate, identical, plunger, parallel, leaf\\n```\\nWords in Claim 15 but Not in Claim 1:\\n```\\nconstructed, in, following, during, including, contours, user, through, works, jointing, hinged, such, between, thereto, as, being, manner, skin\\n```\\n\", additional_kwargs={}),\n",
       " HumanMessage(content=\"The lawyer's question is delimited with triple backticks.\\n\\nLawyer's question: '''How does claim 1 differ from claim 15?'''\", additional_kwargs={})]"
      ]
     },
     "execution_count": 218,
     "metadata": {},
     "output_type": "execute_result"
    }
   ],
   "source": [
    "chat_prompt"
   ]
  },
  {
   "cell_type": "code",
   "execution_count": 216,
   "metadata": {},
   "outputs": [
    {
     "data": {
      "text/plain": [
       "{'token_usage': {'prompt_tokens': 1633,\n",
       "  'completion_tokens': 319,\n",
       "  'total_tokens': 1952},\n",
       " 'model_name': 'gpt-3.5-turbo'}"
      ]
     },
     "execution_count": 216,
     "metadata": {},
     "output_type": "execute_result"
    }
   ],
   "source": [
    "result = chat.generate([chat_prompt])\n",
    "result.llm_output"
   ]
  },
  {
   "cell_type": "code",
   "execution_count": 217,
   "metadata": {},
   "outputs": [
    {
     "data": {
      "text/plain": [
       "\"Claim 1 and claim 15 both describe a safety razor with a blade unit having at least one blade and a handle casing, with a pivotal connection structure disposed between the blade unit and the handle casing. However, there are some differences between the two claims.\\n\\nClaim 1 describes the pivotal connection structure as having a joint member comprising a plurality of separated joint elements which are disposed along the perpendicular pivot axis, and which connect the first member and the second member that facilitates movement of the first member relative to the second member about a hinge axis that is substantially perpendicular to the at least one cutting edge. Claim 1 also describes the separated joint elements as including a triangular prism shaped base member and an elastic plate member extending from the base member.\\n\\nOn the other hand, claim 15 describes the pivotal connection structure as being constructed such that the joint member has a hinge axis disposed between the joint portions of the first and second members, which works as the perpendicular pivot axis. Claim 15 also describes the joint member as including a plurality of separated joint elements which are disposed along the perpendicular pivot axis wherein each of the plurality of separated joint elements includes a bearing having a cylindrical shape fixed to the second member, and a pivot shaft having one end fixed to the first member and the other end inserted into the bearing. \\n\\nIn summary, claim 1 describes the pivotal connection structure in more detail, including the shape and material of the separated joint elements, while claim 15 focuses more on the construction of the joint member and its function in allowing the blade unit to follow the contours of a user's skin during shaving.\""
      ]
     },
     "execution_count": 217,
     "metadata": {},
     "output_type": "execute_result"
    }
   ],
   "source": [
    "result.generations[0][0].text"
   ]
  },
  {
   "cell_type": "code",
   "execution_count": 219,
   "metadata": {},
   "outputs": [],
   "source": [
    "chat_prompt = chat_prompt_template.format_prompt(question=\"What is the primary innovation of this patent over prior art?\", \n",
    "                                                 patent=data[0].page_content, \n",
    "                                                 claim_1_words=', '.join(words_in_1_and_not_15),\n",
    "                                                 claim_15_words=', '.join(words_in_15_and_not_1)).to_messages()"
   ]
  },
  {
   "cell_type": "code",
   "execution_count": 220,
   "metadata": {},
   "outputs": [
    {
     "data": {
      "text/plain": [
       "{'token_usage': {'prompt_tokens': 1634,\n",
       "  'completion_tokens': 224,\n",
       "  'total_tokens': 1858},\n",
       " 'model_name': 'gpt-3.5-turbo'}"
      ]
     },
     "execution_count": 220,
     "metadata": {},
     "output_type": "execute_result"
    }
   ],
   "source": [
    "result = chat.generate([chat_prompt])\n",
    "result.llm_output"
   ]
  },
  {
   "cell_type": "code",
   "execution_count": 221,
   "metadata": {},
   "outputs": [
    {
     "data": {
      "text/plain": [
       "'Based on the language of the patent, the primary innovation of this patent over prior art is the \"pivotal connection structure\" that allows the blade unit to move relative to the handle casing about a hinge axis that is perpendicular to the cutting edge of the blade. This structure includes a joint member with separated joint elements that connect the first member (connected to the blade unit) and the second member (connected to the handle casing) and facilitate the movement of the blade unit. The joint member has a thinner wall section toward the hinge axis than toward at least one of the joint portions of the first and second members. Additionally, the separated joint elements include a bearing and a pivot shaft that allow for the pivotal movement of the blade unit. This structure allows the razor to follow the contours of a user\\'s skin during shaving. \\n\\nWhile there are other features and elements described in the patent, such as the use of latch arms to secure the pivotal connection structure to the handle casing, a frame with a cam surface, and a detachable shaving cartridge, these features are not unique to this patent and are found in prior art.'"
      ]
     },
     "execution_count": 221,
     "metadata": {},
     "output_type": "execute_result"
    }
   ],
   "source": [
    "result.generations[0][0].text"
   ]
  },
  {
   "attachments": {},
   "cell_type": "markdown",
   "metadata": {},
   "source": [
    "## Take 5.2: Trying another patent"
   ]
  },
  {
   "attachments": {},
   "cell_type": "markdown",
   "metadata": {},
   "source": [
    "### Load and extract word sets of independent claims"
   ]
  },
  {
   "cell_type": "code",
   "execution_count": 224,
   "metadata": {},
   "outputs": [],
   "source": [
    "QUERY = (\n",
    "    'SELECT spif_publication_number as patent_number, t.text as title,  a.text as abstract, c.text as claims '\n",
    "    'FROM `patents-public-data.patents.publications`, UNNEST(title_localized) as t, UNNEST(abstract_localized) as a,  UNNEST(claims_localized) as c '\n",
    "    'WHERE spif_publication_number = \"US8950002B2\" '\n",
    "    'LIMIT 100')\n",
    "loader = BigQueryLoader(QUERY)\n",
    "\n",
    "data = loader.load()"
   ]
  },
  {
   "cell_type": "code",
   "execution_count": 228,
   "metadata": {},
   "outputs": [
    {
     "data": {
      "text/plain": [
       "['What is claimed is: \\n     \\n       1. An apparatus comprising:\\n a memory that stores a plurality of tokens indicating that a user is attempting to access a resource; and \\n a processor that:\\n determines a related resource that shares a relationship with the resource, wherein:\\n the resource is a composite resource; \\n the related resource is a sub-resource of the composite resource; and \\n the related resource is accessed in conjunction with accessing the resource; \\n \\n receives a risk token computed based at least in part upon the resource and the related resource; \\n determines a numeric authorization level for the user based at least in part upon the plurality of tokens and the risk token, the numeric authorization level indicating whether the user is authorized to access the resource, wherein the composite resource comprises at least one sub-resource that the user is not authorized to access based on the numeric authorization level and at least one sub-resource that the user is authorized to access based on the numeric authorization level; \\n compares the numeric authorization level to a numeric threshold; \\n determines, based at least in part on the comparison between the numeric authorization level and the numeric threshold, that the user is authorized to access the related resource; \\n communicates a decision token indicating that the user is authorized to access the resource and the related resource; \\n receives a recomputed risk token computed based at least in part upon:\\n a form of authentication performed by the user; and \\n the presence of network jitter; \\n \\n re-determines determine the numeric authorization level based at least in part upon the recomputed risk token; \\n determines, based at least in part upon the recomputed risk token, that the user is authorized to access the at least one sub-resource; and \\n communicates a second decision token indicating that the user is authorized to access the resource, the related resource, and the at least one sub-resource. \\n \\n ',\n",
       " '2. The apparatus of  claim 1 , the memory further stores a plurality of token-based rules, wherein a token-based rule facilitates the determination of the related resource. ',\n",
       " '3. The apparatus of  claim 1 , wherein the determination of the related resource is based on a token-based rule. ',\n",
       " '4. A method for determining resource contexts comprising:\\n storing a plurality of tokens indicating that a user is attempting to access a resource; \\n determining, by the processor, a related resource that shares a relationship with the resource, wherein:\\n the resource is a composite resource; \\n the related resource is a sub-resource of the composite resource; and \\n the related resource is accessed in conjunction with accessing the resource; \\n \\n receiving a risk token computed based at least in part upon the resource and the related resource; \\n determining, by a processor, a numeric authorization level for the user based at least in part upon the plurality of tokens and the risk token, the numeric authorization level indicating whether the user is authorized to access the resource, wherein the composite resource comprises at least one sub-resource that the user is not authorized to access based on the numeric authorization level and at least one sub-resource that the user is authorized to access based on the numeric authorization level; \\n comparing, by the processor, the numeric authorization level to a numeric threshold; \\n determining, by the processor, based at least in part on the comparison between the numeric authorization level and the numeric threshold, that the user is authorized to access the related resource; \\n communicating a decision token indicating that the user is authorized to access the resource and the related resource; \\n receiving a recomputed risk token computed based at least in part upon:\\n a form of authentication performed by the user; and \\n the presence of network jitter; \\n \\n re-determining, by the processor, the numeric authorization level based at least in part upon the recomputed risk token; \\n determining, by the processor, based at least in part upon the recomputed risk token, that the user is authorized to access the at least one sub-resource; and \\n communicating a second decision token indicating that the user is authorized to access the resource, the related resource, and the at least one sub-resource. \\n ',\n",
       " '5. The method of  claim 4 , further comprising storing a plurality of token-based rules, wherein a token-based rule facilitates the determination of the related resource. ',\n",
       " '6. The method of  claim 4 , wherein the determination of the related resource is based on a token-based rule. ',\n",
       " '7. One or more computer-readable non-transitory storage media embodying software that when executed:\\n stores a plurality of tokens indicating that a user is attempting to access a resource; and \\n determines a related resource that shares a relationship with the resource, wherein:\\n the resource is a composite resource; \\n the related resource is a sub-resource of the composite resource; and \\n the related resource is accessed in conjunction with accessing the resource; \\n \\n receives a risk token computed based at least in part upon the resource and the related resource; \\n determines a numeric authorization level for the user based at least in part upon the plurality of tokens and the risk token, the numeric authorization level indicating whether the user is authorized to access the resource, wherein the composite resource comprises at least one sub-resource that the user is not authorized to access and at least one sub-resource that the user is authorized to access; \\n compares the numeric authorization level to a numeric threshold; \\n determines, based at least in part on the comparison between the numeric authorization level and the numeric threshold, that the user is authorized to access the related resource; \\n communicates a decision token indicating that the user is authorized to access the resource and the related resource; \\n receives a recomputed risk token computed based at least in part upon:\\n a form of authentication performed by the user; and \\n the presence of network jitter; \\n \\n re-determines determine the numeric authorization level based at least in part upon the recomputed risk token; \\n determines, based at least in part upon the recomputed risk token, that the user is authorized to access the at least one sub-resource; and \\n communicates a second decision token indicating that the user is authorized to access the resource, the related resource, and the at least one sub-resource. \\n ',\n",
       " '8. The media of  claim 7  embodying software that when executed further stores a plurality of token-based rules, wherein a token-based rule facilitates the determination of the related resource. ',\n",
       " '9. The media of  claim 7 , wherein the determination of the related resource is based on a token-based rule.']"
      ]
     },
     "execution_count": 228,
     "metadata": {},
     "output_type": "execute_result"
    }
   ],
   "source": [
    "bq_doc = data[0].page_content\n",
    "\n",
    "import re\n",
    "result = re.search('(?<=\\nclaims: ).+', bq_doc, flags=re.DOTALL)\n",
    "claims = result.group().split('\\n     \\n     \\n       ')\n",
    "claims"
   ]
  },
  {
   "cell_type": "code",
   "execution_count": 232,
   "metadata": {},
   "outputs": [
    {
     "data": {
      "text/plain": [
       "['What is claimed is: \\n     \\n       1. An apparatus comprising:\\n a memory that stores a plurality of tokens indicating that a user is attempting to access a resource; and \\n a processor that:\\n determines a related resource that shares a relationship with the resource, wherein:\\n the resource is a composite resource; \\n the related resource is a sub-resource of the composite resource; and \\n the related resource is accessed in conjunction with accessing the resource; \\n \\n receives a risk token computed based at least in part upon the resource and the related resource; \\n determines a numeric authorization level for the user based at least in part upon the plurality of tokens and the risk token, the numeric authorization level indicating whether the user is authorized to access the resource, wherein the composite resource comprises at least one sub-resource that the user is not authorized to access based on the numeric authorization level and at least one sub-resource that the user is authorized to access based on the numeric authorization level; \\n compares the numeric authorization level to a numeric threshold; \\n determines, based at least in part on the comparison between the numeric authorization level and the numeric threshold, that the user is authorized to access the related resource; \\n communicates a decision token indicating that the user is authorized to access the resource and the related resource; \\n receives a recomputed risk token computed based at least in part upon:\\n a form of authentication performed by the user; and \\n the presence of network jitter; \\n \\n re-determines determine the numeric authorization level based at least in part upon the recomputed risk token; \\n determines, based at least in part upon the recomputed risk token, that the user is authorized to access the at least one sub-resource; and \\n communicates a second decision token indicating that the user is authorized to access the resource, the related resource, and the at least one sub-resource. \\n \\n ',\n",
       " '4. A method for determining resource contexts comprising:\\n storing a plurality of tokens indicating that a user is attempting to access a resource; \\n determining, by the processor, a related resource that shares a relationship with the resource, wherein:\\n the resource is a composite resource; \\n the related resource is a sub-resource of the composite resource; and \\n the related resource is accessed in conjunction with accessing the resource; \\n \\n receiving a risk token computed based at least in part upon the resource and the related resource; \\n determining, by a processor, a numeric authorization level for the user based at least in part upon the plurality of tokens and the risk token, the numeric authorization level indicating whether the user is authorized to access the resource, wherein the composite resource comprises at least one sub-resource that the user is not authorized to access based on the numeric authorization level and at least one sub-resource that the user is authorized to access based on the numeric authorization level; \\n comparing, by the processor, the numeric authorization level to a numeric threshold; \\n determining, by the processor, based at least in part on the comparison between the numeric authorization level and the numeric threshold, that the user is authorized to access the related resource; \\n communicating a decision token indicating that the user is authorized to access the resource and the related resource; \\n receiving a recomputed risk token computed based at least in part upon:\\n a form of authentication performed by the user; and \\n the presence of network jitter; \\n \\n re-determining, by the processor, the numeric authorization level based at least in part upon the recomputed risk token; \\n determining, by the processor, based at least in part upon the recomputed risk token, that the user is authorized to access the at least one sub-resource; and \\n communicating a second decision token indicating that the user is authorized to access the resource, the related resource, and the at least one sub-resource. \\n ',\n",
       " '7. One or more computer-readable non-transitory storage media embodying software that when executed:\\n stores a plurality of tokens indicating that a user is attempting to access a resource; and \\n determines a related resource that shares a relationship with the resource, wherein:\\n the resource is a composite resource; \\n the related resource is a sub-resource of the composite resource; and \\n the related resource is accessed in conjunction with accessing the resource; \\n \\n receives a risk token computed based at least in part upon the resource and the related resource; \\n determines a numeric authorization level for the user based at least in part upon the plurality of tokens and the risk token, the numeric authorization level indicating whether the user is authorized to access the resource, wherein the composite resource comprises at least one sub-resource that the user is not authorized to access and at least one sub-resource that the user is authorized to access; \\n compares the numeric authorization level to a numeric threshold; \\n determines, based at least in part on the comparison between the numeric authorization level and the numeric threshold, that the user is authorized to access the related resource; \\n communicates a decision token indicating that the user is authorized to access the resource and the related resource; \\n receives a recomputed risk token computed based at least in part upon:\\n a form of authentication performed by the user; and \\n the presence of network jitter; \\n \\n re-determines determine the numeric authorization level based at least in part upon the recomputed risk token; \\n determines, based at least in part upon the recomputed risk token, that the user is authorized to access the at least one sub-resource; and \\n communicates a second decision token indicating that the user is authorized to access the resource, the related resource, and the at least one sub-resource. \\n ']"
      ]
     },
     "execution_count": 232,
     "metadata": {},
     "output_type": "execute_result"
    }
   ],
   "source": [
    "indep_claims = [c for c in claims if re.search('of\\s+claim', c) is None]\n",
    "indep_claim_indices = [i for i, c in enumerate(claims) if re.search('of\\s+claim', c) is None]\n",
    "indep_claims"
   ]
  },
  {
   "cell_type": "code",
   "execution_count": 239,
   "metadata": {},
   "outputs": [
    {
     "data": {
      "text/plain": [
       "{'1': 'What is claimed is: \\n     \\n       1. An apparatus comprising:\\n a memory that stores a plurality of tokens indicating that a user is attempting to access a resource; and \\n a processor that:\\n determines a related resource that shares a relationship with the resource, wherein:\\n the resource is a composite resource; \\n the related resource is a sub-resource of the composite resource; and \\n the related resource is accessed in conjunction with accessing the resource; \\n \\n receives a risk token computed based at least in part upon the resource and the related resource; \\n determines a numeric authorization level for the user based at least in part upon the plurality of tokens and the risk token, the numeric authorization level indicating whether the user is authorized to access the resource, wherein the composite resource comprises at least one sub-resource that the user is not authorized to access based on the numeric authorization level and at least one sub-resource that the user is authorized to access based on the numeric authorization level; \\n compares the numeric authorization level to a numeric threshold; \\n determines, based at least in part on the comparison between the numeric authorization level and the numeric threshold, that the user is authorized to access the related resource; \\n communicates a decision token indicating that the user is authorized to access the resource and the related resource; \\n receives a recomputed risk token computed based at least in part upon:\\n a form of authentication performed by the user; and \\n the presence of network jitter; \\n \\n re-determines determine the numeric authorization level based at least in part upon the recomputed risk token; \\n determines, based at least in part upon the recomputed risk token, that the user is authorized to access the at least one sub-resource; and \\n communicates a second decision token indicating that the user is authorized to access the resource, the related resource, and the at least one sub-resource. \\n \\n 2. The apparatus of  claim 1 , the memory further stores a plurality of token-based rules, wherein a token-based rule facilitates the determination of the related resource. 3. The apparatus of  claim 1 , wherein the determination of the related resource is based on a token-based rule. ',\n",
       " '4': '4. A method for determining resource contexts comprising:\\n storing a plurality of tokens indicating that a user is attempting to access a resource; \\n determining, by the processor, a related resource that shares a relationship with the resource, wherein:\\n the resource is a composite resource; \\n the related resource is a sub-resource of the composite resource; and \\n the related resource is accessed in conjunction with accessing the resource; \\n \\n receiving a risk token computed based at least in part upon the resource and the related resource; \\n determining, by a processor, a numeric authorization level for the user based at least in part upon the plurality of tokens and the risk token, the numeric authorization level indicating whether the user is authorized to access the resource, wherein the composite resource comprises at least one sub-resource that the user is not authorized to access based on the numeric authorization level and at least one sub-resource that the user is authorized to access based on the numeric authorization level; \\n comparing, by the processor, the numeric authorization level to a numeric threshold; \\n determining, by the processor, based at least in part on the comparison between the numeric authorization level and the numeric threshold, that the user is authorized to access the related resource; \\n communicating a decision token indicating that the user is authorized to access the resource and the related resource; \\n receiving a recomputed risk token computed based at least in part upon:\\n a form of authentication performed by the user; and \\n the presence of network jitter; \\n \\n re-determining, by the processor, the numeric authorization level based at least in part upon the recomputed risk token; \\n determining, by the processor, based at least in part upon the recomputed risk token, that the user is authorized to access the at least one sub-resource; and \\n communicating a second decision token indicating that the user is authorized to access the resource, the related resource, and the at least one sub-resource. \\n 5. The method of  claim 4 , further comprising storing a plurality of token-based rules, wherein a token-based rule facilitates the determination of the related resource. 6. The method of  claim 4 , wherein the determination of the related resource is based on a token-based rule. ',\n",
       " '7': '7. One or more computer-readable non-transitory storage media embodying software that when executed:\\n stores a plurality of tokens indicating that a user is attempting to access a resource; and \\n determines a related resource that shares a relationship with the resource, wherein:\\n the resource is a composite resource; \\n the related resource is a sub-resource of the composite resource; and \\n the related resource is accessed in conjunction with accessing the resource; \\n \\n receives a risk token computed based at least in part upon the resource and the related resource; \\n determines a numeric authorization level for the user based at least in part upon the plurality of tokens and the risk token, the numeric authorization level indicating whether the user is authorized to access the resource, wherein the composite resource comprises at least one sub-resource that the user is not authorized to access and at least one sub-resource that the user is authorized to access; \\n compares the numeric authorization level to a numeric threshold; \\n determines, based at least in part on the comparison between the numeric authorization level and the numeric threshold, that the user is authorized to access the related resource; \\n communicates a decision token indicating that the user is authorized to access the resource and the related resource; \\n receives a recomputed risk token computed based at least in part upon:\\n a form of authentication performed by the user; and \\n the presence of network jitter; \\n \\n re-determines determine the numeric authorization level based at least in part upon the recomputed risk token; \\n determines, based at least in part upon the recomputed risk token, that the user is authorized to access the at least one sub-resource; and \\n communicates a second decision token indicating that the user is authorized to access the resource, the related resource, and the at least one sub-resource. \\n 8. The media of  claim 7  embodying software that when executed further stores a plurality of token-based rules, wherein a token-based rule facilitates the determination of the related resource. 9. The media of  claim 7 , wherein the determination of the related resource is based on a token-based rule.'}"
      ]
     },
     "execution_count": 239,
     "metadata": {},
     "output_type": "execute_result"
    }
   ],
   "source": [
    "indep_claims_and_their_dependents = dict()\n",
    "for i, c in enumerate(claims):\n",
    "    if i in indep_claim_indices:\n",
    "        # Is independent, so start an entry in indep_claims_and_their_dependents.\n",
    "        # First numeric appearing in claim should be the claim number.\n",
    "        claim_num = re.search('\\d+', c).group()\n",
    "        assert claim_num is not None, 'Could not find independent claim number.'\n",
    "        indep_claims_and_their_dependents[claim_num] = c\n",
    "    else:\n",
    "        # Is dependent, so group to most recent independent claim since that is what dependent claim refers to.\n",
    "        processed_indep_claim_indices = list(indep_claims_and_their_dependents.keys())\n",
    "        processed_indep_claim_indices.sort()\n",
    "        latest_indep_claim_index = processed_indep_claim_indices[-1]\n",
    "        indep_claims_and_their_dependents[latest_indep_claim_index] = indep_claims_and_their_dependents[latest_indep_claim_index] + c\n",
    "indep_claims_and_their_dependents"
   ]
  },
  {
   "cell_type": "code",
   "execution_count": 241,
   "metadata": {},
   "outputs": [],
   "source": [
    "word_sets = {ic_num: get_word_set(claims_text) for ic_num, claims_text in indep_claims_and_their_dependents.items()}"
   ]
  },
  {
   "attachments": {},
   "cell_type": "markdown",
   "metadata": {},
   "source": [
    "### Get words that are unique to each independent claim."
   ]
  },
  {
   "cell_type": "code",
   "execution_count": 245,
   "metadata": {},
   "outputs": [
    {
     "data": {
      "text/plain": [
       "{'1': ['that:', 'is:', 'An', 'What', 'apparatus', 'memory', 'claimed'],\n",
       " '4': ['communicating',\n",
       "  'comprising',\n",
       "  'receiving',\n",
       "  'method',\n",
       "  'determining',\n",
       "  'comparing',\n",
       "  'contexts',\n",
       "  're-determining',\n",
       "  'storing'],\n",
       " '7': ['executed',\n",
       "  'more',\n",
       "  'media',\n",
       "  'software',\n",
       "  'embodying',\n",
       "  'storage',\n",
       "  'or',\n",
       "  'executed:',\n",
       "  'when',\n",
       "  'One',\n",
       "  'non-transitory',\n",
       "  'computer-readable']}"
      ]
     },
     "execution_count": 245,
     "metadata": {},
     "output_type": "execute_result"
    }
   ],
   "source": [
    "unique_word_lists = dict()\n",
    "for ic_num, word_set in word_sets.items():\n",
    "    unique_words = word_set\n",
    "    for other_ic_num, other_word_set in word_sets.items():\n",
    "        if ic_num == other_ic_num:\n",
    "            continue\n",
    "        unique_words = unique_words - other_word_set\n",
    "    unique_word_lists[ic_num] = list(unique_words)\n",
    "unique_word_lists"
   ]
  },
  {
   "attachments": {},
   "cell_type": "markdown",
   "metadata": {},
   "source": [
    "### Prompt"
   ]
  },
  {
   "cell_type": "code",
   "execution_count": 246,
   "metadata": {},
   "outputs": [],
   "source": [
    "from langchain.chat_models import ChatOpenAI\n",
    "from langchain.prompts.chat import (\n",
    "    ChatPromptTemplate,\n",
    "    SystemMessagePromptTemplate,\n",
    "    AIMessagePromptTemplate,\n",
    "    HumanMessagePromptTemplate,\n",
    ")\n",
    "from langchain.schema import (\n",
    "    AIMessage,\n",
    "    HumanMessage,\n",
    "    SystemMessage\n",
    ")\n",
    "import json"
   ]
  },
  {
   "cell_type": "code",
   "execution_count": 247,
   "metadata": {},
   "outputs": [],
   "source": [
    "chat = ChatOpenAI(temperature=0, openai_api_key=openai_api_key)"
   ]
  },
  {
   "cell_type": "code",
   "execution_count": 248,
   "metadata": {},
   "outputs": [
    {
     "data": {
      "text/plain": [
       "[SystemMessage(content='\\nYou are a helpful assistant to a patent lawyer. The lawyer wants your help understanding a patent.\\nAnswer the lawyer\\'s questions about the patent in 300 words or less. Cite text from the patent in quotes in your answer. If you don\\'t know the answer, just say that you don\\'t know. \\nDon\\'t try to make up an answer. If you are uncertain about any part of your answer, say so. \\n\\nUse the following information in thinking through your answer. First, the patent is delimited by triple backticks. Second, the words that appear uniquely in each independent claim are\\ngiven in a JSON delimited by triple backticks. For example, independent claim 1 has key \\'1\\' in the JSON, and its values are all words that appear only in independent claim 1 and its\\ndependent claims.\\n\\nPatent: \\n```\\npatent_number: US8950002B2\\ntitle: Method and apparatus for token-based access of related resources\\nabstract: According to one embodiment, an apparatus may store a plurality of tokens indicating that a user is attempting to access a resource. The apparatus may determine an authorization level for the user based at least in part upon the plurality of tokens. The authorization level may indicate whether the user is authorized to access the resource. The apparatus may then determine a related resource that shares a relationship with the resource, and determine that the authorization level indicates that the user is authorized to access the related resource. The apparatus may then communicate a decision token indicating that the user is authorized to access the resource and the related resource.\\nclaims: What is claimed is: \\n     \\n       1. An apparatus comprising:\\n a memory that stores a plurality of tokens indicating that a user is attempting to access a resource; and \\n a processor that:\\n determines a related resource that shares a relationship with the resource, wherein:\\n the resource is a composite resource; \\n the related resource is a sub-resource of the composite resource; and \\n the related resource is accessed in conjunction with accessing the resource; \\n \\n receives a risk token computed based at least in part upon the resource and the related resource; \\n determines a numeric authorization level for the user based at least in part upon the plurality of tokens and the risk token, the numeric authorization level indicating whether the user is authorized to access the resource, wherein the composite resource comprises at least one sub-resource that the user is not authorized to access based on the numeric authorization level and at least one sub-resource that the user is authorized to access based on the numeric authorization level; \\n compares the numeric authorization level to a numeric threshold; \\n determines, based at least in part on the comparison between the numeric authorization level and the numeric threshold, that the user is authorized to access the related resource; \\n communicates a decision token indicating that the user is authorized to access the resource and the related resource; \\n receives a recomputed risk token computed based at least in part upon:\\n a form of authentication performed by the user; and \\n the presence of network jitter; \\n \\n re-determines determine the numeric authorization level based at least in part upon the recomputed risk token; \\n determines, based at least in part upon the recomputed risk token, that the user is authorized to access the at least one sub-resource; and \\n communicates a second decision token indicating that the user is authorized to access the resource, the related resource, and the at least one sub-resource. \\n \\n \\n     \\n     \\n       2. The apparatus of  claim 1 , the memory further stores a plurality of token-based rules, wherein a token-based rule facilitates the determination of the related resource. \\n     \\n     \\n       3. The apparatus of  claim 1 , wherein the determination of the related resource is based on a token-based rule. \\n     \\n     \\n       4. A method for determining resource contexts comprising:\\n storing a plurality of tokens indicating that a user is attempting to access a resource; \\n determining, by the processor, a related resource that shares a relationship with the resource, wherein:\\n the resource is a composite resource; \\n the related resource is a sub-resource of the composite resource; and \\n the related resource is accessed in conjunction with accessing the resource; \\n \\n receiving a risk token computed based at least in part upon the resource and the related resource; \\n determining, by a processor, a numeric authorization level for the user based at least in part upon the plurality of tokens and the risk token, the numeric authorization level indicating whether the user is authorized to access the resource, wherein the composite resource comprises at least one sub-resource that the user is not authorized to access based on the numeric authorization level and at least one sub-resource that the user is authorized to access based on the numeric authorization level; \\n comparing, by the processor, the numeric authorization level to a numeric threshold; \\n determining, by the processor, based at least in part on the comparison between the numeric authorization level and the numeric threshold, that the user is authorized to access the related resource; \\n communicating a decision token indicating that the user is authorized to access the resource and the related resource; \\n receiving a recomputed risk token computed based at least in part upon:\\n a form of authentication performed by the user; and \\n the presence of network jitter; \\n \\n re-determining, by the processor, the numeric authorization level based at least in part upon the recomputed risk token; \\n determining, by the processor, based at least in part upon the recomputed risk token, that the user is authorized to access the at least one sub-resource; and \\n communicating a second decision token indicating that the user is authorized to access the resource, the related resource, and the at least one sub-resource. \\n \\n     \\n     \\n       5. The method of  claim 4 , further comprising storing a plurality of token-based rules, wherein a token-based rule facilitates the determination of the related resource. \\n     \\n     \\n       6. The method of  claim 4 , wherein the determination of the related resource is based on a token-based rule. \\n     \\n     \\n       7. One or more computer-readable non-transitory storage media embodying software that when executed:\\n stores a plurality of tokens indicating that a user is attempting to access a resource; and \\n determines a related resource that shares a relationship with the resource, wherein:\\n the resource is a composite resource; \\n the related resource is a sub-resource of the composite resource; and \\n the related resource is accessed in conjunction with accessing the resource; \\n \\n receives a risk token computed based at least in part upon the resource and the related resource; \\n determines a numeric authorization level for the user based at least in part upon the plurality of tokens and the risk token, the numeric authorization level indicating whether the user is authorized to access the resource, wherein the composite resource comprises at least one sub-resource that the user is not authorized to access and at least one sub-resource that the user is authorized to access; \\n compares the numeric authorization level to a numeric threshold; \\n determines, based at least in part on the comparison between the numeric authorization level and the numeric threshold, that the user is authorized to access the related resource; \\n communicates a decision token indicating that the user is authorized to access the resource and the related resource; \\n receives a recomputed risk token computed based at least in part upon:\\n a form of authentication performed by the user; and \\n the presence of network jitter; \\n \\n re-determines determine the numeric authorization level based at least in part upon the recomputed risk token; \\n determines, based at least in part upon the recomputed risk token, that the user is authorized to access the at least one sub-resource; and \\n communicates a second decision token indicating that the user is authorized to access the resource, the related resource, and the at least one sub-resource. \\n \\n     \\n     \\n       8. The media of  claim 7  embodying software that when executed further stores a plurality of token-based rules, wherein a token-based rule facilitates the determination of the related resource. \\n     \\n     \\n       9. The media of  claim 7 , wherein the determination of the related resource is based on a token-based rule.\\n```\\nWords Unique to Each Independent Claim and Its Dependent Claims:\\n```\\n{\"1\": [\"that:\", \"is:\", \"An\", \"What\", \"apparatus\", \"memory\", \"claimed\"], \"4\": [\"communicating\", \"comprising\", \"receiving\", \"method\", \"determining\", \"comparing\", \"contexts\", \"re-determining\", \"storing\"], \"7\": [\"executed\", \"more\", \"media\", \"software\", \"embodying\", \"storage\", \"or\", \"executed:\", \"when\", \"One\", \"non-transitory\", \"computer-readable\"]}\\n```\\n', additional_kwargs={}),\n",
       " HumanMessage(content=\"The lawyer's question is delimited with triple backticks.\\n\\nLawyer's question: '''How does claim 1 differ from claim 4?'''\", additional_kwargs={})]"
      ]
     },
     "execution_count": 248,
     "metadata": {},
     "output_type": "execute_result"
    }
   ],
   "source": [
    "sys_msg_template = \"\"\"\n",
    "You are a helpful assistant to a patent lawyer. The lawyer wants your help understanding a patent.\n",
    "Answer the lawyer's questions about the patent in 300 words or less. Cite text from the patent in quotes in your answer. If you don't know the answer, just say that you don't know. \n",
    "Don't try to make up an answer. If you are uncertain about any part of your answer, say so. \n",
    "\n",
    "Use the following information in thinking through your answer. First, the patent is delimited by triple backticks. Second, the words that appear uniquely in each independent claim are\n",
    "given in a JSON delimited by triple backticks. For example, independent claim 1 has key '1' in the JSON, and its values are all words that appear only in independent claim 1 and its\n",
    "dependent claims.\n",
    "\n",
    "Patent: \n",
    "```\n",
    "{patent}\n",
    "```\n",
    "Words Unique to Each Independent Claim and Its Dependent Claims:\n",
    "```\n",
    "{unique_words}\n",
    "```\n",
    "\"\"\"\n",
    "\n",
    "sys_msg_prompt_template = SystemMessagePromptTemplate.from_template(sys_msg_template)\n",
    "\n",
    "human_template = \"\"\"The lawyer's question is delimited with triple backticks.\n",
    "\n",
    "Lawyer's question: '''{question}'''\"\"\"\n",
    "\n",
    "human_msg_prompt_template = HumanMessagePromptTemplate.from_template(human_template)\n",
    "\n",
    "chat_prompt_template = ChatPromptTemplate.from_messages([sys_msg_prompt_template, human_msg_prompt_template])\n",
    "\n",
    "# Get a chat completion from the formatted messages.\n",
    "# Both page_content and 'source' key of metadata are injected into prompt in document QA. Formatting still unclear. For now just passing page_content because only have single doc.\n",
    "chat_prompt = chat_prompt_template.format_prompt(question=\"How does claim 1 differ from claim 4?\", \n",
    "                                                 patent=data[0].page_content, \n",
    "                                                 unique_words=json.dumps(unique_word_lists)).to_messages()\n",
    "chat_prompt"
   ]
  },
  {
   "cell_type": "code",
   "execution_count": 249,
   "metadata": {},
   "outputs": [
    {
     "data": {
      "text/plain": [
       "{'token_usage': {'prompt_tokens': 1809,\n",
       "  'completion_tokens': 565,\n",
       "  'total_tokens': 2374},\n",
       " 'model_name': 'gpt-3.5-turbo'}"
      ]
     },
     "execution_count": 249,
     "metadata": {},
     "output_type": "execute_result"
    }
   ],
   "source": [
    "result = chat.generate([chat_prompt])\n",
    "result.llm_output"
   ]
  },
  {
   "cell_type": "code",
   "execution_count": 250,
   "metadata": {},
   "outputs": [
    {
     "data": {
      "text/plain": [
       "'Claim 1 is directed to an apparatus comprising a memory that stores a plurality of tokens indicating that a user is attempting to access a resource, and a processor that determines a related resource that shares a relationship with the resource. The related resource is a sub-resource of the composite resource and is accessed in conjunction with accessing the resource. Claim 1 also includes additional steps of receiving a risk token computed based at least in part upon the resource and the related resource, determining a numeric authorization level for the user based at least in part upon the plurality of tokens and the risk token, comparing the numeric authorization level to a numeric threshold, determining, based at least in part on the comparison between the numeric authorization level and the numeric threshold, that the user is authorized to access the related resource, communicating a decision token indicating that the user is authorized to access the resource and the related resource, receiving a recomputed risk token computed based at least in part upon a form of authentication performed by the user and the presence of network jitter, re-determining the numeric authorization level based at least in part upon the recomputed risk token, determining, based at least in part upon the recomputed risk token, that the user is authorized to access the at least one sub-resource, and communicating a second decision token indicating that the user is authorized to access the resource, the related resource, and the at least one sub-resource.\\n\\nOn the other hand, claim 4 is directed to a method for determining resource contexts comprising storing a plurality of tokens indicating that a user is attempting to access a resource, determining a related resource that shares a relationship with the resource, receiving a risk token computed based at least in part upon the resource and the related resource, determining a numeric authorization level for the user based at least in part upon the plurality of tokens and the risk token, comparing the numeric authorization level to a numeric threshold, determining, based at least in part on the comparison between the numeric authorization level and the numeric threshold, that the user is authorized to access the related resource, communicating a decision token indicating that the user is authorized to access the resource and the related resource, receiving a recomputed risk token computed based at least in part upon a form of authentication performed by the user and the presence of network jitter, re-determining the numeric authorization level based at least in part upon the recomputed risk token, determining, based at least in part upon the recomputed risk token, that the user is authorized to access the at least one sub-resource, and communicating a second decision token indicating that the user is authorized to access the resource, the related resource, and the at least one sub-resource. \\n\\nThus, the difference between claim 1 and claim 4 is that claim 1 is directed to an apparatus, while claim 4 is directed to a method.'"
      ]
     },
     "execution_count": 250,
     "metadata": {},
     "output_type": "execute_result"
    }
   ],
   "source": [
    "result.generations[0][0].text"
   ]
  },
  {
   "attachments": {},
   "cell_type": "markdown",
   "metadata": {},
   "source": [
    "TBH not sure how well this worked because I haven't read the patent lol."
   ]
  }
 ],
 "metadata": {
  "kernelspec": {
   "display_name": "law-project-backend-Kz-JhaCG",
   "language": "python",
   "name": "python3"
  },
  "language_info": {
   "codemirror_mode": {
    "name": "ipython",
    "version": 3
   },
   "file_extension": ".py",
   "mimetype": "text/x-python",
   "name": "python",
   "nbconvert_exporter": "python",
   "pygments_lexer": "ipython3",
   "version": "3.11.0"
  },
  "orig_nbformat": 4,
  "vscode": {
   "interpreter": {
    "hash": "44494df1af92ede321266b96908922b8eae1fd08879211d2cc94f1824e1b253c"
   }
  }
 },
 "nbformat": 4,
 "nbformat_minor": 2
}
