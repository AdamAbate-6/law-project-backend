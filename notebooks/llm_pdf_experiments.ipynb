{
 "cells": [
  {
   "cell_type": "code",
   "execution_count": 2,
   "metadata": {},
   "outputs": [],
   "source": [
    "import yaml\n",
    "import langchain\n",
    "from langchain.document_loaders import PyPDFLoader\n",
    "from langchain.vectorstores import FAISS\n",
    "from langchain.embeddings.openai import OpenAIEmbeddings"
   ]
  },
  {
   "attachments": {},
   "cell_type": "markdown",
   "metadata": {},
   "source": [
    "Load API key."
   ]
  },
  {
   "cell_type": "code",
   "execution_count": 3,
   "metadata": {},
   "outputs": [],
   "source": [
    "with open('../api_keys.yaml', 'r') as f:\n",
    "    keys = yaml.safe_load(f)\n",
    "\n",
    "openai_api_key = keys['openai']"
   ]
  },
  {
   "attachments": {},
   "cell_type": "markdown",
   "metadata": {},
   "source": [
    "## Initial exploration of FAISS as a vector store"
   ]
  },
  {
   "cell_type": "code",
   "execution_count": 4,
   "metadata": {},
   "outputs": [],
   "source": [
    "loader = PyPDFLoader(\"../example_data/Aviza_et_al_2007.pdf\")\n",
    "pages = loader.load_and_split()"
   ]
  },
  {
   "attachments": {},
   "cell_type": "markdown",
   "metadata": {},
   "source": [
    "NOTE: Not sure if all patents will be like this, but some \"pages\" are just headers since the actual content consists of images."
   ]
  },
  {
   "cell_type": "code",
   "execution_count": 7,
   "metadata": {},
   "outputs": [
    {
     "data": {
      "text/plain": [
       "'U.S. Patent Sep. 25, 2007 Sheet 6 0f 8 \\n {I 6 \\n £3 US 7,272,991 B2'"
      ]
     },
     "execution_count": 7,
     "metadata": {},
     "output_type": "execute_result"
    }
   ],
   "source": [
    "pages[6].page_content"
   ]
  },
  {
   "cell_type": "code",
   "execution_count": 8,
   "metadata": {},
   "outputs": [
    {
     "data": {
      "text/plain": [
       "[2464, 54, 54, 103, 54, 54, 66, 54, 54, 3963, 3350, 3998, 2179, 2647]"
      ]
     },
     "execution_count": 8,
     "metadata": {},
     "output_type": "execute_result"
    }
   ],
   "source": [
    "[len(p.page_content) for p in pages]"
   ]
  },
  {
   "cell_type": "code",
   "execution_count": 9,
   "metadata": {},
   "outputs": [],
   "source": [
    "pages = [p for p in pages if len(p.page_content) > 100]"
   ]
  },
  {
   "cell_type": "code",
   "execution_count": 10,
   "metadata": {},
   "outputs": [
    {
     "name": "stdout",
     "output_type": "stream",
     "text": [
      "3: U.S. Patent Sep. 25, 2007 Sheet 3 0f 8 US 7,272,991 B2 \n",
      " m» i \n",
      " swim \n",
      " {.3 G \n",
      " Mm \n",
      " came an \n",
      " an as \n",
      " K\n",
      "9: cutting edges parallel to each other and spaced from adjacent \n",
      " cutting edges so as to de?ne a shaving surface, connecting \n",
      " the ?rst longitudinal ends to each other and the second \n",
      " longitudinal ends to each by Welding While the cutting edges \n",
      " are maintained parallel to each other. \n",
      " Particular embodiments of the invention may include one \n",
      " or more of the folloWing features. In particular embodiments \n",
      " a ?xture is used to align the blades in parallel planes and to \n",
      " position the cutting edges at desired positions. The ?xture \n",
      " has slots to align the blades and stop surfaces to position the \n",
      " cutting edges. The integral unit of blades is positioned into \n",
      " a recess in a housing. The recess can be open to the top, With, \n",
      " e.g., the integral blade unit being loWered into the recess and \n",
      " held in place by clips or by snap-?tting, or the recess can \n",
      " open to the bottom, With the integral blade unit being raised \n",
      " into the recess. \n",
      " Embodiments of the invention may include one or more \n",
      " of the folloWing advantages. Automated assembly of raZor \n",
      " blade cartridges can be simpli?ed by installing all of the \n",
      " blades as a unit in a single step. The geometry of the cutting \n",
      " edges With respect to each other can be set prior to assembly, \n",
      " e.g., With a ?xture, and tightly controlled and varied, if \n",
      " desired. The subassembly of blades can be removably \n",
      " mounted in a housing and replaced With a neW subassembly \n",
      " as the blades become spent, thereby decreasing the parts that \n",
      " are disposed and reusing more parts. Also, integrated blade \n",
      " unit subassemblies can be manufactured With a variety of \n",
      " different blade geometries, With, e.g., different blade tangent \n",
      " angles, exposures, and/ or spans, and the different subassem \n",
      " blies can all be used With a common design for the rest of \n",
      " the cartridge into Which they are inserted, simplifying part \n",
      " count and tooling at the same time that a variety of different \n",
      " geometries can be easily implemented. \n",
      " Other advantages and features of the invention Will be \n",
      " apparent from the folloWing description of particular \n",
      " embodiments thereof and from the claims. \n",
      " BRIEF DESCRIPTION OF THE DRAWINGS \n",
      " FIG. 1 is a partial, perspective vieW of a shaving raZor. \n",
      " FIG. 2 is an exploded, partial, perspective vieW of the \n",
      " FIG. 1 shaving raZor. \n",
      " FIG. 3 is a perspective vieW of a blade subassembly of the \n",
      " FIG. 1 shaving raZor. \n",
      " FIG. 4 is a plan vieW of the FIG. 3 blade subassembly. \n",
      " FIG. 5 is a front elevation of the FIG. 3 blade subassem \n",
      " bly. \n",
      " FIG. 6 is a side elevation of the FIG. 3 blade subassembly. \n",
      " FIG. 7 is a perspective vieW ofa blade ofthe FIG. 3 blade \n",
      " subassembly. \n",
      " FIG. 8 is a partial diagrammatic plan vieW illustrating \n",
      " blade and side plate components of the FIG. 3 blade sub \n",
      " assembly. \n",
      " FIG. 9 is a diagrammatic side vieW of ?xture used in the \n",
      " manufacture of the FIG. 3 blade subassembly. \n",
      " FIG. 10 is a diagrammatic, partial, exploded vieW of an \n",
      " alternative embodiment of a blade subassembly that does not \n",
      " have side plates. \n",
      " FIG. 11 is an elevation of an alternative embodiment of a \n",
      " blade subassembly that is replaceable. \n",
      " FIGS. 12-13 are perspective vieWs of alternative, one \n",
      " piece blade constructions. \n",
      " FIGS. 14-16 are a perspective vieW of tWo-, three- and \n",
      " four-blade alternative subassemblies, respectively, for use in \n",
      " the FIG. 1 shaving raZor.\n"
     ]
    },
    {
     "data": {
      "text/plain": [
       "[Document(page_content='U.S. Patent Sep. 25, 2007 Sheet 3 0f 8 US 7,272,991 B2 \\n m» i \\n swim \\n {.3 G \\n Mm \\n came an \\n an as \\n K', metadata={'source': 'example_data/Aviza_et_al_2007.pdf', 'page': 3}),\n",
       " Document(page_content='cutting edges parallel to each other and spaced from adjacent \\n cutting edges so as to de?ne a shaving surface, connecting \\n the ?rst longitudinal ends to each other and the second \\n longitudinal ends to each by Welding While the cutting edges \\n are maintained parallel to each other. \\n Particular embodiments of the invention may include one \\n or more of the folloWing features. In particular embodiments \\n a ?xture is used to align the blades in parallel planes and to \\n position the cutting edges at desired positions. The ?xture \\n has slots to align the blades and stop surfaces to position the \\n cutting edges. The integral unit of blades is positioned into \\n a recess in a housing. The recess can be open to the top, With, \\n e.g., the integral blade unit being loWered into the recess and \\n held in place by clips or by snap-?tting, or the recess can \\n open to the bottom, With the integral blade unit being raised \\n into the recess. \\n Embodiments of the invention may include one or more \\n of the folloWing advantages. Automated assembly of raZor \\n blade cartridges can be simpli?ed by installing all of the \\n blades as a unit in a single step. The geometry of the cutting \\n edges With respect to each other can be set prior to assembly, \\n e.g., With a ?xture, and tightly controlled and varied, if \\n desired. The subassembly of blades can be removably \\n mounted in a housing and replaced With a neW subassembly \\n as the blades become spent, thereby decreasing the parts that \\n are disposed and reusing more parts. Also, integrated blade \\n unit subassemblies can be manufactured With a variety of \\n different blade geometries, With, e.g., different blade tangent \\n angles, exposures, and/ or spans, and the different subassem \\n blies can all be used With a common design for the rest of \\n the cartridge into Which they are inserted, simplifying part \\n count and tooling at the same time that a variety of different \\n geometries can be easily implemented. \\n Other advantages and features of the invention Will be \\n apparent from the folloWing description of particular \\n embodiments thereof and from the claims. \\n BRIEF DESCRIPTION OF THE DRAWINGS \\n FIG. 1 is a partial, perspective vieW of a shaving raZor. \\n FIG. 2 is an exploded, partial, perspective vieW of the \\n FIG. 1 shaving raZor. \\n FIG. 3 is a perspective vieW of a blade subassembly of the \\n FIG. 1 shaving raZor. \\n FIG. 4 is a plan vieW of the FIG. 3 blade subassembly. \\n FIG. 5 is a front elevation of the FIG. 3 blade subassem \\n bly. \\n FIG. 6 is a side elevation of the FIG. 3 blade subassembly. \\n FIG. 7 is a perspective vieW ofa blade ofthe FIG. 3 blade \\n subassembly. \\n FIG. 8 is a partial diagrammatic plan vieW illustrating \\n blade and side plate components of the FIG. 3 blade sub \\n assembly. \\n FIG. 9 is a diagrammatic side vieW of ?xture used in the \\n manufacture of the FIG. 3 blade subassembly. \\n FIG. 10 is a diagrammatic, partial, exploded vieW of an \\n alternative embodiment of a blade subassembly that does not \\n have side plates. \\n FIG. 11 is an elevation of an alternative embodiment of a \\n blade subassembly that is replaceable. \\n FIGS. 12-13 are perspective vieWs of alternative, one \\n piece blade constructions. \\n FIGS. 14-16 are a perspective vieW of tWo-, three- and \\n four-blade alternative subassemblies, respectively, for use in \\n the FIG. 1 shaving raZor.', metadata={'source': 'example_data/Aviza_et_al_2007.pdf', 'page': 9})]"
      ]
     },
     "execution_count": 10,
     "metadata": {},
     "output_type": "execute_result"
    }
   ],
   "source": [
    "faiss_index = FAISS.from_documents(pages, OpenAIEmbeddings(openai_api_key=openai_api_key))\n",
    "docs = faiss_index.similarity_search(\"Summarize the independent claims.\", k=2)\n",
    "for doc in docs:\n",
    "    print(str(doc.metadata[\"page\"]) + \":\", doc.page_content)\n",
    "docs"
   ]
  },
  {
   "cell_type": "code",
   "execution_count": 19,
   "metadata": {},
   "outputs": [
    {
     "data": {
      "text/plain": [
       "list"
      ]
     },
     "execution_count": 19,
     "metadata": {},
     "output_type": "execute_result"
    }
   ],
   "source": [
    "type(pages)"
   ]
  },
  {
   "attachments": {},
   "cell_type": "markdown",
   "metadata": {},
   "source": [
    "## Function for ingesting multiple patent PDFs and putting them into a single vector store"
   ]
  },
  {
   "cell_type": "code",
   "execution_count": 56,
   "metadata": {},
   "outputs": [],
   "source": [
    "def create_faiss_db(doc_paths: list[str], faiss_index: FAISS | None = None):\n",
    "\n",
    "    all_pages = []\n",
    "    for doc in doc_paths:\n",
    "        loader = PyPDFLoader(doc)\n",
    "        pages = loader.load_and_split()\n",
    "\n",
    "        # Filter out any pages that are just the header (e.g. because the rest of the content is images.) \n",
    "        #  Also the first page might have useful info but has too much special formatting (e.g. specific numbers in front of specific fields)\n",
    "        pages = [p for p in pages if len(p.page_content) > 150 and p.metadata['page'] > 0]\n",
    "        all_pages += pages\n",
    "\n",
    "    tmp_index = FAISS.from_documents(all_pages, OpenAIEmbeddings(openai_api_key=openai_api_key))\n",
    "    if faiss_index is None:\n",
    "        faiss_index = tmp_index\n",
    "    else:\n",
    "        faiss_index.merge_from(tmp_index)\n",
    "\n",
    "    return faiss_index\n",
    "    "
   ]
  },
  {
   "attachments": {},
   "cell_type": "markdown",
   "metadata": {},
   "source": [
    "Some examination of specific pages to address odd patent formatting."
   ]
  },
  {
   "cell_type": "code",
   "execution_count": 57,
   "metadata": {},
   "outputs": [],
   "source": [
    "doc_paths = [\"../example_data/Aviza_et_al_2007.pdf\", \"../example_data/Jessemey_et_al_2011.pdf\"]\n",
    "faiss_index = create_faiss_db(doc_paths)"
   ]
  },
  {
   "cell_type": "code",
   "execution_count": 49,
   "metadata": {},
   "outputs": [
    {
     "data": {
      "text/plain": [
       "{'source': 'example_data/Aviza_et_al_2007.pdf', 'page': 0}"
      ]
     },
     "execution_count": 49,
     "metadata": {},
     "output_type": "execute_result"
    }
   ],
   "source": [
    "faiss_index.docstore._dict['12b34936-7858-4810-adf3-863a11d978ed'].metadata"
   ]
  },
  {
   "cell_type": "code",
   "execution_count": 53,
   "metadata": {},
   "outputs": [
    {
     "name": "stdout",
     "output_type": "stream",
     "text": [
      "US 7,272,991 B2 \n",
      " 1 \n",
      " SHAVING RAZORS, AND BLADE \n",
      " SUBASSEMBLIES THEREFOR AND \n",
      " METHODS OF MANUFACTURE \n",
      " The invention relates to shaving razors, and blade subas \n",
      " semblies therefor and methods of manufacture. \n",
      " Shaving razors often include a plurality of blades that are \n",
      " secured in a desired position in a plastic housing. The \n",
      " housing is often provided With a guard With ?ns or other skin \n",
      " engaging structures made of elastomeric material in front of \n",
      " the blades, and a cap on Which the skin can slide behind the \n",
      " blades. A shaving aid (e.g., a lubricant agent dispensing \n",
      " mechanism) can be incorporated into the cap and, in some \n",
      " cases, the guard. The blades can be stationary or movable, \n",
      " and the housing can be ?xed to a handle or movably \n",
      " mounted on the handle, to, e.g., assist in folloWing the \n",
      " contours of the skin during shaving. \n",
      " Examples of some different types of shaving raZors are \n",
      " described in US. Pat. Nos. 5,313,706; 5,369,885; 5,416, \n",
      " 974; 5,546,660; 6,032,372; 6,145,201; 6,161,288; 6,216, \n",
      " 345; 6,216,561; and 6,397,473. \n",
      " SUMMARY OF THE INVENTION \n",
      " In one aspect, the invention features, in general, a subas \n",
      " sembly for a shaving raZor that includes a plurality of \n",
      " elongated metal blades that are secured to each other as an \n",
      " integral unit. The plural blades have cutting edges de?ning \n",
      " a shaving surface, and are secured to each other by Weld \n",
      " connections at their respective longitudinal ends. \n",
      " Particular embodiments of the invention may include one \n",
      " or more of the following features. In particular embodi \n",
      " ments, the longitudinal ends of the blades are bent and are \n",
      " transverse to the cutting edges. In some embodiments, the \n",
      " unit includes tWo metal plates, and one set of longitudinal \n",
      " ends are connected by ?rst Weld connections to a ?rst metal \n",
      " plate, and the other set of longitudinal ends are connected by \n",
      " second Weld connections to a second metal plate. The plates \n",
      " can have a stainless steel base and an aluminum cladding \n",
      " thereover. In some other embodiments, one set of longitu \n",
      " dinal ends of the blades overlap and are Welded to adjacent \n",
      " ends at one side of the unit, and the other set of longitudinal \n",
      " ends of the blades overlap and are Welded to adjacent ends \n",
      " at the other side of the unit. In some embodiments each blade \n",
      " includes an elongated cutting member having a cutting edge \n",
      " and an elongated support to Which the elongated cutting \n",
      " member is attached, With the longitudinal ends of the \n",
      " elongated support being Welded to each other at the tWo \n",
      " sides. In some other embodiments, each blade includes an \n",
      " elongated cutting member portion having a cutting edge and \n",
      " an integral elongated support portion bent doWnWard from \n",
      " the cutting member portion, With the longitudinal ends of the \n",
      " elongated support portion being Welded to each other at the \n",
      " tWo sides. In still other embodiments, each blade includes an \n",
      " elongated cutting member having a cutting edge, and the \n",
      " longitudinal ends of the elongated cutting member are \n",
      " Welded to each other at the tWo sides. The subassembly can \n",
      " have tWo blades, three blades, four blades or ?ve blades or \n",
      " more. The cutting edges can be located in a common plane. \n",
      " The subassembly can have a snap-?tting structure for con \n",
      " nection to a housing of a shaving raZor. \n",
      " In another aspect the invention features, in general, a \n",
      " shaving raZor including a subassembly as already described, \n",
      " and a housing having a recess in Which the subassembly is \n",
      " secured. \n",
      " In another aspect the invention features, in general, a \n",
      " method of making a shaving raZor that includes providing a 20 \n",
      " 25 \n",
      " 30 \n",
      " 35 \n",
      " 40 \n",
      " 45 \n",
      " 50 \n",
      " 55 \n",
      " 60 \n",
      " 65 2 \n",
      " plurality of elongated metal raZor blades having cutting \n",
      " edges and ?rst and second longitudinal ends, positioning the \n",
      " cutting edges parallel to each other and spaced from adjacent \n",
      " cutting edges so as to de?ne a shaving surface, connecting \n",
      " the ?rst longitudinal ends to each other and the second\n"
     ]
    }
   ],
   "source": [
    "for doc_id, page in faiss_index.docstore._dict.items():\n",
    "    if page.metadata['page'] > 0 and page.metadata['source'] == '../example_data/Aviza_et_al_2007.pdf' and len(page.page_content) > 150:\n",
    "        print(page.page_content)\n",
    "        break"
   ]
  },
  {
   "attachments": {},
   "cell_type": "markdown",
   "metadata": {},
   "source": [
    "## Use docs in FAISS to answer questions"
   ]
  },
  {
   "cell_type": "code",
   "execution_count": 11,
   "metadata": {},
   "outputs": [],
   "source": [
    "from langchain.chains import LLMChain\n",
    "from langchain.chains.question_answering import load_qa_chain\n",
    "# Below prompt:\n",
    "\"\"\"Given the following conversation and a follow up question, rephrase the follow up question to be a standalone question.\n",
    "Chat History:\n",
    "{chat_history}\n",
    "Follow Up Input: {question}\n",
    "Standalone question:\"\"\"\n",
    "from langchain.chains.conversational_retrieval.prompts import CONDENSE_QUESTION_PROMPT"
   ]
  },
  {
   "cell_type": "code",
   "execution_count": 12,
   "metadata": {},
   "outputs": [],
   "source": [
    "from langchain.llms import OpenAI\n",
    "from langchain.chains import ConversationalRetrievalChain"
   ]
  },
  {
   "cell_type": "code",
   "execution_count": 58,
   "metadata": {},
   "outputs": [],
   "source": [
    "qa = ConversationalRetrievalChain.from_llm(OpenAI(temperature=0, openai_api_key=openai_api_key), faiss_index.as_retriever(), return_source_documents=True)"
   ]
  },
  {
   "cell_type": "code",
   "execution_count": 59,
   "metadata": {},
   "outputs": [],
   "source": [
    "chat_history = []\n",
    "query = \"Summarize the invention in US patent 7,272,991?\"\n",
    "result = qa({\"question\": query, \"chat_history\": chat_history})"
   ]
  },
  {
   "cell_type": "code",
   "execution_count": 60,
   "metadata": {},
   "outputs": [
    {
     "data": {
      "text/plain": [
       "{'question': 'Summarize the invention in US patent 7,272,991?',\n",
       " 'chat_history': [],\n",
       " 'answer': ' US patent 8,061,041 B2 is for a safety razor with an electronic control device. The device includes a handle with a neck member, and two contact members extending from the neck member. The contact members are configured to resiliently bend. The electronic control device is electrically coupled to the at least one blade and includes a switch for controlling operation of the device between a normal mode and a low power consumption mode. The device also includes an indicator for producing a signal for indicating to a razor user that the electronic control device is connected to a power source and ready to actuate the electrical device.',\n",
       " 'source_documents': [Document(page_content='US 8,061,041 B2 \\n Page 2 \\n U.S. PATENT DOCUMENTS 2008/0289185 A1* 11/2008 Clarke ........................... 30, 41.5 \\n 2009 OOO7433 A1* 1/2009 Hawes et al. ... 30.45 \\n 6,406,157 B1 6/2002 Audet 2009 OO19701 A1* 1/2009 Simms et al. ... 30.32 \\n 6.421,918 B1 7/2002 Dato et al. 2009/007 1008 A1 3/2009 Hart et al. .................... 30, 34.05 \\n 6,460,251 B1 10/2002 Orloff 2009/007101.0 A1 3/2009 Hart .................................. 3Of 45 \\n 6,481,104 B1 1.583 E. et al. 2009/01 19923 A1* 5, 2009 Hart et al. ....... ... 30.45 \\n 9.68: 583 SE a 30, 34.05 2009, 02551 23 A1* 10, 2009 Tomassetti et al. .......... 30, 34.05 \\n 7,367,126 B2 * 5/2008 Freund et al. ... 30.34.05 FOREIGN PATENT DOCUMENTS 7,415,767 B2* 8/2008 Saker et al. . 30, 34.05 7,441,336 B2 * 10/2008 Hawes et al. ..................... 30/45 DE 3.122521 12/1982 \\n 7,596,866 B2 * 10/2009 Saker et al. ... ... 30.45 DE 4228859 3, 1994 \\n 7,637,014 B2 * 12/2009 Schnak et al. .................... 30, 44 DE 19627734 1, 1998 \\n 7,654,003 B2 * 2/2010 Simms et al. .. 30, 34.05 DE 2011.3379 12/2001 \\n 7,669,335 B2 * 3/2010 Walker et al. .................. 30, 34.1 DE 2O2O1967 6, 2002 \\n 7,703,209 B2 * 4/2010 Freund et al. .................. 30,417 DE 1.0117766 10, 2002 \\n 7,810,243 B2 * 10/2010 Schnak et al. .................... 30, 44 EP O 524708 1, 1993 \\n 2002/0088068 A1 7/2002 Levy et al. GB 2054 151 2, 1981 \\n 2002fO1891 O2 A1 12, 2002 Orloff GB 2074322 10, 1981 \\n 2003/0000032 A1 1/2003 Lev GB 2 250 428 6, 1992 \\n 2003/0154832 A1 8/2003 Guimont et al. GB 2258,922 2, 1993 \\n 2004/0098862 A1* 5, 2004 Orloff ............................ 30, 41.8 GB 2361889 11, 2001 \\n 2004/0261270 A1* 12/2004 Daryanani 30, 34.05 GB 2 377 995 1, 2003 \\n 2006/0032053 A1 2/2006 Saker et al. .................. 30, 34.05 JP 05-329024 12/1993 \\n 2006/0032054 A1 2/2006 Simms et al. ................ 30, 34.05 JP 09-051740 2, 1997 \\n 2006/0032055 A1 2/2006 Simms et al. ................... 3Of 537 RU 2180 880 3, 2002 \\n 2006, 0037197 A1 2/2006 Hawes et al. WO WO94,05229 3, 1994 \\n 2007/0050983 A1 3f2007 Schnak et al. .................... 30/45 WO WO96,05028 2, 1996 \\n 2008, OO16692 A1* 1/2008 Noble ...... ... 30.41.5 WO WOO2,45920 6, 2002 \\n 2008/013451 1 A1* 6/2008 Salvatore .......................... o, WO WO 2004/073941 9, 2004 \\n 2008/0271319 A1* 11/2008 Saker et al. ....................... 30/45 * cited by examiner', metadata={'source': 'example_data/Jessemey_et_al_2011.pdf', 'page': 1}),\n",
       "  Document(page_content='US 8,061,041 B2 \\n ond contact members opposedly extending from the neck \\n member, each of said contact members having a contact Sur face disposed in a second plane, wherein the contact members are configured to resiliently bend. \\n 7. The safety razor of claim 1, wherein the electronic con trol device is electrically coupled to the at least one blade. \\n 8. The safety razor of claim 1 further comprising a switch for controlling operation of the electronic control device \\n between a normal mode and a low power consumption mode. \\n 9. The safety razor of claim 8, wherein the switch is \\n included in the handle. \\n 10. The safety razor of claim 1, wherein the electrically \\n operated device is a motor. 10 10 \\n 11. The safety razor of claim 1 further comprising an indi cator for producing a signal for indicating to a razor user that \\n the electronic control device is connected to a power source \\n and ready to actuate the electrical device. \\n 12. The safety razor of claim 11, wherein the indicator comprises a light emitting device. \\n 13. The safety razor of claim 12, wherein the light emitting \\n device is a diode. \\n 14. The safety razor of claim 11, wherein the indicator \\n produces an oscillation or vibration of the razor. \\n 15. The safety razor of claim 11, wherein the indicator generates an audible signal. \\n k k k k k', metadata={'source': 'example_data/Jessemey_et_al_2011.pdf', 'page': 19}),\n",
       "  Document(page_content='U.S. Patent Nov. 22, 2011 Sheet 13 of 13 US 8,061,041 B2 \\n FIG. 16B \\n 142 Start touch sensing routine \\n TOuch \\n detected? Start TOUCh Counting detected? \\n 150 delay \\n 152 \\n Activate Deactivate \\n mOtOr mOtOr \\n 148 \\n 146', metadata={'source': 'example_data/Jessemey_et_al_2011.pdf', 'page': 14}),\n",
       "  Document(page_content='U.S. Patent Nov. 22, 2011 Sheet 12 of 13 US 8,061,041 B2 \\n 122 Insert battery \\n FIG. 16A -120 \\n Initialize \\n Controller 124 \\n Enter sleep mode 128 \\n Configure 130 \\n Controller for touch sensing \\n 132 \\n Run touch Sensing \\n routine \\n 134', metadata={'source': 'example_data/Jessemey_et_al_2011.pdf', 'page': 13})]}"
      ]
     },
     "execution_count": 60,
     "metadata": {},
     "output_type": "execute_result"
    }
   ],
   "source": [
    "result"
   ]
  },
  {
   "cell_type": "code",
   "execution_count": 17,
   "metadata": {},
   "outputs": [
    {
     "data": {
      "text/plain": [
       "7"
      ]
     },
     "execution_count": 17,
     "metadata": {},
     "output_type": "execute_result"
    }
   ],
   "source": [
    "len(faiss_index.docstore._dict)"
   ]
  },
  {
   "cell_type": "code",
   "execution_count": null,
   "metadata": {},
   "outputs": [],
   "source": [
    "llm = OpenAI(temperature=0)\n",
    "# This takes previous questions and answers, along with user input, and combines them into a new standalone question.\n",
    "question_generator = LLMChain(llm=llm, prompt=CONDENSE_QUESTION_PROMPT)\n",
    "# map_reduce means that doc_chain is applied to each document and then their contents are combined with another LLM before being fed into question_generator\n",
    "# llm serves both as map and reduce llm. Promps seem to be defaults for these two tasks.\n",
    "doc_chain = load_qa_chain(llm, chain_type=\"map_reduce\")\n",
    "\n",
    "chain = ConversationalRetrievalChain(\n",
    "    retriever=faiss_index.as_retriever(),\n",
    "    question_generator=question_generator,\n",
    "    combine_docs_chain=doc_chain,\n",
    ")"
   ]
  }
 ],
 "metadata": {
  "kernelspec": {
   "display_name": "law-project-backend-Kz-JhaCG",
   "language": "python",
   "name": "python3"
  },
  "language_info": {
   "codemirror_mode": {
    "name": "ipython",
    "version": 3
   },
   "file_extension": ".py",
   "mimetype": "text/x-python",
   "name": "python",
   "nbconvert_exporter": "python",
   "pygments_lexer": "ipython3",
   "version": "3.11.0"
  },
  "orig_nbformat": 4,
  "vscode": {
   "interpreter": {
    "hash": "44494df1af92ede321266b96908922b8eae1fd08879211d2cc94f1824e1b253c"
   }
  }
 },
 "nbformat": 4,
 "nbformat_minor": 2
}
