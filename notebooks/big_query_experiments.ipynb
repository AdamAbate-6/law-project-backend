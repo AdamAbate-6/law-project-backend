{
 "cells": [
  {
   "cell_type": "code",
   "execution_count": 7,
   "metadata": {},
   "outputs": [],
   "source": [
    "import os\n",
    "from google.cloud import bigquery\n"
   ]
  },
  {
   "attachments": {},
   "cell_type": "markdown",
   "metadata": {},
   "source": [
    "Authenticate with user account (not working, getting 403 \"Access Denied: Project law-project: User does not have bigquery.jobs.create permission in project law-project.\")..."
   ]
  },
  {
   "cell_type": "code",
   "execution_count": null,
   "metadata": {},
   "outputs": [],
   "source": [
    "# Evidently after installing Google Cloud SDK and then running `gcloud auth application-default login` in the Google Cloud SDK shell, all auth issues are resolved\n",
    "# See https://cloud.google.com/sdk/docs/install-sdk?hl=en \n",
    "#  and\n",
    "#  https://cloud.google.com/docs/authentication/provide-credentials-adc#how-to\n",
    "# I didn't even have to install the SDK using this Python environment's interpreter!\n",
    "\n",
    "r'C:\\Users\\abate\\AppData\\Roaming\\gcloud\\application_default_credentials.json'"
   ]
  },
  {
   "attachments": {},
   "cell_type": "markdown",
   "metadata": {},
   "source": [
    "OR... authenticate with service account"
   ]
  },
  {
   "cell_type": "code",
   "execution_count": 8,
   "metadata": {},
   "outputs": [],
   "source": [
    "os.environ['GOOGLE_APPLICATION_CREDENTIALS'] = '../law-project-service-account.json'"
   ]
  },
  {
   "cell_type": "code",
   "execution_count": 9,
   "metadata": {},
   "outputs": [],
   "source": [
    "# client = bigquery.Client(project='law-project')\n",
    "# Tried above with user account. Trying below with service account.\n",
    "client = bigquery.Client()"
   ]
  },
  {
   "cell_type": "code",
   "execution_count": 10,
   "metadata": {},
   "outputs": [
    {
     "name": "stdout",
     "output_type": "stream",
     "text": [
      "Mary\n",
      "Roberta\n",
      "Marguerite\n",
      "Katie\n",
      "Eunice\n",
      "Nell\n",
      "Bonnie\n",
      "Susie\n",
      "Marguerite\n",
      "Carmen\n",
      "Eva\n",
      "Hazel\n",
      "Mattie\n",
      "Jewell\n",
      "Margaret\n",
      "Bessie\n",
      "Vivian\n",
      "Francisca\n",
      "Bernice\n",
      "Ella\n",
      "Christine\n",
      "Julia\n",
      "Lula\n",
      "Billie\n",
      "Lou\n",
      "Catherine\n",
      "Claudia\n",
      "Hattie\n",
      "Maxine\n",
      "Sarah\n",
      "Lucile\n",
      "Minnie\n",
      "Addie\n",
      "Ernestine\n",
      "Janie\n",
      "Melba\n",
      "Della\n",
      "Sadie\n",
      "Virginia\n",
      "Ima\n",
      "Dolores\n",
      "Ruth\n",
      "Maurine\n",
      "Odessa\n",
      "Manuela\n",
      "Josefa\n",
      "Isabel\n",
      "Antonia\n",
      "Elisa\n",
      "Esther\n",
      "Rosie\n",
      "Sylvia\n",
      "Ada\n",
      "Cecilia\n",
      "Ruth\n",
      "Nell\n",
      "Rebecca\n",
      "Dora\n",
      "Willie\n",
      "Susie\n",
      "Vera\n",
      "Roberta\n",
      "Lola\n",
      "Reba\n",
      "Santos\n",
      "Juanita\n",
      "Verna\n",
      "Lois\n",
      "Cleo\n",
      "Ima\n",
      "Maggie\n",
      "Rebecca\n",
      "Florine\n",
      "Freddie\n",
      "Johnnie\n",
      "Grace\n",
      "Adela\n",
      "Bennie\n",
      "Estelle\n",
      "Johnie\n",
      "Nellie\n",
      "Eva\n",
      "Nora\n",
      "Charlie\n",
      "Georgia\n",
      "Verna\n",
      "Olivia\n",
      "Earline\n",
      "Cecilia\n",
      "Anita\n",
      "Eddie\n",
      "Johnnie\n",
      "Lois\n",
      "Kathleen\n",
      "Virginia\n",
      "Rita\n",
      "Elida\n",
      "Billie\n",
      "Ida\n",
      "Elizabeth\n"
     ]
    }
   ],
   "source": [
    "# Perform a query.\n",
    "QUERY = (\n",
    "    'SELECT name FROM `bigquery-public-data.usa_names.usa_1910_2013` '\n",
    "    'WHERE state = \"TX\" '\n",
    "    'LIMIT 100')\n",
    "query_job = client.query(QUERY)  # API request\n",
    "rows = query_job.result()  # Waits for query to finish\n",
    "\n",
    "for row in rows:\n",
    "    print(row.name)"
   ]
  },
  {
   "cell_type": "code",
   "execution_count": null,
   "metadata": {},
   "outputs": [
    {
     "data": {
      "text/plain": [
       "Row(('Mary',), {'name': 0})"
      ]
     },
     "execution_count": 15,
     "metadata": {},
     "output_type": "execute_result"
    }
   ],
   "source": [
    "[r for r in query_job.result()][0]"
   ]
  },
  {
   "cell_type": "markdown",
   "metadata": {},
   "source": [
    "## Now try a patents example"
   ]
  },
  {
   "cell_type": "code",
   "execution_count": 27,
   "metadata": {},
   "outputs": [
    {
     "name": "stdout",
     "output_type": "stream",
     "text": [
      "US-8950002-B2\n",
      "What is claimed is: \n",
      "     \n",
      "       1. An apparatus comprising:\n",
      " a memory that stores a plurality of tokens indicating that a user is attempting to access a resource; and \n",
      " a processor that:\n",
      " determines a related resource that shares a relationship with the resource, wherein:\n",
      " the resource is a composite resource; \n",
      " the related resource is a sub-resource of the composite resource; and \n",
      " the related resource is accessed in conjunction with accessing the resource; \n",
      " \n",
      " receives a risk token computed based at least in part upon the resource and the related resource; \n",
      " determines a numeric authorization level for the user based at least in part upon the plurality of tokens and the risk token, the numeric authorization level indicating whether the user is authorized to access the resource, wherein the composite resource comprises at least one sub-resource that the user is not authorized to access based on the numeric authorization level and at least one sub-resource that the user is authorized to access based on the numeric authorization level; \n",
      " compares the numeric authorization level to a numeric threshold; \n",
      " determines, based at least in part on the comparison between the numeric authorization level and the numeric threshold, that the user is authorized to access the related resource; \n",
      " communicates a decision token indicating that the user is authorized to access the resource and the related resource; \n",
      " receives a recomputed risk token computed based at least in part upon:\n",
      " a form of authentication performed by the user; and \n",
      " the presence of network jitter; \n",
      " \n",
      " re-determines determine the numeric authorization level based at least in part upon the recomputed risk token; \n",
      " determines, based at least in part upon the recomputed risk token, that the user is authorized to access the at least one sub-resource; and \n",
      " communicates a second decision token indicating that the user is authorized to access the resource, the related resource, and the at least one sub-resource. \n",
      " \n",
      " \n",
      "     \n",
      "     \n",
      "       2. The apparatus of  claim 1 , the memory further stores a plurality of token-based rules, wherein a token-based rule facilitates the determination of the related resource. \n",
      "     \n",
      "     \n",
      "       3. The apparatus of  claim 1 , wherein the determination of the related resource is based on a token-based rule. \n",
      "     \n",
      "     \n",
      "       4. A method for determining resource contexts comprising:\n",
      " storing a plurality of tokens indicating that a user is attempting to access a resource; \n",
      " determining, by the processor, a related resource that shares a relationship with the resource, wherein:\n",
      " the resource is a composite resource; \n",
      " the related resource is a sub-resource of the composite resource; and \n",
      " the related resource is accessed in conjunction with accessing the resource; \n",
      " \n",
      " receiving a risk token computed based at least in part upon the resource and the related resource; \n",
      " determining, by a processor, a numeric authorization level for the user based at least in part upon the plurality of tokens and the risk token, the numeric authorization level indicating whether the user is authorized to access the resource, wherein the composite resource comprises at least one sub-resource that the user is not authorized to access based on the numeric authorization level and at least one sub-resource that the user is authorized to access based on the numeric authorization level; \n",
      " comparing, by the processor, the numeric authorization level to a numeric threshold; \n",
      " determining, by the processor, based at least in part on the comparison between the numeric authorization level and the numeric threshold, that the user is authorized to access the related resource; \n",
      " communicating a decision token indicating that the user is authorized to access the resource and the related resource; \n",
      " receiving a recomputed risk token computed based at least in part upon:\n",
      " a form of authentication performed by the user; and \n",
      " the presence of network jitter; \n",
      " \n",
      " re-determining, by the processor, the numeric authorization level based at least in part upon the recomputed risk token; \n",
      " determining, by the processor, based at least in part upon the recomputed risk token, that the user is authorized to access the at least one sub-resource; and \n",
      " communicating a second decision token indicating that the user is authorized to access the resource, the related resource, and the at least one sub-resource. \n",
      " \n",
      "     \n",
      "     \n",
      "       5. The method of  claim 4 , further comprising storing a plurality of token-based rules, wherein a token-based rule facilitates the determination of the related resource. \n",
      "     \n",
      "     \n",
      "       6. The method of  claim 4 , wherein the determination of the related resource is based on a token-based rule. \n",
      "     \n",
      "     \n",
      "       7. One or more computer-readable non-transitory storage media embodying software that when executed:\n",
      " stores a plurality of tokens indicating that a user is attempting to access a resource; and \n",
      " determines a related resource that shares a relationship with the resource, wherein:\n",
      " the resource is a composite resource; \n",
      " the related resource is a sub-resource of the composite resource; and \n",
      " the related resource is accessed in conjunction with accessing the resource; \n",
      " \n",
      " receives a risk token computed based at least in part upon the resource and the related resource; \n",
      " determines a numeric authorization level for the user based at least in part upon the plurality of tokens and the risk token, the numeric authorization level indicating whether the user is authorized to access the resource, wherein the composite resource comprises at least one sub-resource that the user is not authorized to access and at least one sub-resource that the user is authorized to access; \n",
      " compares the numeric authorization level to a numeric threshold; \n",
      " determines, based at least in part on the comparison between the numeric authorization level and the numeric threshold, that the user is authorized to access the related resource; \n",
      " communicates a decision token indicating that the user is authorized to access the resource and the related resource; \n",
      " receives a recomputed risk token computed based at least in part upon:\n",
      " a form of authentication performed by the user; and \n",
      " the presence of network jitter; \n",
      " \n",
      " re-determines determine the numeric authorization level based at least in part upon the recomputed risk token; \n",
      " determines, based at least in part upon the recomputed risk token, that the user is authorized to access the at least one sub-resource; and \n",
      " communicates a second decision token indicating that the user is authorized to access the resource, the related resource, and the at least one sub-resource. \n",
      " \n",
      "     \n",
      "     \n",
      "       8. The media of  claim 7  embodying software that when executed further stores a plurality of token-based rules, wherein a token-based rule facilitates the determination of the related resource. \n",
      "     \n",
      "     \n",
      "       9. The media of  claim 7 , wherein the determination of the related resource is based on a token-based rule.\n"
     ]
    }
   ],
   "source": [
    "# Perform a query. Need to UNNEST the struct of string arrays in several fields.\n",
    "QUERY = (\n",
    "    'SELECT publication_number as pn, t.text as title,  a.text as abs, c.text as claims '\n",
    "    'FROM `patents-public-data.patents.publications`, UNNEST(title_localized) as t, UNNEST(abstract_localized) as a,  UNNEST(claims_localized) as c '\n",
    "    'WHERE spif_publication_number = \"US8950002B2\" '\n",
    "    'LIMIT 100')\n",
    "query_job = client.query(QUERY)  # API request\n",
    "rows = query_job.result()  # Waits for query to finish\n",
    "\n",
    "for row in rows:\n",
    "    print(row.pn)\n",
    "    print(row.claims)"
   ]
  }
 ],
 "metadata": {
  "kernelspec": {
   "display_name": "law-project-backend-Kz-JhaCG",
   "language": "python",
   "name": "python3"
  },
  "language_info": {
   "codemirror_mode": {
    "name": "ipython",
    "version": 3
   },
   "file_extension": ".py",
   "mimetype": "text/x-python",
   "name": "python",
   "nbconvert_exporter": "python",
   "pygments_lexer": "ipython3",
   "version": "3.11.0"
  },
  "orig_nbformat": 4,
  "vscode": {
   "interpreter": {
    "hash": "44494df1af92ede321266b96908922b8eae1fd08879211d2cc94f1824e1b253c"
   }
  }
 },
 "nbformat": 4,
 "nbformat_minor": 2
}
